{
 "cells": [
  {
   "cell_type": "markdown",
   "metadata": {},
   "source": [
    "<h1>Logistical Regression</h1>"
   ]
  },
  {
   "cell_type": "code",
   "execution_count": 1,
   "metadata": {},
   "outputs": [],
   "source": [
    "from IPython.display import HTML\n",
    "from datetime import datetime\n",
    "from sklearn.preprocessing import StandardScaler\n",
    "from sklearn.linear_model import LogisticRegression\n",
    "from sklearn.ensemble import RandomForestClassifier\n",
    "from sklearn.model_selection import train_test_split, cross_val_score, cross_val_predict\n",
    "from sklearn import metrics\n",
    "import pandas as pd\n",
    "import numpy as np\n",
    "import seaborn as sns\n",
    "import matplotlib.pyplot as plt\n",
    "import pymysql\n",
    "plt.style.use('Solarize_Light2')\n",
    "%matplotlib inline\n",
    "# Increase default figure and font sizes for easier viewing.\n",
    "plt.rcParams['figure.figsize'] = (16, 9)\n",
    "plt.rcParams['font.size'] = 14"
   ]
  },
  {
   "cell_type": "code",
   "execution_count": 2,
   "metadata": {},
   "outputs": [
    {
     "name": "stdout",
     "output_type": "stream",
     "text": [
      "CPU times: user 609 ms, sys: 66.9 ms, total: 676 ms\n",
      "Wall time: 16.5 s\n"
     ]
    }
   ],
   "source": [
    "%%time\n",
    "host = 'sydney-fp-test.clgfypx3smmh.ap-southeast-2.rds.amazonaws.com'\n",
    "database = 'fitnessplayground'\n",
    "user = 'fpdb'\n",
    "passw = 'fsmbfp2017'\n",
    "conn = pymysql.connect(host = host, db=database, user=user, password=passw)\n",
    "membership_query = \"\"\"\n",
    "SELECT enrol.createDate, enrol.gymName, enrol.staffName, enrol.membershipType, enrol.trainingStarterPack, \n",
    "enrol.noMinimumTerm, enrol.couponButton, enrol.gender, enrol.dob, enrol.zip, cxl.createDate, cxl.nps, cxl.staffName, cxl.cxlReason, \n",
    "DATEDIFF(cxl.createDate, enrol.createDate) as Tenure \n",
    "FROM EnrolmentSubmissionData enrol LEFT JOIN CancellationSubmissionData cxl \n",
    "ON enrol.email = cxl.email AND enrol.phone = cxl.phone \n",
    "WHERE DATEDIFF(cxl.createDate, enrol.createDate) > 0 \n",
    "OR DATEDIFF(cxl.createDate, enrol.createDate) IS NULL\n",
    "\"\"\"\n",
    "\n",
    "# tenure_query = \"\"\"\n",
    "# SELECT enrol.dob, enrol.ongoingFnDirectDebitTotal, DATEDIFF(cxl.createDate, enrol.createDate) as tenure, cxl.nps, enrol.zip \n",
    "# FROM EnrolmentSubmissionData enrol \n",
    "# INNER JOIN CancellationSubmissionData cxl ON enrol.phone = cxl.phone AND enrol.email = cxl.email \n",
    "# WHERE DATEDIFF(cxl.createDate, enrol.createDate) > 0\n",
    "# AND cxl.nps IS NOT NULL\n",
    "# AND enrol.ongoingFnDirectDebitTotal IS NOT NULL\n",
    "# AND enrol.dob IS NOT NULL\n",
    "# ORDER BY 2 DESC;\n",
    "# \"\"\"\n",
    "\n",
    "# conn_str = \"host='{}' db='{}' user='{}' password='{}'\".format(host, database, user, passw)\n",
    "# conn = pymysql.connect(conn_str)\n",
    "conn = pymysql.connect(host = host, db=database, user=user, password=passw)\n",
    "membership = pd.read_sql(membership_query, con=conn)\n",
    "membership.columns = ['Start_Date','Gym_Location','Enrol_Staff_Name','Membership_Type','Training_Starter_Pack','Twelve_Month_Contract','Coupon','Gender','DOB','Postcode','Cancel_Date','NPS','Cancel_Staff_Name','Cancellation_Reason','Tenure']\n",
    "# tenure = pd.read_sql(tenure_query, con=conn)\n",
    "conn.close()"
   ]
  },
  {
   "cell_type": "code",
   "execution_count": 3,
   "metadata": {},
   "outputs": [],
   "source": [
    "membership['DOB'] = pd.to_datetime(membership['DOB'])\n",
    "membership['Age'] = datetime.now().year - membership['DOB'].dt.year"
   ]
  },
  {
   "cell_type": "code",
   "execution_count": 4,
   "metadata": {},
   "outputs": [
    {
     "data": {
      "text/plain": [
       "(8406, 16)"
      ]
     },
     "execution_count": 4,
     "metadata": {},
     "output_type": "execute_result"
    }
   ],
   "source": [
    "membership.shape"
   ]
  },
  {
   "cell_type": "code",
   "execution_count": 5,
   "metadata": {},
   "outputs": [
    {
     "data": {
      "text/plain": [
       "Start_Date               datetime64[ns]\n",
       "Gym_Location                     object\n",
       "Enrol_Staff_Name                 object\n",
       "Membership_Type                  object\n",
       "Training_Starter_Pack            object\n",
       "Twelve_Month_Contract            object\n",
       "Coupon                           object\n",
       "Gender                           object\n",
       "DOB                      datetime64[ns]\n",
       "Postcode                         object\n",
       "Cancel_Date              datetime64[ns]\n",
       "NPS                              object\n",
       "Cancel_Staff_Name                object\n",
       "Cancellation_Reason              object\n",
       "Tenure                          float64\n",
       "Age                             float64\n",
       "dtype: object"
      ]
     },
     "execution_count": 5,
     "metadata": {},
     "output_type": "execute_result"
    }
   ],
   "source": [
    "membership.dtypes"
   ]
  },
  {
   "cell_type": "code",
   "execution_count": 6,
   "metadata": {},
   "outputs": [],
   "source": [
    "membership['member_has_cancelled'] = np.where(membership.Cancel_Date.isnull(), 0, 1)\n",
    "# membership['has_cancelled']"
   ]
  },
  {
   "cell_type": "markdown",
   "metadata": {},
   "source": [
    "<h2>Set Target variable. Has the member cancelled their Membership?</h2>\n",
    "<h5>1 = True, the member has cancelled their memebership</h5>\n",
    "<h5>0 = False, the member has NOT cancelled their memebership</h5>"
   ]
  },
  {
   "cell_type": "code",
   "execution_count": 7,
   "metadata": {},
   "outputs": [
    {
     "data": {
      "text/plain": [
       "0    6376\n",
       "1    2030\n",
       "Name: member_has_cancelled, dtype: int64"
      ]
     },
     "execution_count": 7,
     "metadata": {},
     "output_type": "execute_result"
    }
   ],
   "source": [
    "membership.member_has_cancelled.value_counts()"
   ]
  },
  {
   "cell_type": "markdown",
   "metadata": {},
   "source": [
    "<h2>Clean the Data</h2>"
   ]
  },
  {
   "cell_type": "code",
   "execution_count": 8,
   "metadata": {},
   "outputs": [
    {
     "data": {
      "text/plain": [
       "(array([7988, 7989]),)"
      ]
     },
     "execution_count": 8,
     "metadata": {},
     "output_type": "execute_result"
    }
   ],
   "source": [
    "# membership.Training_Starter_Pack.drop()\n",
    "np.where(membership.Training_Starter_Pack.isnull())"
   ]
  },
  {
   "cell_type": "code",
   "execution_count": 9,
   "metadata": {},
   "outputs": [],
   "source": [
    "# axis=0 for rows, 1 for columns\n",
    "# membership.Training_Starter_Pack.drop(membership.index[291], axis=0, inplace=True)\n",
    "# membership.Training_Starter_Pack.drop(membership.index[293], axis=0, inplace=True)\n",
    "# membership.drop(membership.index[291], axis=0, inplace=True)\n",
    "# membership.drop(membership.index[292], axis=0, inplace=True)"
   ]
  },
  {
   "cell_type": "code",
   "execution_count": 10,
   "metadata": {},
   "outputs": [
    {
     "data": {
      "text/plain": [
       "2"
      ]
     },
     "execution_count": 10,
     "metadata": {},
     "output_type": "execute_result"
    }
   ],
   "source": [
    "membership.Training_Starter_Pack.isnull().sum()"
   ]
  },
  {
   "cell_type": "code",
   "execution_count": 11,
   "metadata": {},
   "outputs": [],
   "source": [
    "# membership.Training_Starter_Pack.head(294)"
   ]
  },
  {
   "cell_type": "code",
   "execution_count": 12,
   "metadata": {},
   "outputs": [],
   "source": [
    "membership.Membership_Type = membership.Membership_Type.map(\n",
    "{\n",
    "    'NON-MEMBER':0,\n",
    "    'GYM':1,\n",
    "    'FIT':2,\n",
    "    'PLAY':3,\n",
    "    'BUNKER GYM':4,\n",
    "    'BUNKER PLAY':5\n",
    "})\n",
    "\n",
    "membership.Gym_Location = membership.Gym_Location.map(\n",
    "{\n",
    "    'Bunker':0,\n",
    "    'Gateway':1,\n",
    "    'Marrickville':2,\n",
    "    'Newtown':3,\n",
    "    'Surry Hills':4\n",
    "})\n",
    "\n",
    "membership.Training_Starter_Pack = membership.Training_Starter_Pack.map(\n",
    "    {'I\\'m a Fitness Guru':0, \n",
    "     '0':0, \n",
    "     'One On One':1,\n",
    "     'Personalise Group Training':2,\n",
    "     'Transformer':3,\n",
    "     'Ongoing Personal Training':4\n",
    "    })\n",
    "\n",
    "membership.Gender = membership.Gender.map(\n",
    "{\n",
    "    'Female':0,\n",
    "    'Male':1\n",
    "})\n",
    "\n",
    "membership['Staff_Key'] = membership.Enrol_Staff_Name.map(\n",
    "{\n",
    "    'Stephanie Thomas':0,\n",
    "    'Giannino Terilli':1,\n",
    "    'Luke Wood':2,\n",
    "    'Trung Bui':3,\n",
    "    'George Wall':4,\n",
    "    'Isabella Murphy':5,\n",
    "    'Jodie Fenwick':6,\n",
    "    'Jessica Saffiotti':7,\n",
    "    'Tim Air':8,\n",
    "    'Simon Lee':9,\n",
    "    'Jess Brewster':10,\n",
    "    'Toree Read':11,\n",
    "    'Kris Andre':12,\n",
    "    'Laura Schellenberger':13,\n",
    "    'Emily Wilson':14,\n",
    "    'Acalya Cingoz':15,\n",
    "    'Leanne Forresst':16,\n",
    "    'Lara McKee':17,\n",
    "    'Amy Jamieson':18,\n",
    "    'Jeremy Johnson':19,\n",
    "    'Georgia Shimmin':20,\n",
    "    'Daniel Bowden':21,\n",
    "    'Quintin Venter':22,\n",
    "    'Leanne Forrest':23,\n",
    "    'Tash Zetting':24,\n",
    "    'Dan Bowden':25,\n",
    "    'Carolina Araya':26,\n",
    "    'Leanne Hunt':27,\n",
    "    'Frank Pop':28,\n",
    "    'Dan Dowden':29,\n",
    "    'Hannah Ghaus':30,\n",
    "    'James Garland':31,\n",
    "    'Katie Hayes':32,\n",
    "    'Sam Okojie':33,\n",
    "    'Anthony Novak':34,\n",
    "    'Noren Woo':35,\n",
    "    'Kate Brush':36,\n",
    "    'Francesco Nisi':37\n",
    "})\n",
    "\n",
    "membership.Twelve_Month_Contract.replace('10 | Yes + $5.00 per week',1, inplace=True)\n",
    "membership.Twelve_Month_Contract.replace('10.00 | Yes + $5.00 per week',1, inplace=True)\n",
    "membership.Twelve_Month_Contract.replace('Yes + $5.00 per week',1, inplace=True)\n",
    "membership.Twelve_Month_Contract.replace('$10.00 | Yes + $5.00 per week',1, inplace=True)\n",
    "membership.Twelve_Month_Contract.replace('0 | No Thank You',0, inplace=True)\n",
    "membership.Twelve_Month_Contract.replace('No Thank You',0, inplace=True)\n",
    "membership.Twelve_Month_Contract.fillna(0, inplace=True)\n",
    "membership.Coupon.replace('Apply Coupon?',1, inplace=True)\n",
    "membership.Coupon.replace('Apply Coupon',1, inplace=True)\n",
    "membership.Coupon.replace('Cancel',0, inplace=True)\n",
    "membership.fillna(0, inplace=True)"
   ]
  },
  {
   "cell_type": "markdown",
   "metadata": {},
   "source": [
    "<h2>Double Check the Data</h2>"
   ]
  },
  {
   "cell_type": "code",
   "execution_count": 13,
   "metadata": {},
   "outputs": [],
   "source": [
    "# membership.Training_Starter_Pack.value_counts()\n",
    "# membership.Staff_Key.isnull().sum()\n",
    "# membership.Enrol_Staff_Name.isnull().sum()\n",
    "# membership.Enrol_Staff_Name.value_counts()"
   ]
  },
  {
   "cell_type": "code",
   "execution_count": 14,
   "metadata": {},
   "outputs": [
    {
     "data": {
      "text/plain": [
       "Index(['Start_Date', 'Gym_Location', 'Enrol_Staff_Name', 'Membership_Type',\n",
       "       'Training_Starter_Pack', 'Twelve_Month_Contract', 'Coupon', 'Gender',\n",
       "       'DOB', 'Postcode', 'Cancel_Date', 'NPS', 'Cancel_Staff_Name',\n",
       "       'Cancellation_Reason', 'Tenure', 'Age', 'member_has_cancelled',\n",
       "       'Staff_Key'],\n",
       "      dtype='object')"
      ]
     },
     "execution_count": 14,
     "metadata": {},
     "output_type": "execute_result"
    }
   ],
   "source": [
    "membership.columns"
   ]
  },
  {
   "cell_type": "markdown",
   "metadata": {},
   "source": [
    "<h2>Check the Data</h2>"
   ]
  },
  {
   "cell_type": "code",
   "execution_count": 21,
   "metadata": {},
   "outputs": [],
   "source": [
    "features = ['Staff_Key','Membership_Type','Gym_Location','Twelve_Month_Contract','Coupon','Gender','Age']#,'member_has_cancelled']"
   ]
  },
  {
   "cell_type": "code",
   "execution_count": 16,
   "metadata": {},
   "outputs": [
    {
     "name": "stdout",
     "output_type": "stream",
     "text": [
      "0.0     829\n",
      "1.0     749\n",
      "2.0     720\n",
      "3.0     710\n",
      "4.0     693\n",
      "5.0     599\n",
      "6.0     514\n",
      "7.0     382\n",
      "8.0     363\n",
      "9.0     315\n",
      "11.0    283\n",
      "10.0    281\n",
      "12.0    277\n",
      "13.0    259\n",
      "14.0    190\n",
      "15.0    164\n",
      "21.0    150\n",
      "16.0    146\n",
      "18.0    138\n",
      "17.0    135\n",
      "20.0    112\n",
      "19.0    108\n",
      "22.0    101\n",
      "23.0     59\n",
      "24.0     50\n",
      "26.0     20\n",
      "28.0     18\n",
      "27.0     15\n",
      "30.0     11\n",
      "31.0      5\n",
      "32.0      3\n",
      "34.0      2\n",
      "33.0      2\n",
      "35.0      1\n",
      "36.0      1\n",
      "37.0      1\n",
      "Name: Staff_Key, dtype: int64\n",
      "1    4285\n",
      "3    3001\n",
      "2     707\n",
      "4     235\n",
      "5     177\n",
      "0       1\n",
      "Name: Membership_Type, dtype: int64\n",
      "3    2070\n",
      "4    2030\n",
      "1    1965\n",
      "2    1928\n",
      "0     413\n",
      "Name: Gym_Location, dtype: int64\n",
      "0.0    6241\n",
      "1.0    2165\n",
      "Name: Twelve_Month_Contract, dtype: int64\n",
      "1.0    5362\n",
      "0.0    3044\n",
      "Name: Coupon, dtype: int64\n",
      "0    4290\n",
      "1    4116\n",
      "Name: Gender, dtype: int64\n",
      "26.0    605\n",
      "28.0    565\n",
      "27.0    550\n",
      "25.0    538\n",
      "24.0    488\n",
      "29.0    472\n",
      "31.0    416\n",
      "30.0    409\n",
      "23.0    406\n",
      "32.0    319\n",
      "33.0    304\n",
      "22.0    301\n",
      "21.0    249\n",
      "34.0    242\n",
      "35.0    204\n",
      "36.0    198\n",
      "20.0    186\n",
      "37.0    178\n",
      "19.0    160\n",
      "38.0    139\n",
      "39.0    136\n",
      "40.0    121\n",
      "0.0      99\n",
      "18.0     90\n",
      "41.0     87\n",
      "42.0     84\n",
      "43.0     79\n",
      "17.0     72\n",
      "44.0     69\n",
      "45.0     60\n",
      "       ... \n",
      "50.0     36\n",
      "53.0     30\n",
      "15.0     27\n",
      "57.0     26\n",
      "52.0     23\n",
      "55.0     22\n",
      "51.0     21\n",
      "54.0     20\n",
      "58.0     16\n",
      "59.0     12\n",
      "56.0     12\n",
      "14.0     11\n",
      "60.0      9\n",
      "61.0      7\n",
      "62.0      6\n",
      "65.0      4\n",
      "64.0      4\n",
      "67.0      4\n",
      "70.0      3\n",
      "13.0      3\n",
      "1.0       3\n",
      "63.0      3\n",
      "66.0      2\n",
      "71.0      1\n",
      "82.0      1\n",
      "91.0      1\n",
      "83.0      1\n",
      "72.0      1\n",
      "85.0      1\n",
      "74.0      1\n",
      "Name: Age, Length: 65, dtype: int64\n",
      "0    6376\n",
      "1    2030\n",
      "Name: member_has_cancelled, dtype: int64\n"
     ]
    }
   ],
   "source": [
    "membership_a = membership[features]\n",
    "for feat in features:\n",
    "    print(membership_a[feat].value_counts())"
   ]
  },
  {
   "cell_type": "markdown",
   "metadata": {},
   "source": [
    "<h2>Build the Model</h2>"
   ]
  },
  {
   "cell_type": "markdown",
   "metadata": {},
   "source": [
    "**Set Feature Variables. y = member_has_cancelled.**"
   ]
  },
  {
   "cell_type": "code",
   "execution_count": 18,
   "metadata": {},
   "outputs": [],
   "source": [
    "# membership_a[features]\n",
    "# memberships_scaled"
   ]
  },
  {
   "cell_type": "code",
   "execution_count": 23,
   "metadata": {},
   "outputs": [
    {
     "data": {
      "text/plain": [
       "LogisticRegression(C=1.0, class_weight='balanced', dual=False,\n",
       "          fit_intercept=True, intercept_scaling=1, max_iter=100,\n",
       "          multi_class='ovr', n_jobs=1, penalty='l2', random_state=None,\n",
       "          solver='liblinear', tol=0.0001, verbose=0, warm_start=False)"
      ]
     },
     "execution_count": 23,
     "metadata": {},
     "output_type": "execute_result"
    }
   ],
   "source": [
    "# X and y features\n",
    "X1 = membership_a[features]#.drop('member_has_cancelled', axis =1)\n",
    "y1 = membership_a['member_has_cancelled']\n",
    "\n",
    "# Implement this and see if it improves the model\n",
    "scaler = StandardScaler()\n",
    "memberships_scaled = pd.DataFrame(scaler.fit_transform(X1)) \n",
    "memberships_scaled.columns = features\n",
    "# X_test = scaler.transform(X_test)\n",
    "\n",
    "membership_md1 = pd.get_dummies(memberships_scaled)#, drop_first = True) # this drops the first column\n",
    "# weight = balanced made a huge difference\n",
    "LogReg1 = LogisticRegression(class_weight='balanced')\n",
    "\n",
    "# using train test split to cross val\n",
    "x_train1, x_test1, y_train1, y_test1 = train_test_split(memberships_scaled, y1, random_state =423)\n",
    "\n",
    "# fit model\n",
    "LogReg1.fit(x_train1, y_train1)"
   ]
  },
  {
   "cell_type": "code",
   "execution_count": null,
   "metadata": {},
   "outputs": [],
   "source": [
    "membership_md1.head()"
   ]
  },
  {
   "cell_type": "markdown",
   "metadata": {},
   "source": [
    "**Get the Coefficient for each feature.**\n",
    "\n",
    "*Seems like `Twelve_Month_Contract, Coupon, Gender` carry that largest coef.*"
   ]
  },
  {
   "cell_type": "code",
   "execution_count": 26,
   "metadata": {},
   "outputs": [
    {
     "name": "stdout",
     "output_type": "stream",
     "text": [
      "[[ 0.00225596 -0.05186791  0.11605001  0.27954411 -0.24971725 -0.14796981\n",
      "  -0.13596793]]\n"
     ]
    },
    {
     "data": {
      "text/html": [
       "<div>\n",
       "<style scoped>\n",
       "    .dataframe tbody tr th:only-of-type {\n",
       "        vertical-align: middle;\n",
       "    }\n",
       "\n",
       "    .dataframe tbody tr th {\n",
       "        vertical-align: top;\n",
       "    }\n",
       "\n",
       "    .dataframe thead th {\n",
       "        text-align: right;\n",
       "    }\n",
       "</style>\n",
       "<table border=\"1\" class=\"dataframe\">\n",
       "  <thead>\n",
       "    <tr style=\"text-align: right;\">\n",
       "      <th></th>\n",
       "      <th>Name</th>\n",
       "      <th>Coef</th>\n",
       "    </tr>\n",
       "  </thead>\n",
       "  <tbody>\n",
       "    <tr>\n",
       "      <th>0</th>\n",
       "      <td>Staff_Key  Membership_Type  Gym_Location...</td>\n",
       "      <td>[0.0022559634624640533, 0.05186791048262737, 0...</td>\n",
       "    </tr>\n",
       "  </tbody>\n",
       "</table>\n",
       "</div>"
      ],
      "text/plain": [
       "                                                Name  \\\n",
       "0        Staff_Key  Membership_Type  Gym_Location...   \n",
       "\n",
       "                                                Coef  \n",
       "0  [0.0022559634624640533, 0.05186791048262737, 0...  "
      ]
     },
     "execution_count": 26,
     "metadata": {},
     "output_type": "execute_result"
    }
   ],
   "source": [
    "# name = membership_md1.columns.drop('member_has_cancelled')\n",
    "name = memberships_scaled\n",
    "print(LogReg1.coef_)\n",
    "coef = abs(LogReg1.coef_[0])\n",
    "\n",
    "pd.DataFrame([name,coef],index = ['Name','Coef']).transpose().sort_values(by='Coef', ascending=False)"
   ]
  },
  {
   "cell_type": "code",
   "execution_count": 27,
   "metadata": {},
   "outputs": [
    {
     "data": {
      "text/plain": [
       "0.5913415794481446"
      ]
     },
     "execution_count": 27,
     "metadata": {},
     "output_type": "execute_result"
    }
   ],
   "source": [
    "y_pred = LogReg1.predict(x_test1)\n",
    "metrics.accuracy_score(y_test1,y_pred)"
   ]
  },
  {
   "cell_type": "markdown",
   "metadata": {},
   "source": [
    "<img src=\"https://www.dataschool.io/content/images/2015/01/confusion_matrix2.png\" alt=\"Confusion Matrix\" height=\"500\" width=\"500\">\n",
    "\n"
   ]
  },
  {
   "cell_type": "code",
   "execution_count": 28,
   "metadata": {},
   "outputs": [
    {
     "data": {
      "text/plain": [
       "array([[933, 668],\n",
       "       [191, 310]])"
      ]
     },
     "execution_count": 28,
     "metadata": {},
     "output_type": "execute_result"
    }
   ],
   "source": [
    "metrics.confusion_matrix(y_test1,y_pred)"
   ]
  },
  {
   "cell_type": "markdown",
   "metadata": {},
   "source": [
    "**Receiver operating characteristic**\n",
    "<p>https://en.wikipedia.org/wiki/Receiver_operating_characteristic</p>\n",
    "<p>.90-1 = excellent (A)</p>\n",
    "<p>.80-.90 = good (B)</p>\n",
    "<p>.70-.80 = fair (C)</p>\n",
    "<p>.60-.70 = poor (D)</p>\n",
    "<p>.50-.60 = fail (F)</p>"
   ]
  },
  {
   "cell_type": "code",
   "execution_count": 29,
   "metadata": {},
   "outputs": [
    {
     "data": {
      "text/plain": [
       "0.6007616247829138"
      ]
     },
     "execution_count": 29,
     "metadata": {},
     "output_type": "execute_result"
    }
   ],
   "source": [
    "# Before balancing 0.5051793\n",
    "# weighting ups to 0.660\n",
    "metrics.roc_auc_score(y_test1,y_pred)"
   ]
  },
  {
   "cell_type": "markdown",
   "metadata": {},
   "source": [
    "*Lower is better*"
   ]
  },
  {
   "cell_type": "code",
   "execution_count": null,
   "metadata": {},
   "outputs": [],
   "source": [
    "metrics.log_loss(y_test1,y_pred)"
   ]
  },
  {
   "cell_type": "markdown",
   "metadata": {},
   "source": [
    "<h2>K Folds</h2>"
   ]
  },
  {
   "cell_type": "code",
   "execution_count": 30,
   "metadata": {},
   "outputs": [
    {
     "name": "stdout",
     "output_type": "stream",
     "text": [
      "*____*____*____*____*____*____*____*____*\n",
      "k: 3\n",
      "Cross-Predicted Accuracy: 0.6031406138472519\n",
      "Cross-Predicted Log Loss: 13.707253906492777\n",
      "Cross-Predicted Confusion Matrix:\n",
      " [[4102 2274]\n",
      " [1062  968]]\n",
      "*____*____*____*____*____*____*____*____*\n",
      "k: 4\n",
      "Cross-Predicted Accuracy: 0.5902926481084939\n",
      "Cross-Predicted Log Loss: 14.151031083318571\n",
      "Cross-Predicted Confusion Matrix:\n",
      " [[3848 2528]\n",
      " [ 916 1114]]\n",
      "*____*____*____*____*____*____*____*____*\n",
      "k: 5\n",
      "Cross-Predicted Accuracy: 0.5979062574351653\n",
      "Cross-Predicted Log Loss: 13.88806091125959\n",
      "Cross-Predicted Confusion Matrix:\n",
      " [[3905 2471]\n",
      " [ 909 1121]]\n",
      "*____*____*____*____*____*____*____*____*\n",
      "k: 6\n",
      "Cross-Predicted Accuracy: 0.5869616940280752\n",
      "Cross-Predicted Log Loss: 14.266083963939646\n",
      "Cross-Predicted Confusion Matrix:\n",
      " [[3787 2589]\n",
      " [ 883 1147]]\n",
      "-____-____-____-____-____-____-____-____-\n"
     ]
    }
   ],
   "source": [
    "for folds in range(3,7):\n",
    "    print('*____*____*____*____*____*____*____*____*')\n",
    "    print('k: {}'.format(folds))\n",
    "    model = LogisticRegression(class_weight='balanced')\n",
    "    scores = cross_val_score(model, X1, y1, cv=folds)\n",
    "    predictions = cross_val_predict(model, X1, y1, cv=folds)\n",
    "    accuracy = metrics.accuracy_score(y1,predictions)\n",
    "    confusion_matrix = metrics.confusion_matrix(y1,predictions)\n",
    "    log_loss = metrics.log_loss(y1,predictions)\n",
    "    print(\"Cross-Predicted Accuracy: {}\".format(accuracy))\n",
    "    print(\"Cross-Predicted Log Loss: {}\".format(log_loss))\n",
    "    print(\"Cross-Predicted Confusion Matrix:\\n {}\".format(confusion_matrix))\n",
    "print('-____-____-____-____-____-____-____-____-')"
   ]
  },
  {
   "cell_type": "markdown",
   "metadata": {},
   "source": [
    "**Try improve the model**"
   ]
  },
  {
   "cell_type": "code",
   "execution_count": null,
   "metadata": {},
   "outputs": [],
   "source": [
    "y_pred_prob = LogReg1.predict_proba(x_test1)\n",
    "y_pred_prob"
   ]
  },
  {
   "cell_type": "markdown",
   "metadata": {},
   "source": [
    "Lets try one more thing before we revert to grabbing more features.  Adjusting the probability threshold.\n",
    "\n",
    "Use the `LogisticRegression.predict_proba()` attribute to get the probabilities.\n",
    "\n",
    "The first probability is the for class 0 and the second is for class 1"
   ]
  },
  {
   "cell_type": "code",
   "execution_count": null,
   "metadata": {},
   "outputs": [],
   "source": [
    "y_pred_prob_t = y_pred_prob.transpose()\n",
    "plt.hist(y_pred_prob_t[0])\n",
    "plt.show()\n",
    "plt.hist(y_pred_prob_t[1])"
   ]
  },
  {
   "cell_type": "markdown",
   "metadata": {},
   "source": [
    "** Calculate a new threshold and use it to convert predicted probabilities to output classes**\n",
    "\n",
    "Lets try decreaseing the threshold to %20 predicted probability or higher."
   ]
  },
  {
   "cell_type": "code",
   "execution_count": null,
   "metadata": {},
   "outputs": [],
   "source": [
    "y_pred2=[]\n",
    "for prob in y_pred_prob_t[1]:\n",
    "    if prob > .20:\n",
    "        y_pred2.append(1)\n",
    "    else:\n",
    "        y_pred2.append(0)\n",
    "        \n",
    "print(len(y_pred2))\n",
    "print(len(y_test1))"
   ]
  },
  {
   "cell_type": "code",
   "execution_count": null,
   "metadata": {},
   "outputs": [],
   "source": [
    "y_pred2.count(1)  #Actually made some predictions"
   ]
  },
  {
   "cell_type": "code",
   "execution_count": null,
   "metadata": {},
   "outputs": [],
   "source": [
    "metrics.accuracy_score(y_test1,y_pred2)"
   ]
  },
  {
   "cell_type": "code",
   "execution_count": null,
   "metadata": {},
   "outputs": [],
   "source": [
    "metrics.confusion_matrix(y_test1,y_pred2)"
   ]
  },
  {
   "cell_type": "code",
   "execution_count": null,
   "metadata": {},
   "outputs": [],
   "source": [
    "metrics.roc_auc_score(y_test1,y_pred2)"
   ]
  },
  {
   "cell_type": "code",
   "execution_count": null,
   "metadata": {},
   "outputs": [],
   "source": [
    "metrics.log_loss(y_test1,y_pred2)"
   ]
  },
  {
   "cell_type": "markdown",
   "metadata": {},
   "source": [
    "<h2>Regularization to optimise model.</h2>"
   ]
  },
  {
   "cell_type": "code",
   "execution_count": 32,
   "metadata": {},
   "outputs": [
    {
     "name": "stdout",
     "output_type": "stream",
     "text": [
      "0.5787031277537606  :  0.01\n",
      "0.5821346375143843  :  0.1\n",
      "0.5822681139136836  :  1.0\n",
      "0.5830158409272334  :  10\n",
      "0.5833229662343586  :  100\n"
     ]
    }
   ],
   "source": [
    "# # X and y features\n",
    "# X1 = membership_md1.drop('member_has_cancelled', axis =1)\n",
    "# y1 = membership_md1['member_has_cancelled']\n",
    "\n",
    "X1 = membership_a[features]#.drop('member_has_cancelled', axis =1)\n",
    "y1 = membership_a['member_has_cancelled']\n",
    "\n",
    "# using train test split to cross val\n",
    "x_train, x_test, y_train, y_test = train_test_split(X1,y1, random_state =42)\n",
    "\n",
    "cees = [0.01, 0.1, 1.0, 10, 100]\n",
    "# cees = [1.1, 1.2, 1.3, 1.4, 1.5, 1.6, 1.7 ,1.8, 1.9]\n",
    "\n",
    "for c in cees:\n",
    "    logreg = LogisticRegression(class_weight='balanced', penalty='l2', C=c)\n",
    "    logreg.fit(x_train,y_train)\n",
    "    y_pred = logreg.predict(x_test)\n",
    "    roc = metrics.roc_auc_score(y_test, y_pred)\n",
    "    print(roc,\" : \", c)"
   ]
  },
  {
   "cell_type": "markdown",
   "metadata": {},
   "source": [
    "<h2>Conclusion: The model is not accurate enough to be a relaible predictor of a member cancelling with Logistical Regression.\n",
    "\n",
    "Trying with Random Forrest\n",
    "\n",
    "</h2>"
   ]
  },
  {
   "cell_type": "code",
   "execution_count": 34,
   "metadata": {},
   "outputs": [
    {
     "name": "stdout",
     "output_type": "stream",
     "text": [
      "Model 0, n_estimators=50, max-depth=2 The mean accuracy=0.596\n",
      "Model 1, n_estimators=50, max-depth=3 The mean accuracy=0.606\n",
      "Model 2, n_estimators=50, max-depth=4 The mean accuracy=0.634\n",
      "Model 3, n_estimators=50, max-depth=5 The mean accuracy=0.637\n",
      "Model 4, n_estimators=50, max-depth=6 The mean accuracy=0.648\n",
      "Model 5, n_estimators=50, max-depth=7 The mean accuracy=0.666\n",
      "Model 6, n_estimators=50, max-depth=8 The mean accuracy=0.675\n",
      "Model 7, n_estimators=50, max-depth=9 The mean accuracy=0.679\n",
      "Model 8, n_estimators=70, max-depth=2 The mean accuracy=0.606\n",
      "Model 9, n_estimators=70, max-depth=3 The mean accuracy=0.616\n",
      "Model 10, n_estimators=70, max-depth=4 The mean accuracy=0.623\n",
      "Model 11, n_estimators=70, max-depth=5 The mean accuracy=0.629\n",
      "Model 12, n_estimators=70, max-depth=6 The mean accuracy=0.641\n",
      "Model 13, n_estimators=70, max-depth=7 The mean accuracy=0.655\n",
      "Model 14, n_estimators=70, max-depth=8 The mean accuracy=0.673\n",
      "Model 15, n_estimators=70, max-depth=9 The mean accuracy=0.679\n",
      "Model 16, n_estimators=90, max-depth=2 The mean accuracy=0.63\n",
      "Model 17, n_estimators=90, max-depth=3 The mean accuracy=0.625\n",
      "Model 18, n_estimators=90, max-depth=4 The mean accuracy=0.623\n",
      "Model 19, n_estimators=90, max-depth=5 The mean accuracy=0.629\n",
      "Model 20, n_estimators=90, max-depth=6 The mean accuracy=0.652\n",
      "Model 21, n_estimators=90, max-depth=7 The mean accuracy=0.667\n",
      "Model 22, n_estimators=90, max-depth=8 The mean accuracy=0.674\n",
      "Model 23, n_estimators=90, max-depth=9 The mean accuracy=0.679\n"
     ]
    },
    {
     "data": {
      "text/plain": [
       "'Model 15, n_estimators=70, max-depth=9 The mean accuracy=0.679'"
      ]
     },
     "execution_count": 34,
     "metadata": {},
     "output_type": "execute_result"
    }
   ],
   "source": [
    "##\n",
    "## Random Forest\n",
    "##\n",
    "acc = []\n",
    "log = []\n",
    "i = 0\n",
    "for est in range(50, 100, 20):\n",
    "    for depth in range(2,10):\n",
    "        rf = RandomForestClassifier(max_depth=depth, n_estimators=est,class_weight='balanced')\n",
    "        rf.fit(x_train, y_train)\n",
    "        scr = rf.score(x_test, y_test)\n",
    "        details = 'Model {}, n_estimators={}, max-depth={} The mean accuracy={}'.format( i, est, depth, np.round(scr, 3) )\n",
    "        print(details)\n",
    "        acc.append(scr)\n",
    "        log.append(details)\n",
    "        # iterate\n",
    "        i += 1\n",
    "\n",
    "# Best Model\n",
    "log[np.argmax(acc)]"
   ]
  }
 ],
 "metadata": {
  "kernelspec": {
   "display_name": "Python 3",
   "language": "python",
   "name": "python3"
  },
  "language_info": {
   "codemirror_mode": {
    "name": "ipython",
    "version": 3
   },
   "file_extension": ".py",
   "mimetype": "text/x-python",
   "name": "python",
   "nbconvert_exporter": "python",
   "pygments_lexer": "ipython3",
   "version": "3.7.1"
  }
 },
 "nbformat": 4,
 "nbformat_minor": 2
}
