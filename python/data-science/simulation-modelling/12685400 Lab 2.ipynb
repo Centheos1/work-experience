{
 "cells": [
  {
   "cell_type": "code",
   "execution_count": 1,
   "metadata": {},
   "outputs": [],
   "source": [
    "import numpy as np\n",
    "import math\n",
    "import random"
   ]
  },
  {
   "cell_type": "code",
   "execution_count": 33,
   "metadata": {},
   "outputs": [
    {
     "name": "stdout",
     "output_type": "stream",
     "text": [
      "i) The estimate expected time until the first drinks break is taken is 60.01 minutes.\n",
      "ii) The estimate proportion of training sessions stop for a break during the first 50 minutes is 0.207\n"
     ]
    }
   ],
   "source": [
    "\"\"\"\n",
    "1. A sports team 5 players\n",
    "All players train until 3 players request a break\n",
    "Break request modelled by U[0.5,1.5] in hours\n",
    "\n",
    "Simulate 1000 training sessions\n",
    "\n",
    "i) Estimate the expected time until the first drinks break is taken\n",
    "ii) Estimate what proportion of training sessions stop. for a break during the first 50 minutes\n",
    "\"\"\"\n",
    "\n",
    "N = 1000\n",
    "num_players = 5\n",
    "players = [0] * num_players\n",
    "time_until_break = []\n",
    "\n",
    "def drink_break():\n",
    "    return np.random.uniform(0.5,1.5)*60 # this is in minutes\n",
    "\n",
    "for _ in range(N):\n",
    "    for i in range(num_players):\n",
    "        players[i] = drink_break()\n",
    "    time_until_break.append(max(sorted(players)[:-2]))\n",
    "#     print(max(sorted(players)[:-2]))\n",
    "\n",
    "print(f\"i) The estimate expected time until the first drinks break is taken is {round(sum(time_until_break) / len(time_until_break),2)} minutes.\")   \n",
    "\n",
    "count = 0\n",
    "for break_time in time_until_break:\n",
    "    if break_time <= 50:\n",
    "        count += 1\n",
    "#         print(break_time)\n",
    "\n",
    "print(f\"ii) The estimate proportion of training sessions stop for a break during the first 50 minutes is {count/N}\")\n"
   ]
  },
  {
   "cell_type": "code",
   "execution_count": null,
   "metadata": {},
   "outputs": [],
   "source": []
  },
  {
   "cell_type": "code",
   "execution_count": 54,
   "metadata": {},
   "outputs": [
    {
     "name": "stdout",
     "output_type": "stream",
     "text": [
      "ii) The estimated expectation is 6.614554681246094\n",
      "The estimated variance is 5.705219851335897\n",
      "iii) Because the distribution is a triangle the expectation is (a + b + c)/3 which is 10.0.\n"
     ]
    }
   ],
   "source": [
    "\"\"\"\n",
    "2. X ~ Triangle(a, b, c)\n",
    "a <= b <= c and a!= c\n",
    "\n",
    "\"\"\"\n",
    "\n",
    "# https://en.wikipedia.org/wiki/Triangular_distribution\n",
    "def triangle_cdf(x,a,b,c):\n",
    "    \n",
    "    if x <= a:\n",
    "        return 0\n",
    "    \n",
    "    if a < x and x<= c:\n",
    "        return (x-a)**2 / ((b-a)(b-c))\n",
    "    \n",
    "    if c < x and x < b:\n",
    "        return 1 - (b-x)**2 / ((b-a)(b-c))\n",
    "    \n",
    "    if b < x:\n",
    "        return 1\n",
    "    \n",
    "def F(a,b,c):\n",
    "    return (c-a) / (b-a)\n",
    "    \n",
    "\n",
    "def triangle_inverse(u,a,b,c):\n",
    "    \n",
    "    if 0 < u and u < F(a,b,c):\n",
    "        return a + math.sqrt(u * (b-a) * (c-a))\n",
    "    \n",
    "    if F(a,b,c) <= u and u < 1:\n",
    "        b - math.sqrt((1-u) * (b-a) * (b-c))\n",
    "\n",
    "N = 1000\n",
    "a = 0\n",
    "b = 10\n",
    "c = 10\n",
    "realisations = []\n",
    "\n",
    "# i) Simulate 2000 realisations of X ~ Triangle(0, 10, 10)\n",
    "for _ in range(N):\n",
    "    u = np.random.uniform(0,1)\n",
    "    realisations.append(triangle_inverse(u,a,b,c))\n",
    "\n",
    "expectation = sum(realisations) / len(realisations)\n",
    "\n",
    "x_2 = []\n",
    "for i in realisations:\n",
    "    x_2.append(i**2)\n",
    "\n",
    "variance = sum(x_2) / len(x_2) - expectation**2\n",
    "\n",
    "print(f\"ii) The estimated expectation is {expectation}\\nThe estimated variance is {variance}\")\n",
    "\n",
    "print(f\"iii) Because the distribution is a triangle the expectation is (a + b + c)/3 which is {(0+10+20)/3}.\")\n"
   ]
  },
  {
   "cell_type": "code",
   "execution_count": null,
   "metadata": {},
   "outputs": [],
   "source": []
  }
 ],
 "metadata": {
  "kernelspec": {
   "display_name": "Python 3",
   "language": "python",
   "name": "python3"
  },
  "language_info": {
   "codemirror_mode": {
    "name": "ipython",
    "version": 3
   },
   "file_extension": ".py",
   "mimetype": "text/x-python",
   "name": "python",
   "nbconvert_exporter": "python",
   "pygments_lexer": "ipython3",
   "version": "3.7.1"
  }
 },
 "nbformat": 4,
 "nbformat_minor": 4
}
