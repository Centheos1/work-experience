{
 "cells": [
  {
   "cell_type": "code",
   "execution_count": 1,
   "metadata": {},
   "outputs": [],
   "source": [
    "import sympy as sp\n",
    "from sympy import *\n",
    "import numpy as np\n",
    "import math\n",
    "from statistics import *"
   ]
  },
  {
   "cell_type": "code",
   "execution_count": 2,
   "metadata": {},
   "outputs": [],
   "source": [
    "# Question 1"
   ]
  },
  {
   "cell_type": "code",
   "execution_count": 3,
   "metadata": {},
   "outputs": [
    {
     "name": "stdout",
     "output_type": "stream",
     "text": [
      "The estimated expectation is 0.9702640135087919\n"
     ]
    }
   ],
   "source": [
    "# i\n",
    "def f_i(u):\n",
    "    a = 8.04\n",
    "    b = 11.96\n",
    "    x = (a + (b-a)*u)\n",
    "    dx = (b - a)\n",
    "    return 1/math.sqrt(2*np.pi) * np.exp(-( x - 10)**2 / 2 ) * dx\n",
    "\n",
    "logs = False\n",
    "N = 2000\n",
    "results_i = []\n",
    "for i in range(N):\n",
    "    u_i = np.random.uniform(0,1)\n",
    "    if logs:\n",
    "        print(f\"u: {u_i}\")\n",
    "\n",
    "    results_i.append(f_i(u_i))\n",
    "\n",
    "print(f\"The estimated expectation is {mean(results_i)}\")"
   ]
  },
  {
   "cell_type": "code",
   "execution_count": 4,
   "metadata": {},
   "outputs": [
    {
     "name": "stdout",
     "output_type": "stream",
     "text": [
      "The estimated expectation is 4.1798163945113265\n"
     ]
    }
   ],
   "source": [
    "# ii\n",
    "def f_ii(u):\n",
    "#     return (np.log(u/(1-u))**2) * 1 / (math.sqrt(2 * np.pi)) * np.exp(-(np.log( u / (1 - u)) - 10)**2 /2) * 1/u*(1-u)\n",
    "    x = np.log(1/(1-u))\n",
    "    dx = 1 / (u*(1-u))\n",
    "    return x**2 * 1/(math.sqrt(2 * np.pi)) * np.exp(-((x-10)**2 / 2)) * dx\n",
    "\n",
    "N = 2000\n",
    "results_ii = []\n",
    "for i in range(N):\n",
    "    u_i = np.random.uniform(0,1)\n",
    "    results_ii.append(f_ii(u_i))\n",
    "print(f\"The estimated expectation is {mean(results_ii)}\")"
   ]
  },
  {
   "cell_type": "code",
   "execution_count": 5,
   "metadata": {},
   "outputs": [],
   "source": [
    "# Question 2"
   ]
  },
  {
   "cell_type": "code",
   "execution_count": 6,
   "metadata": {},
   "outputs": [
    {
     "name": "stdout",
     "output_type": "stream",
     "text": [
      "The estimated expectation is -25.824905109305096\n"
     ]
    }
   ],
   "source": [
    "# i\n",
    "def f_2(u):\n",
    "    a = 0\n",
    "    b = 2\n",
    "    x = a + (b - a)*u\n",
    "    dx = (b - a)\n",
    "    return (2*x - np.pi) / np.sin(x) * dx\n",
    "\n",
    "N = 2000\n",
    "results_2_i = []\n",
    "for i in range(N):\n",
    "    u_i = np.random.uniform(0,1)\n",
    "    results_2_i.append(f_2(u_i))\n",
    "    \n",
    "print(f\"The estimated expectation is {mean(results_2_i)}\")"
   ]
  },
  {
   "cell_type": "code",
   "execution_count": 7,
   "metadata": {},
   "outputs": [
    {
     "data": {
      "text/plain": [
       "'\\nIt is a poor estimation because it never converges because of the sin function \\n'"
      ]
     },
     "execution_count": 7,
     "metadata": {},
     "output_type": "execute_result"
    }
   ],
   "source": [
    "# ii\n",
    "\"\"\"\n",
    "It is a poor estimation because it never converges because of the sin function \n",
    "\"\"\""
   ]
  },
  {
   "cell_type": "code",
   "execution_count": 8,
   "metadata": {},
   "outputs": [
    {
     "name": "stdout",
     "output_type": "stream",
     "text": [
      "The estimated expectation is -0.584862600615519\n"
     ]
    }
   ],
   "source": [
    "# Question 3\n",
    "def f_3(u):\n",
    "    a = -2\n",
    "    x = a - np.log(1 - u)\n",
    "    dx = 1 / (1 - u)\n",
    "    return min((np.sin(x)/x), 1/10) * dx\n",
    "\n",
    "N = 2000\n",
    "results_3 = []\n",
    "\n",
    "for i in range(N):\n",
    "    u_i = np.random.uniform(0,1)\n",
    "    results_3.append(f_3(u_i))\n",
    "    \n",
    "print(f\"The estimated expectation is {mean(results_3)}\")"
   ]
  },
  {
   "cell_type": "code",
   "execution_count": 9,
   "metadata": {},
   "outputs": [],
   "source": [
    "# Question 4"
   ]
  },
  {
   "cell_type": "code",
   "execution_count": 10,
   "metadata": {},
   "outputs": [
    {
     "name": "stdout",
     "output_type": "stream",
     "text": [
      "y = \n"
     ]
    },
    {
     "data": {
      "text/latex": [
       "$\\displaystyle \\sqrt{-1 + \\frac{1}{x}}$"
      ],
      "text/plain": [
       "sqrt(-1 + 1/x)"
      ]
     },
     "metadata": {},
     "output_type": "display_data"
    },
    {
     "name": "stdout",
     "output_type": "stream",
     "text": [
      "d/dx = \n"
     ]
    },
    {
     "data": {
      "text/latex": [
       "$\\displaystyle - \\frac{1}{2 x^{2} \\sqrt{-1 + \\frac{1}{x}}}$"
      ],
      "text/plain": [
       "-1/(2*x**2*sqrt(-1 + 1/x))"
      ]
     },
     "metadata": {},
     "output_type": "display_data"
    }
   ],
   "source": [
    "# i\n",
    "x = sp.Symbol('x')\n",
    "f = sp.sqrt((1/x) - 1)\n",
    "print(\"y = \")\n",
    "display(f)\n",
    "print(\"d/dx = \")\n",
    "display(sp.diff(f))"
   ]
  },
  {
   "cell_type": "code",
   "execution_count": 11,
   "metadata": {},
   "outputs": [
    {
     "name": "stdout",
     "output_type": "stream",
     "text": [
      "The estimated expectation is -0.5659393131720803\n"
     ]
    }
   ],
   "source": [
    "\n",
    "def f_4(u):\n",
    "    b = 0\n",
    "    x = math.sqrt((1/u)-1)\n",
    "    dx = -1 / 2*(u)**2 * math.sqrt((1/u) - 1)\n",
    "#     dx = -1 / (2*x**2 * math.sqrt(1/x - 1))\n",
    "    return float(math.floor( 10 / ( 1 + x**2))) * dx\n",
    "\n",
    "N = 5000\n",
    "results_4 = []\n",
    "\n",
    "for i in range(N):\n",
    "    u_i = np.random.uniform(0,1)\n",
    "    results_4.append(f_4(u_i))\n",
    "\n",
    "print(f\"The estimated expectation is {mean(results_4)}\")"
   ]
  },
  {
   "cell_type": "code",
   "execution_count": 12,
   "metadata": {},
   "outputs": [
    {
     "name": "stdout",
     "output_type": "stream",
     "text": [
      "The estimated expectation is 66.55252486588743\n"
     ]
    }
   ],
   "source": [
    "# ii\n",
    "def f_4_i(u):\n",
    "    b = 0\n",
    "    x = b + np.log(u)\n",
    "    dx = 1/u\n",
    "    return math.floor(10 / (1 + u**2)) * dx\n",
    "\n",
    "N = 5000\n",
    "results_4_ii = []\n",
    "for i in range(N):\n",
    "    u_i = np.random.uniform(0,1)\n",
    "    results_4_ii.append(f_4_i(u_i))\n",
    "\n",
    "print(f\"The estimated expectation is {mean(results_4_ii)}\")"
   ]
  },
  {
   "cell_type": "code",
   "execution_count": null,
   "metadata": {},
   "outputs": [],
   "source": []
  }
 ],
 "metadata": {
  "kernelspec": {
   "display_name": "Python 3",
   "language": "python",
   "name": "python3"
  },
  "language_info": {
   "codemirror_mode": {
    "name": "ipython",
    "version": 3
   },
   "file_extension": ".py",
   "mimetype": "text/x-python",
   "name": "python",
   "nbconvert_exporter": "python",
   "pygments_lexer": "ipython3",
   "version": "3.7.1"
  }
 },
 "nbformat": 4,
 "nbformat_minor": 4
}
