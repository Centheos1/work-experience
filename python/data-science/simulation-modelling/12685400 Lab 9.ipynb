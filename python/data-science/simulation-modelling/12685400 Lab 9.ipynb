{
 "cells": [
  {
   "cell_type": "code",
   "execution_count": 1,
   "metadata": {},
   "outputs": [],
   "source": [
    "import numpy as np\n",
    "import math\n",
    "from statistics import *"
   ]
  },
  {
   "cell_type": "code",
   "execution_count": 2,
   "metadata": {},
   "outputs": [],
   "source": [
    "# Question 1\n",
    "\n",
    "def nCr(n,k):\n",
    "#     print(f\"nCr - n: {n} k: {k}\")\n",
    "    if n-k < 0:\n",
    "        return 0\n",
    "    f = math.factorial\n",
    "    return f(n) / ( f(k) * f(n-k) )\n",
    "\n",
    "def binomial(x, n = 10, p = 0.25):\n",
    "    return nCr(n,x) * p**x * (1-p)**(n-x)\n",
    "\n"
   ]
  },
  {
   "cell_type": "code",
   "execution_count": 3,
   "metadata": {},
   "outputs": [],
   "source": [
    "def accept_reject(j, state):\n",
    "#     proposed_state = math.floor( 5 * u[j] )\n",
    "    proposed_state = math.floor( math.floor(np.random.uniform(0,14)) )\n",
    "    \n",
    "    aceptance_probability = min(1, (binomial(proposed_state) / binomial(state) ) )\n",
    "    \n",
    "    accaptance = np.random.uniform(0,1)\n",
    "    \n",
    "#     print(f\"x_{j} = state: {state} | proposed_state: {proposed_state} | aceptance_probability: {aceptance_probability} | accept: {aceptance_probability > accaptance }\")\n",
    "\n",
    "#     if aceptance_probability > u[10+j]:\n",
    "    if aceptance_probability > accaptance:\n",
    "        state = proposed_state\n",
    "    return state\n",
    "\n",
    "state = 0\n",
    "states = []\n",
    "is_accepted = []\n",
    "N = 10000\n",
    "BURN_IN_PERIOD = 2000\n",
    "for j in range(N):\n",
    "    previous_state = state\n",
    "    state = accept_reject(j, state)\n",
    "    if previous_state != state:\n",
    "        is_accepted.append(True)\n",
    "    else:\n",
    "        is_accepted.append(False)\n",
    "        \n",
    "    states.append(state)\n",
    "#     print(f\"x_{j} = {state}\")\n",
    "\n",
    "# print(f\"x_{N} = {state}\")\n",
    "# states"
   ]
  },
  {
   "cell_type": "code",
   "execution_count": 4,
   "metadata": {},
   "outputs": [
    {
     "name": "stdout",
     "output_type": "stream",
     "text": [
      "simulated_expecation: 2.4535 | theoretical_expectation: 2.5 | error: -0.046499999999999986\n"
     ]
    }
   ],
   "source": [
    "# i)\n",
    "simulated_expecation = mean(states[BURN_IN_PERIOD:])\n",
    "theoretical_expectation = 10 * 0.25\n",
    "print(f\"simulated_expecation: {simulated_expecation} | theoretical_expectation: {theoretical_expectation} | error: {simulated_expecation - theoretical_expectation}\")\n"
   ]
  },
  {
   "cell_type": "code",
   "execution_count": 5,
   "metadata": {},
   "outputs": [
    {
     "name": "stdout",
     "output_type": "stream",
     "text": [
      "acceptance_ratio: 0.232875\n"
     ]
    }
   ],
   "source": [
    "# ii)\n",
    "acceptance_ratio = is_accepted[BURN_IN_PERIOD:].count(True) / (N - BURN_IN_PERIOD)\n",
    "print(f\"acceptance_ratio: {acceptance_ratio}\")"
   ]
  },
  {
   "cell_type": "code",
   "execution_count": 6,
   "metadata": {},
   "outputs": [
    {
     "data": {
      "text/plain": [
       "'\\nBecause the function that draws proposed state is randomally generated it is independant\\n'"
      ]
     },
     "execution_count": 6,
     "metadata": {},
     "output_type": "execute_result"
    }
   ],
   "source": [
    "# iii)\n",
    "\"\"\"\n",
    "Because the function that draws proposed state is randomally generated it is independant\n",
    "\"\"\""
   ]
  },
  {
   "cell_type": "code",
   "execution_count": 7,
   "metadata": {},
   "outputs": [
    {
     "data": {
      "text/plain": [
       "'\\nBecause the domain of the Binomal distribution is {0,1,2,...,14} all values greater than what 14 will be 0 so \\nall proposed state greater than 14 will always be rejected so most of the proposed states in domain {0,l,2,...,99}\\nwhich creates a significant inefficiency\\n'"
      ]
     },
     "execution_count": 7,
     "metadata": {},
     "output_type": "execute_result"
    }
   ],
   "source": [
    "# iv)\n",
    "\"\"\"\n",
    "Because the domain of the Binomal distribution is {0,1,2,...,14} all values greater than what 14 will be 0 so \n",
    "all proposed state greater than 14 will always be rejected so most of the proposed states in domain {0,l,2,...,99}\n",
    "which creates a significant inefficiency\n",
    "\"\"\""
   ]
  },
  {
   "cell_type": "code",
   "execution_count": 8,
   "metadata": {},
   "outputs": [
    {
     "data": {
      "text/plain": [
       "'\\nIn this case the fuction only lets us propose a state plus one or minus one, \\nunlike the Binomial distribution where we can get porposal for any state from any state.\\nThis will create correalition.\\n'"
      ]
     },
     "execution_count": 8,
     "metadata": {},
     "output_type": "execute_result"
    }
   ],
   "source": [
    "# v)\n",
    "\"\"\"\n",
    "In this case the fuction only lets us propose a state plus one or minus one, \n",
    "unlike the Binomial distribution where we can get porposal for any state from any state.\n",
    "This will create correalition.\n",
    "\"\"\""
   ]
  },
  {
   "cell_type": "code",
   "execution_count": 9,
   "metadata": {},
   "outputs": [
    {
     "data": {
      "text/plain": [
       "'\\nZ ~ Geo(0.25) is a distribution has an infinate upper bound but the domain of the model is finite\\nhence it will not accuratly simulate the model\\n\\nA Bernoulli distribution could be used as an alternative proposal distibution\\n'"
      ]
     },
     "execution_count": 9,
     "metadata": {},
     "output_type": "execute_result"
    }
   ],
   "source": [
    "# vi)\n",
    "\"\"\"\n",
    "Z ~ Geo(0.25) is a distribution has an infinate upper bound but the domain of the model is finite\n",
    "hence it will not accuratly simulate the model\n",
    "\n",
    "A Bernoulli distribution could be used as an alternative proposal distibution\n",
    "\"\"\""
   ]
  },
  {
   "cell_type": "code",
   "execution_count": 10,
   "metadata": {},
   "outputs": [],
   "source": [
    "# Question 2\n",
    "\n",
    "def Y( y):\n",
    "    return ( np.exp(-y**2) * (2 + np.sin(5*y) + 2 + np.sin(2*y)) )\n",
    "\n",
    "def normal_distribution(_mu, _sigma=1):\n",
    "    return np.random.normal(_mu, _sigma)\n",
    "\n",
    "def accept_reject_2(j, state):\n",
    "#     proposed_state = math.floor( 5 * u[j] )\n",
    "    proposed_state = normal_distribution( state )\n",
    "#     print(proposed_state)\n",
    "    \n",
    "    acceptance_probability = min(1, (Y(proposed_state) / Y(state)))\n",
    "    \n",
    "    accaptance = np.random.uniform(0,1)\n",
    "    \n",
    "#     print(f\"x_{j} = state: {state} | proposed_state: {proposed_state} | aceptance_probability: {acceptance_probability} | accept: {acceptance_probability > accaptance} \")\n",
    "\n",
    "    if acceptance_probability > accaptance:\n",
    "        state = proposed_state\n",
    "    return state\n",
    "\n",
    "state = 1\n",
    "states = []\n",
    "N = 10000\n",
    "BURN_IN_PERIOD = 2000\n",
    "\n",
    "for j in range(N):\n",
    "    state = accept_reject_2(j, state)\n",
    "    states.append(state)\n",
    "    "
   ]
  },
  {
   "cell_type": "code",
   "execution_count": 11,
   "metadata": {},
   "outputs": [],
   "source": [
    "# states[:10]"
   ]
  },
  {
   "cell_type": "code",
   "execution_count": 12,
   "metadata": {},
   "outputs": [
    {
     "data": {
      "image/png": "[encoded data removed]",
      "text/plain": [
       "<Figure size 1280x720 with 1 Axes>"
      ]
     },
     "metadata": {
      "needs_background": "light"
     },
     "output_type": "display_data"
    }
   ],
   "source": [
    "# import matplotlib.pyplot as plt\n",
    "import matplotlib.pyplot as plt   \n",
    "from matplotlib.pyplot import *\n",
    "from matplotlib import colors\n",
    "from matplotlib.ticker import PercentFormatter\n",
    "\n",
    "figure(figsize=(16, 9), dpi=80)\n",
    "n_bins = 200\n",
    "x = states[BURN_IN_PERIOD:]\n",
    "\n",
    "plt.hist(x, bins=n_bins)\n",
    "plt.show() "
   ]
  },
  {
   "cell_type": "code",
   "execution_count": 48,
   "metadata": {},
   "outputs": [
    {
     "data": {
      "text/plain": [
       "14.06825"
      ]
     },
     "execution_count": 48,
     "metadata": {},
     "output_type": "execute_result"
    }
   ],
   "source": [
    "# Question 3 - Incomplete\n",
    "def Geo(p = 0.4):\n",
    "    return np.random.geometric(p)\n",
    "\n",
    "def Poi(_lambda = 5):\n",
    "    return np.random.poisson(_lambda)\n",
    "\n",
    "def proposed_state(u, p = 0.4):\n",
    "    return math.ceil(np.log(u) / np.log(1-p))\n",
    "\n",
    "\n",
    "def acceptance_probability(proposed_state, state):\n",
    "    return min( 1, ( (5**proposed_state * 0.6**(proposed_state-1) * math.factorial(proposed_state )) / (5**state * 0.6**(state-1) * math.factorial(state))))\n",
    "\n",
    "                    \n",
    "# state = 5\n",
    "# u = np.random.uniform(0,1)\n",
    "# z_p = proposed_state(u)\n",
    "# z_p = Poi()\n",
    "# z_j = state   \n",
    "               \n",
    "# acceptance_probability(z_p, z_j)            \n",
    "\n",
    "state = 5\n",
    "states = []\n",
    "N = 10000\n",
    "BURN_IN_PERIOD = 2000\n",
    "\n",
    "def accept_reject_3(j, state):\n",
    "\n",
    "    proposed_state = Geo() - 1\n",
    "#     print(proposed_state)\n",
    "    \n",
    "#     acceptance_probability = min(1, (Y(proposed_state) / Y(state)))\n",
    "#     acceptance_probability = (Geo( state ) - 1) / Poi( state )\n",
    "    z_p = acceptance_probability(proposed_state, state)\n",
    "    \n",
    "    accaptance = np.random.uniform(0,1)\n",
    "    \n",
    "#     print(f\"x_{j} = state: {state} | proposed_state: {proposed_state} | aceptance_probability: {acceptance_probability} | accept: {acceptance_probability > accaptance} \")\n",
    "\n",
    "    if z_p > accaptance:\n",
    "        state = proposed_state\n",
    "    return state\n",
    "\n",
    "for j in range(N):\n",
    "#     states.append(Geo())\n",
    "    state = accept_reject_3(j, state)\n",
    "    states.append(state)\n",
    "\n",
    "# Geo()\n",
    "# Poi()\n",
    "mean(states[BURN_IN_PERIOD:])\n",
    "# states"
   ]
  },
  {
   "cell_type": "code",
   "execution_count": null,
   "metadata": {},
   "outputs": [],
   "source": [
    "Poi(0)"
   ]
  },
  {
   "cell_type": "code",
   "execution_count": null,
   "metadata": {},
   "outputs": [],
   "source": [
    "# i)\n",
    "simulated_expecation = mean(states[BURN_IN_PERIOD:])\n",
    "theoretical_expectation = 1 / 0.4\n",
    "print(f\"simulated_expecation: {simulated_expecation} | theoretical_expectation: {theoretical_expectation} | error: {simulated_expecation - theoretical_expectation}\")\n"
   ]
  },
  {
   "cell_type": "code",
   "execution_count": null,
   "metadata": {},
   "outputs": [],
   "source": [
    "# ii)\n",
    "simulated_variance = variance(states[BURN_IN_PERIOD:])\n",
    "theoretical_variance = (1-0.4) / 0.4**2\n",
    "print(f\"simulated_variance: {simulated_variance} | theoretical_variance: {theoretical_variance} | error: {simulated_variance - theoretical_variance}\")"
   ]
  },
  {
   "cell_type": "code",
   "execution_count": null,
   "metadata": {},
   "outputs": [],
   "source": [
    "5 * 0.4"
   ]
  },
  {
   "cell_type": "code",
   "execution_count": null,
   "metadata": {},
   "outputs": [],
   "source": [
    "Geo(0.6)"
   ]
  },
  {
   "cell_type": "code",
   "execution_count": null,
   "metadata": {},
   "outputs": [],
   "source": [
    "np.sin(0)"
   ]
  },
  {
   "cell_type": "code",
   "execution_count": null,
   "metadata": {},
   "outputs": [],
   "source": []
  }
 ],
 "metadata": {
  "kernelspec": {
   "display_name": "Python 3",
   "language": "python",
   "name": "python3"
  },
  "language_info": {
   "codemirror_mode": {
    "name": "ipython",
    "version": 3
   },
   "file_extension": ".py",
   "mimetype": "text/x-python",
   "name": "python",
   "nbconvert_exporter": "python",
   "pygments_lexer": "ipython3",
   "version": "3.7.1"
  }
 },
 "nbformat": 4,
 "nbformat_minor": 4
}
