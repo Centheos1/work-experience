{
 "cells": [
  {
   "cell_type": "markdown",
   "metadata": {},
   "source": [
    "<img src=\"http://imgur.com/1ZcRyrc.png\" style=\"float: left; margin: 20px; height: 55px\">\n",
    "\n",
    "# Statistics Fundamentals, Part 1\n",
    "\n",
    "_Authors: Alexander Egorenkov (DC), Amy Roberts (NYC)_\n",
    "\n",
    "---"
   ]
  },
  {
   "cell_type": "markdown",
   "metadata": {},
   "source": [
    "<a id=\"learning-objectives\"></a>\n",
    "## Learning Objectives\n",
    "- Compute dot products, matrix multiplications, and vector norms by hand and using NumPy.\n",
    "- Code summary statistics using NumPy and Pandas: mean, median, mode, max, min, quartile, inter-quartile range, variance, standard deviation, and correlation.\n",
    "- Create basic data visualizations, including scatterplots, box plots, and histograms.\n",
    "- Describe characteristics and trends in a data set using visualizations.\n",
    "- Describe the bias and variance of statistical estimators.\n",
    "- Identify a normal distribution within a data set using summary statistics and data visualizations."
   ]
  },
  {
   "cell_type": "markdown",
   "metadata": {},
   "source": [
    "### Lesson Guide\n",
    "- [Where Are We in the Data Science Workflow?](#where-are-we-in-the-data-science-workflow)\n",
    "- [Linear Algebra Review](#linear-algebra-review)\n",
    "    - [Scalars, Vectors, and Matrices](#scalars-vectors-and-matrices)\n",
    "\t- [Basic Matrix Algebra](#basic-matrix-algebra)\n",
    "\t- [Dot Product](#dot-product)\n",
    "\t- [Matrix Multiplication](#matrix-multiplication)\n",
    "\t- [N-Dimensional Space](#n-dimensional-space)\n",
    "\t- [Vector Norm](#vector-norm)\n",
    "- [Linear Algebra Applications to Machine Learning](#linear-algebra-applications-to-machine-learning)\n",
    "\t- [Distance Between Actual Values and Predicted Values](#distance-between-actual-values-and-predicted-values)\n",
    "\t- [Mean Squared Error](#mean-squared-error)\n",
    "\t- [Least Squares](#least-squares)\n",
    "- [Code-Along: Examining the Titanic Data Set](#codealong-examining-the-titanic-dataset)\n",
    "- [Descriptive Statistics Fundamentals](#descriptive-statistics-fundamentals)\n",
    "\t- [Measures of Central Tendency](#measures-of-central-tendency)\n",
    "\t- [Math Review](#math-review)\n",
    "\t- [Measures of Dispersion: Standard Deviation and Variance](#measures-of-dispersion-standard-deviation-and-variance)\n",
    "- [Our First Model](#our-first-model)\n",
    "- [A Short Introduction to Model Bias and Variance](#a-short-introduction-to-model-bias-and-variance)\n",
    "\t- [Bias-Variance Decomposition](#bias-variance-decomposition)\n",
    "\t- [Example Using Bessel's Correction](#example-using-bessels-correction)\n",
    "- [Correlation and Association](#correlation-and-association)\n",
    "\t- [Code-Along: Correlation in Pandas](#codealong-correlation-in-pandas)\n",
    "- [The Normal Distribution](#the-normal-distribution)\n",
    "\t- [What is the Normal Distribution?](#what-is-the-normal-distribution)\n",
    "\t- [Skewness](#skewness)\n",
    "\t- [Kurtosis](#kurtosis)\n",
    "- [Determining the Distribution of Your Data](#determining-the-distribution-of-your-data)\n",
    "\t- [Exercise](#exercise)\n",
    "- [Lesson Review](#topic-review)"
   ]
  },
  {
   "cell_type": "code",
   "execution_count": 2,
   "metadata": {
    "collapsed": true
   },
   "outputs": [],
   "source": [
    "import pandas as pd\n",
    "import seaborn as sns\n",
    "import numpy as np\n",
    "import matplotlib.pyplot as plt\n",
    "from ipywidgets import interact\n",
    "plt.style.use('fivethirtyeight')\n",
    "\n",
    "# This makes sure that graphs render in your notebook.\n",
    "%matplotlib inline"
   ]
  },
  {
   "cell_type": "markdown",
   "metadata": {},
   "source": [
    "<a id=\"where-are-we-in-the-data-science-workflow\"></a>\n",
    "## Where Are We in the Data Science Workflow?"
   ]
  },
  {
   "cell_type": "markdown",
   "metadata": {},
   "source": [
    "![Data Science Workflow](./assets/images/data-science-workflow.png)"
   ]
  },
  {
   "cell_type": "markdown",
   "metadata": {},
   "source": [
    "<a id=\"linear-algebra-review\"></a>\n",
    "## Linear Algebra Review\n",
    "---\n",
    "**Objective:** Compute dot products, matrix multiplications, and vector norms by hand and using NumPy."
   ]
  },
  {
   "cell_type": "markdown",
   "metadata": {},
   "source": [
    "<a id=\"why-linear-algebra\"></a>\n",
    "### Why Use Linear Algebra in Data Science?\n",
    "\n",
    "Linear models are efficient and well understood. They can often closely approximate nonlinear solutions, and they scale to high dimensions without difficulty.\n",
    "\n",
    "Because of these desirable properties, linear algebra is a need-to-know subject for machine learning. In fact, it forms the basis of foundational models such as linear regression, logistic regression, and principal component analysis (PCA). \n",
    "\n",
    "Unsurprisingly, advanced models such as neural networks and support vector machines rely on linear algebra as their \"trick\" for impressive speedups. Modern-day GPUs are essentially linear algebra supercomputers. And, to utilize their power on a GPU, models must often be carefully formulated in terms of vectors and matrices.\n",
    "\n",
    "More than that, todya's advanced models build upon the simpler foundational models. Each neuron in a neural net is essentially a logistic regressor! Support vector machines utilize a kernel trick to craftily make problems linear that would not otherwise appear to be.\n",
    "\n",
    "Although we do not have time in this course to comprehensively discuss linear algebra, we highly recommend you become fluent!"
   ]
  },
  {
   "cell_type": "markdown",
   "metadata": {},
   "source": [
    "<a id=\"scalars-vectors-and-matrices\"></a>\n",
    "### Scalars, Vectors, and Matrices\n",
    "\n",
    "A **scalar** is a single number. Here, symbols that are lowercase single letters refer to scalars. For example, the symbols $a$ and $v$ are scalars that might refer to arbitrary numbers such as $5.328$ or $7$. An example scalar would be:\n",
    "\n",
    "$$a$$\n",
    "\n",
    "A **vector** is an ordered sequence of numbers. Here, symbols that are lowercase single letters with an arrow — such as $\\vec{u}$ — refer to vectors. An example vector would be:\n",
    "\n",
    "$$\\vec{u} = \\left[ \\begin{array}{c}\n",
    "1&3&7\n",
    "\\end{array} \\right]$$"
   ]
  },
  {
   "cell_type": "code",
   "execution_count": 3,
   "metadata": {
    "collapsed": true
   },
   "outputs": [
    {
     "data": {
      "text/plain": [
       "array([1, 3, 7])"
      ]
     },
     "execution_count": 3,
     "metadata": {},
     "output_type": "execute_result"
    }
   ],
   "source": [
    "# Create a vector using np.array.\n",
    "\n",
    "u = np.array([1,3,7])\n",
    "u"
   ]
  },
  {
   "cell_type": "markdown",
   "metadata": {},
   "source": [
    "An $m$ x $n$ **matrix** is a rectangular array of numbers with $m$ rows and $n$ columns. Each number in the matrix is an entry. Entries can be denoted $a_{ij}$, where $i$ denotes the row number and $j$ denotes the column number. Note that, because each entry $a_{ij}$ is a lowercase single letter, a matrix is an array of scalars:\n",
    "\n",
    "$$\\mathbf{A}= \\left[ \\begin{array}{c}\n",
    "a_{11} & a_{12} & ... & a_{1n}  \\\\\n",
    "a_{21} & a_{22} & ... & a_{2n}  \\\\\n",
    "... & ... & ... & ... \\\\\n",
    "a_{m1} & a_{m2} & ... & a_{mn}\n",
    "\\end{array} \\right]$$\n",
    "\n",
    "Matrices are referred to using bold uppercase letters, such as $\\mathbf{A}$. A bold font face is used to distinguish matrices from sets."
   ]
  },
  {
   "cell_type": "code",
   "execution_count": 5,
   "metadata": {
    "collapsed": true
   },
   "outputs": [
    {
     "data": {
      "text/plain": [
       "array([[1, 3, 7],\n",
       "       [1, 0, 1]])"
      ]
     },
     "execution_count": 5,
     "metadata": {},
     "output_type": "execute_result"
    }
   ],
   "source": [
    "# Create a matrix using np.array.\n",
    "a = np.array([[1,3,7],[1,0,1]])\n",
    "a"
   ]
  },
  {
   "cell_type": "markdown",
   "metadata": {},
   "source": [
    "Note that in Python, a matrix is just a list of lists! The outermost list is a list of rows."
   ]
  },
  {
   "cell_type": "markdown",
   "metadata": {},
   "source": [
    "<a id=\"basic-matrix-algebra\"></a>\n",
    "### Basic Matrix Algebra\n"
   ]
  },
  {
   "cell_type": "markdown",
   "metadata": {},
   "source": [
    "#### Addition and Subtraction\n",
    "Vector **addition** is straightforward. If two vectors are of equal dimensions (The vectors are shown here as column vectors for convenience only):\n",
    "\n",
    "$\\vec{v} = \\left[ \\begin{array}{c}\n",
    "1 \\\\\n",
    "3 \\\\\n",
    "7\n",
    "\\end{array} \\right],  \\vec{w} = \\left[ \\begin{array}{c}\n",
    "1 \\\\\n",
    "0 \\\\\n",
    "1\n",
    "\\end{array} \\right]$"
   ]
  },
  {
   "cell_type": "code",
   "execution_count": 6,
   "metadata": {
    "collapsed": true
   },
   "outputs": [],
   "source": [
    "v = np.array([1, 3, 7])\n",
    "w = np.array([1, 0, 1])"
   ]
  },
  {
   "cell_type": "markdown",
   "metadata": {},
   "source": [
    "$\\vec{v} + \\vec{w} =\n",
    "\\left[ \\begin{array}{c}\n",
    "1 \\\\\n",
    "3 \\\\\n",
    "7\n",
    "\\end{array} \\right] + \\left[ \\begin{array}{c}\n",
    "1 \\\\\n",
    "0 \\\\\n",
    "1\n",
    "\\end{array} \\right] = \n",
    "\\left[ \\begin{array}{c}\n",
    "1+1 \\\\\n",
    "3+0 \\\\\n",
    "7+1\n",
    "\\end{array} \\right] = \n",
    "\\left[ \\begin{array}{c}\n",
    "2 \\\\\n",
    "3 \\\\\n",
    "8\n",
    "\\end{array} \\right]\n",
    "$\n",
    "\n",
    "(Subtraction is similar.)"
   ]
  },
  {
   "cell_type": "code",
   "execution_count": 7,
   "metadata": {
    "collapsed": true
   },
   "outputs": [
    {
     "name": "stdout",
     "output_type": "stream",
     "text": [
      "[2 3 8]\n"
     ]
    }
   ],
   "source": [
    "# Add the vectors together with +.\n",
    "print(v+w)"
   ]
  },
  {
   "cell_type": "markdown",
   "metadata": {},
   "source": [
    "#### Scalar Multiplication\n",
    "We scale a vector with **scalar multiplication**, multiplying a vector by a scalar (single quantity):\n",
    "\n",
    "$ 2 \\cdot \\vec{v} = 2\\left[ \\begin{array}{c}\n",
    "1 \\\\\n",
    "3 \\\\\n",
    "7\n",
    "\\end{array} \\right] = \n",
    " \\left[ \\begin{array}{c}\n",
    "2 \\cdot 1 \\\\\n",
    "2 \\cdot 3 \\\\\n",
    "2 \\cdot 7\n",
    "\\end{array} \\right] = \n",
    " \\left[ \\begin{array}{c}\n",
    "2 \\\\\n",
    "6 \\\\\n",
    "14\n",
    "\\end{array} \\right]$ "
   ]
  },
  {
   "cell_type": "code",
   "execution_count": 8,
   "metadata": {
    "collapsed": true
   },
   "outputs": [
    {
     "name": "stdout",
     "output_type": "stream",
     "text": [
      "[ 2  6 14]\n"
     ]
    }
   ],
   "source": [
    "# Multiply v by 2.\n",
    "print(2*v)"
   ]
  },
  {
   "cell_type": "markdown",
   "metadata": {},
   "source": [
    "<a id=\"dot-product\"></a>\n",
    "### Dot Product\n",
    "The **dot product** of two _n_-dimensional vectors is:\n",
    "\n",
    "$ \\vec{v} \\cdot \\vec{w} =\\sum _{i=1}^{n}v_{i}w_{i}=v_{1}w_{1}+v_{2}w_{2}+\\cdots +v_{n}w_{n} $\n",
    "\n",
    "So, if:\n",
    "\n",
    "$\\vec{v} = \\left[ \\begin{array}{c}\n",
    "1 \\\\\n",
    "3 \\\\\n",
    "7\n",
    "\\end{array} \\right], \\vec{w} = \\left[ \\begin{array}{c}\n",
    "1 \\\\\n",
    "0 \\\\\n",
    "1\n",
    "\\end{array} \\right]$\n",
    "\n",
    "$ \\vec{v} \\cdot \\vec{w} = 1 \\cdot 1 + 3 \\cdot 0 + 7 \\cdot 1 = 8 $"
   ]
  },
  {
   "cell_type": "code",
   "execution_count": 9,
   "metadata": {
    "collapsed": true
   },
   "outputs": [
    {
     "data": {
      "text/plain": [
       "8"
      ]
     },
     "execution_count": 9,
     "metadata": {},
     "output_type": "execute_result"
    }
   ],
   "source": [
    "v = np.array([1, 3, 7])\n",
    "w = np.array([1, 0, 1])\n",
    "\n",
    "# Calculate the dot product of v and w using np.dot.\n",
    "v.dot(w)"
   ]
  },
  {
   "cell_type": "markdown",
   "metadata": {},
   "source": [
    "<a id=\"matrix-multiplication\"></a>\n",
    "### Matrix Multiplication\n",
    "**Matrix multiplication**, $\\mathbf{A}_{mn}$ x $\\mathbf{B}_{ij}$, is valid when the left matrix has the same number of columns as the right matrix has rows ($n = i$). Each entry is the dot product of corresponding row and column vectors.\n",
    "\n",
    "![](assets/images/matrix-multiply-a.gif)\n",
    "(Image: mathisfun.com!)"
   ]
  },
  {
   "cell_type": "markdown",
   "metadata": {},
   "source": [
    "The dot product illustrated above is: $1 \\cdot 7 + 2 \\cdot 9 + 3 \\cdot 11 = 58$. Can you compute the rest of the dot products by hand?\n",
    "\n",
    "If the product is the $2$ x $2$ matrix $\\mathbf{C}_{mj}$, then:\n",
    "\n",
    "+ Matrix entry $c_{12}$ (its FIRST row and SECOND column) is the dot product of the FIRST row of $\\mathbf{A}$ and the SECOND column of $\\mathbf{B}$.\n",
    "\n",
    "+ Matrix entry $c_{21}$ (its SECOND row and FIRST column) is the dot product of the SECOND row of $\\mathbf{A}$ and the FIRST column of $\\mathbf{B}$.\n",
    "\n",
    "Note that if the first matrix is $m$ x $n$ ($m$ rows and $n$ columns) and the second is  $i$ x $j$ (where $n = i$), then the final matrix will be $m$ x $j$. For example, below we have $2$ x $3$ multiplied by $3$ x $2$, which results in a $2$ x $2$ matrix. Can you see why?"
   ]
  },
  {
   "cell_type": "code",
   "execution_count": 10,
   "metadata": {},
   "outputs": [
    {
     "data": {
      "text/plain": [
       "array([[ 58,  64],\n",
       "       [139, 154]])"
      ]
     },
     "execution_count": 10,
     "metadata": {},
     "output_type": "execute_result"
    }
   ],
   "source": [
    "A = np.array([[1, 2, 3], [4, 5, 6]])\n",
    "B = np.array([[7, 8], [9, 10], [11, 12]])\n",
    "\n",
    "A.dot(B)"
   ]
  },
  {
   "cell_type": "markdown",
   "metadata": {},
   "source": [
    "Make sure you can compute this by hand!"
   ]
  },
  {
   "cell_type": "markdown",
   "metadata": {},
   "source": [
    "<a id=\"n-dimensional-space\"></a>\n",
    "### N-Dimensional Space\n",
    "\n",
    "We often refer to vectors as elements of an $n$-dimensional space. The symbol $\\mathbb{R}$ refers to the set of all real numbers (written in uppercase \"blackboard bold\" font). Because this contains all reals, $3$ and $\\pi$ are **contained in** $\\mathbb{R}$. We often write this symbolically as $3 \\in \\mathbb{R}$ and $\\pi \\in \\mathbb{R}$.\n",
    "\n",
    "To get the set of all pairs of real numbers, we would essentially take the product of this set with itself (called the Cartesian product) — $\\mathbb{R}$ x $\\mathbb{R}$, abbreviated as $\\mathbb{R}^2$. This set — $\\mathbb{R}^2$ — contains all pairs of real numbers, so $(1, 3)$ is **contained in** this set. We write this symbolically as $(1, 3) \\in \\mathbb{R}^2$.\n",
    "\n",
    "+ In 2-D space ($\\mathbb{R}^2$), a point is uniquely referred to using two coordinates: $(1, 3) \\in \\mathbb{R}^2$.\n",
    "+ In 3-D space ($\\mathbb{R}^3$), a point is uniquely referred to using three coordinates: $(8, 2, -3) \\in \\mathbb{R}^3$.\n",
    "+ In $n$-dimensional space ($\\mathbb{R}^n$), a point is uniquely referred to using $n$ coordinates.\n",
    "\n",
    "Note that these coordinates of course are isomorphic to our vectors! After all, coordinates are ordered sequences of numbers, just as we define vectors to be ordered sequences of numbers. So, especially in machine learning, we often visualize vectors of length $n$ as points in $n$-dimensional space."
   ]
  },
  {
   "cell_type": "markdown",
   "metadata": {},
   "source": [
    "<a id=\"vector-norm\"></a>\n",
    "### Vector Norm\n",
    "\n",
    "The **magnitude** of a vector, $\\vec{v} \\in \\mathbb{R}^{n}$, can be interpreted as its length in $n$-dimensional space. Therefore it is calculable via the Euclidean distance from the origin:\n",
    "\n",
    "$\\vec{v} = \\left[ \\begin{array}{c}\n",
    "v_{1} \\\\\n",
    "v_{2} \\\\\n",
    "\\vdots \\\\\n",
    "v_{n}\n",
    "\\end{array} \\right]$\n",
    "\n",
    "then $\\| \\vec{v} \\| = \\sqrt{v_{1}^{2} + v_{2}^{2} + ... + v_{n}^{2}} = \\sqrt{v^Tv}$\n",
    "\n",
    "E.g. if $\\vec{v} = \n",
    "\\left[ \\begin{array}{c}\n",
    "3 \\\\\n",
    "4\n",
    "\\end{array} \\right]$, then $\\| \\vec{v} \\| = \\sqrt{3^{2} + 4^{2}} = 5$\n",
    "\n",
    "This is also called the vector **norm**. You will often see this used in machine learning."
   ]
  },
  {
   "cell_type": "code",
   "execution_count": 16,
   "metadata": {
    "collapsed": true
   },
   "outputs": [
    {
     "name": "stdout",
     "output_type": "stream",
     "text": [
      "CPU times: user 72 µs, sys: 28 µs, total: 100 µs\n",
      "Wall time: 82 µs\n"
     ]
    }
   ],
   "source": [
    "%%time\n",
    "\n",
    "x = np.array([3,4])\n",
    "\n",
    "# Calculate the norm of the vector x with np.linalg.norm.\n",
    "np.linalg.norm(x)"
   ]
  },
  {
   "cell_type": "markdown",
   "metadata": {},
   "source": [
    "<a id=\"linear-algebra-applications-to-machine-learning\"></a>\n",
    "## Linear Algebra Applications to Machine Learning\n",
    "---\n",
    "\n",
    "<a id=\"distance-between-actual-values-and-predicted-values\"></a>\n",
    "### Distance Between Actual Values and Predicted Values\n",
    "We often need to know the difference between predicted values and actual values. In 2-D space, we compute this as:\n",
    "$$\\| \\vec{actual} - \\vec{predicted} \\| =\\sqrt{(actual_1 - predicted_1)^2 + (actual_2 - predicted_2)^2}$$\n",
    "\n",
    "Note that this is just the straight-line distance between the actual point and the predicted point.\n",
    "\n",
    "<a id=\"mean-squared-error\"></a>\n",
    "### Mean Squared Error\n",
    "Often, it's easier to look at the mean of the squared errors. Where $\\hat{y}(\\mathbf{X})$ is a vector of predicted values (a function of the data matrix $\\mathbf{X}$) and $\\vec{y}$ is the actual values:\n",
    "\n",
    "$$MSE = \\frac{1} {n} \\| \\hat{y}(\\mathbf{X}) - \\vec{y} \\|^2$$\n",
    "\n",
    "<a id=\"least-squares\"></a>\n",
    "### Least squares\n",
    "Many machine learning models are based on the following form:\n",
    "\n",
    "$$\\min \\| \\hat{y}(\\mathbf{X}) - \\vec{y} \\|$$\n",
    "\n",
    "The goal is to minimize the distance between model predictions and actual data."
   ]
  },
  {
   "cell_type": "markdown",
   "metadata": {},
   "source": [
    "Let's see this in [scikit-learn](http://scikit-learn.org/stable/modules/linear_model.html)."
   ]
  },
  {
   "cell_type": "markdown",
   "metadata": {},
   "source": [
    "<a id=\"codealong-examining-the-titanic-dataset\"></a>\n",
    "## Code-Along: Examining the Titanic Data Set\n",
    "\n",
    "---"
   ]
  },
  {
   "cell_type": "markdown",
   "metadata": {},
   "source": [
    "#### Objective: Read in the Titanic data and look at a few summary statistics."
   ]
  },
  {
   "cell_type": "code",
   "execution_count": 3,
   "metadata": {
    "collapsed": true
   },
   "outputs": [],
   "source": [
    "# Import Pandas\n",
    "import pandas as pd"
   ]
  },
  {
   "cell_type": "code",
   "execution_count": 4,
   "metadata": {
    "collapsed": true
   },
   "outputs": [],
   "source": [
    "titanic = pd.read_csv('data/titanic.csv')"
   ]
  },
  {
   "cell_type": "markdown",
   "metadata": {},
   "source": [
    "#### Print out the column names:"
   ]
  },
  {
   "cell_type": "code",
   "execution_count": 5,
   "metadata": {
    "scrolled": true
   },
   "outputs": [
    {
     "data": {
      "text/plain": [
       "Index(['survived', 'pclass', 'name', 'sex', 'age', 'sibsp', 'parch', 'ticket',\n",
       "       'fare', 'cabin', 'embarked'],\n",
       "      dtype='object')"
      ]
     },
     "execution_count": 5,
     "metadata": {},
     "output_type": "execute_result"
    }
   ],
   "source": [
    "# Answer:\n",
    "\n",
    "titanic.columns"
   ]
  },
  {
   "cell_type": "markdown",
   "metadata": {},
   "source": [
    "#### Print out the dimensions of the DataFrame using the `.shape` attribute:"
   ]
  },
  {
   "cell_type": "code",
   "execution_count": 20,
   "metadata": {
    "collapsed": true
   },
   "outputs": [
    {
     "data": {
      "text/plain": [
       "(891, 11)"
      ]
     },
     "execution_count": 20,
     "metadata": {},
     "output_type": "execute_result"
    }
   ],
   "source": [
    "# Preview data dimensions.\n",
    "\n",
    "titanic.shape"
   ]
  },
  {
   "cell_type": "markdown",
   "metadata": {},
   "source": [
    "#### Print out the data types of the columns using the `.dtypes` attribute:"
   ]
  },
  {
   "cell_type": "code",
   "execution_count": 21,
   "metadata": {
    "collapsed": true
   },
   "outputs": [
    {
     "data": {
      "text/plain": [
       "survived      int64\n",
       "pclass        int64\n",
       "name         object\n",
       "sex          object\n",
       "age         float64\n",
       "sibsp         int64\n",
       "parch         int64\n",
       "ticket       object\n",
       "fare        float64\n",
       "cabin        object\n",
       "embarked     object\n",
       "dtype: object"
      ]
     },
     "execution_count": 21,
     "metadata": {},
     "output_type": "execute_result"
    }
   ],
   "source": [
    "# What are the column data types?\n",
    "\n",
    "titanic.dtypes"
   ]
  },
  {
   "cell_type": "markdown",
   "metadata": {},
   "source": [
    "#### Print out the first five rows of the data using the built-in `.head()` function:"
   ]
  },
  {
   "cell_type": "code",
   "execution_count": 22,
   "metadata": {
    "collapsed": true,
    "scrolled": false
   },
   "outputs": [
    {
     "data": {
      "text/html": [
       "<div>\n",
       "<style scoped>\n",
       "    .dataframe tbody tr th:only-of-type {\n",
       "        vertical-align: middle;\n",
       "    }\n",
       "\n",
       "    .dataframe tbody tr th {\n",
       "        vertical-align: top;\n",
       "    }\n",
       "\n",
       "    .dataframe thead th {\n",
       "        text-align: right;\n",
       "    }\n",
       "</style>\n",
       "<table border=\"1\" class=\"dataframe\">\n",
       "  <thead>\n",
       "    <tr style=\"text-align: right;\">\n",
       "      <th></th>\n",
       "      <th>survived</th>\n",
       "      <th>pclass</th>\n",
       "      <th>name</th>\n",
       "      <th>sex</th>\n",
       "      <th>age</th>\n",
       "      <th>sibsp</th>\n",
       "      <th>parch</th>\n",
       "      <th>ticket</th>\n",
       "      <th>fare</th>\n",
       "      <th>cabin</th>\n",
       "      <th>embarked</th>\n",
       "    </tr>\n",
       "  </thead>\n",
       "  <tbody>\n",
       "    <tr>\n",
       "      <th>0</th>\n",
       "      <td>0</td>\n",
       "      <td>3</td>\n",
       "      <td>Braund, Mr. Owen Harris</td>\n",
       "      <td>male</td>\n",
       "      <td>22.0</td>\n",
       "      <td>1</td>\n",
       "      <td>0</td>\n",
       "      <td>A/5 21171</td>\n",
       "      <td>7.2500</td>\n",
       "      <td>NaN</td>\n",
       "      <td>S</td>\n",
       "    </tr>\n",
       "    <tr>\n",
       "      <th>1</th>\n",
       "      <td>1</td>\n",
       "      <td>1</td>\n",
       "      <td>Cumings, Mrs. John Bradley (Florence Briggs Th...</td>\n",
       "      <td>female</td>\n",
       "      <td>38.0</td>\n",
       "      <td>1</td>\n",
       "      <td>0</td>\n",
       "      <td>PC 17599</td>\n",
       "      <td>71.2833</td>\n",
       "      <td>C85</td>\n",
       "      <td>C</td>\n",
       "    </tr>\n",
       "    <tr>\n",
       "      <th>2</th>\n",
       "      <td>1</td>\n",
       "      <td>3</td>\n",
       "      <td>Heikkinen, Miss. Laina</td>\n",
       "      <td>female</td>\n",
       "      <td>26.0</td>\n",
       "      <td>0</td>\n",
       "      <td>0</td>\n",
       "      <td>STON/O2. 3101282</td>\n",
       "      <td>7.9250</td>\n",
       "      <td>NaN</td>\n",
       "      <td>S</td>\n",
       "    </tr>\n",
       "    <tr>\n",
       "      <th>3</th>\n",
       "      <td>1</td>\n",
       "      <td>1</td>\n",
       "      <td>Futrelle, Mrs. Jacques Heath (Lily May Peel)</td>\n",
       "      <td>female</td>\n",
       "      <td>35.0</td>\n",
       "      <td>1</td>\n",
       "      <td>0</td>\n",
       "      <td>113803</td>\n",
       "      <td>53.1000</td>\n",
       "      <td>C123</td>\n",
       "      <td>S</td>\n",
       "    </tr>\n",
       "    <tr>\n",
       "      <th>4</th>\n",
       "      <td>0</td>\n",
       "      <td>3</td>\n",
       "      <td>Allen, Mr. William Henry</td>\n",
       "      <td>male</td>\n",
       "      <td>35.0</td>\n",
       "      <td>0</td>\n",
       "      <td>0</td>\n",
       "      <td>373450</td>\n",
       "      <td>8.0500</td>\n",
       "      <td>NaN</td>\n",
       "      <td>S</td>\n",
       "    </tr>\n",
       "  </tbody>\n",
       "</table>\n",
       "</div>"
      ],
      "text/plain": [
       "   survived  pclass                                               name  \\\n",
       "0         0       3                            Braund, Mr. Owen Harris   \n",
       "1         1       1  Cumings, Mrs. John Bradley (Florence Briggs Th...   \n",
       "2         1       3                             Heikkinen, Miss. Laina   \n",
       "3         1       1       Futrelle, Mrs. Jacques Heath (Lily May Peel)   \n",
       "4         0       3                           Allen, Mr. William Henry   \n",
       "\n",
       "      sex   age  sibsp  parch            ticket     fare cabin embarked  \n",
       "0    male  22.0      1      0         A/5 21171   7.2500   NaN        S  \n",
       "1  female  38.0      1      0          PC 17599  71.2833   C85        C  \n",
       "2  female  26.0      0      0  STON/O2. 3101282   7.9250   NaN        S  \n",
       "3  female  35.0      1      0            113803  53.1000  C123        S  \n",
       "4    male  35.0      0      0            373450   8.0500   NaN        S  "
      ]
     },
     "execution_count": 22,
     "metadata": {},
     "output_type": "execute_result"
    }
   ],
   "source": [
    "# Look at the first five rows.\n",
    "titanic.head(5)"
   ]
  },
  {
   "cell_type": "markdown",
   "metadata": {},
   "source": [
    "#### Use the built-in  `.value_counts()` function to count the values of each type in the `pclass` column:"
   ]
  },
  {
   "cell_type": "code",
   "execution_count": 23,
   "metadata": {
    "collapsed": true
   },
   "outputs": [
    {
     "data": {
      "text/plain": [
       "3    491\n",
       "1    216\n",
       "2    184\n",
       "Name: pclass, dtype: int64"
      ]
     },
     "execution_count": 23,
     "metadata": {},
     "output_type": "execute_result"
    }
   ],
   "source": [
    "# Count the values of the plcass variable.\n",
    "titanic['pclass'].value_counts()"
   ]
  },
  {
   "cell_type": "markdown",
   "metadata": {},
   "source": [
    "#### Pull up descriptive statistics for each variable using the built-in `.describe()` function:"
   ]
  },
  {
   "cell_type": "code",
   "execution_count": 37,
   "metadata": {
    "collapsed": true
   },
   "outputs": [
    {
     "data": {
      "text/html": [
       "<div>\n",
       "<style scoped>\n",
       "    .dataframe tbody tr th:only-of-type {\n",
       "        vertical-align: middle;\n",
       "    }\n",
       "\n",
       "    .dataframe tbody tr th {\n",
       "        vertical-align: top;\n",
       "    }\n",
       "\n",
       "    .dataframe thead th {\n",
       "        text-align: right;\n",
       "    }\n",
       "</style>\n",
       "<table border=\"1\" class=\"dataframe\">\n",
       "  <thead>\n",
       "    <tr style=\"text-align: right;\">\n",
       "      <th></th>\n",
       "      <th>survived</th>\n",
       "      <th>pclass</th>\n",
       "      <th>name</th>\n",
       "      <th>sex</th>\n",
       "      <th>age</th>\n",
       "      <th>sibsp</th>\n",
       "      <th>parch</th>\n",
       "      <th>ticket</th>\n",
       "      <th>fare</th>\n",
       "      <th>cabin</th>\n",
       "      <th>embarked</th>\n",
       "    </tr>\n",
       "  </thead>\n",
       "  <tbody>\n",
       "    <tr>\n",
       "      <th>count</th>\n",
       "      <td>891.000000</td>\n",
       "      <td>891.000000</td>\n",
       "      <td>891</td>\n",
       "      <td>891</td>\n",
       "      <td>714.000000</td>\n",
       "      <td>891.000000</td>\n",
       "      <td>891.000000</td>\n",
       "      <td>891</td>\n",
       "      <td>891.000000</td>\n",
       "      <td>204</td>\n",
       "      <td>889</td>\n",
       "    </tr>\n",
       "    <tr>\n",
       "      <th>unique</th>\n",
       "      <td>NaN</td>\n",
       "      <td>NaN</td>\n",
       "      <td>891</td>\n",
       "      <td>2</td>\n",
       "      <td>NaN</td>\n",
       "      <td>NaN</td>\n",
       "      <td>NaN</td>\n",
       "      <td>681</td>\n",
       "      <td>NaN</td>\n",
       "      <td>147</td>\n",
       "      <td>3</td>\n",
       "    </tr>\n",
       "    <tr>\n",
       "      <th>top</th>\n",
       "      <td>NaN</td>\n",
       "      <td>NaN</td>\n",
       "      <td>Coutts, Master. Eden Leslie \"Neville\"</td>\n",
       "      <td>male</td>\n",
       "      <td>NaN</td>\n",
       "      <td>NaN</td>\n",
       "      <td>NaN</td>\n",
       "      <td>347082</td>\n",
       "      <td>NaN</td>\n",
       "      <td>G6</td>\n",
       "      <td>S</td>\n",
       "    </tr>\n",
       "    <tr>\n",
       "      <th>freq</th>\n",
       "      <td>NaN</td>\n",
       "      <td>NaN</td>\n",
       "      <td>1</td>\n",
       "      <td>577</td>\n",
       "      <td>NaN</td>\n",
       "      <td>NaN</td>\n",
       "      <td>NaN</td>\n",
       "      <td>7</td>\n",
       "      <td>NaN</td>\n",
       "      <td>4</td>\n",
       "      <td>644</td>\n",
       "    </tr>\n",
       "    <tr>\n",
       "      <th>mean</th>\n",
       "      <td>0.383838</td>\n",
       "      <td>2.308642</td>\n",
       "      <td>NaN</td>\n",
       "      <td>NaN</td>\n",
       "      <td>29.699118</td>\n",
       "      <td>0.523008</td>\n",
       "      <td>0.381594</td>\n",
       "      <td>NaN</td>\n",
       "      <td>32.204208</td>\n",
       "      <td>NaN</td>\n",
       "      <td>NaN</td>\n",
       "    </tr>\n",
       "    <tr>\n",
       "      <th>std</th>\n",
       "      <td>0.486592</td>\n",
       "      <td>0.836071</td>\n",
       "      <td>NaN</td>\n",
       "      <td>NaN</td>\n",
       "      <td>14.526497</td>\n",
       "      <td>1.102743</td>\n",
       "      <td>0.806057</td>\n",
       "      <td>NaN</td>\n",
       "      <td>49.693429</td>\n",
       "      <td>NaN</td>\n",
       "      <td>NaN</td>\n",
       "    </tr>\n",
       "    <tr>\n",
       "      <th>min</th>\n",
       "      <td>0.000000</td>\n",
       "      <td>1.000000</td>\n",
       "      <td>NaN</td>\n",
       "      <td>NaN</td>\n",
       "      <td>0.420000</td>\n",
       "      <td>0.000000</td>\n",
       "      <td>0.000000</td>\n",
       "      <td>NaN</td>\n",
       "      <td>0.000000</td>\n",
       "      <td>NaN</td>\n",
       "      <td>NaN</td>\n",
       "    </tr>\n",
       "    <tr>\n",
       "      <th>25%</th>\n",
       "      <td>0.000000</td>\n",
       "      <td>2.000000</td>\n",
       "      <td>NaN</td>\n",
       "      <td>NaN</td>\n",
       "      <td>20.125000</td>\n",
       "      <td>0.000000</td>\n",
       "      <td>0.000000</td>\n",
       "      <td>NaN</td>\n",
       "      <td>7.910400</td>\n",
       "      <td>NaN</td>\n",
       "      <td>NaN</td>\n",
       "    </tr>\n",
       "    <tr>\n",
       "      <th>50%</th>\n",
       "      <td>0.000000</td>\n",
       "      <td>3.000000</td>\n",
       "      <td>NaN</td>\n",
       "      <td>NaN</td>\n",
       "      <td>28.000000</td>\n",
       "      <td>0.000000</td>\n",
       "      <td>0.000000</td>\n",
       "      <td>NaN</td>\n",
       "      <td>14.454200</td>\n",
       "      <td>NaN</td>\n",
       "      <td>NaN</td>\n",
       "    </tr>\n",
       "    <tr>\n",
       "      <th>75%</th>\n",
       "      <td>1.000000</td>\n",
       "      <td>3.000000</td>\n",
       "      <td>NaN</td>\n",
       "      <td>NaN</td>\n",
       "      <td>38.000000</td>\n",
       "      <td>1.000000</td>\n",
       "      <td>0.000000</td>\n",
       "      <td>NaN</td>\n",
       "      <td>31.000000</td>\n",
       "      <td>NaN</td>\n",
       "      <td>NaN</td>\n",
       "    </tr>\n",
       "    <tr>\n",
       "      <th>max</th>\n",
       "      <td>1.000000</td>\n",
       "      <td>3.000000</td>\n",
       "      <td>NaN</td>\n",
       "      <td>NaN</td>\n",
       "      <td>80.000000</td>\n",
       "      <td>8.000000</td>\n",
       "      <td>6.000000</td>\n",
       "      <td>NaN</td>\n",
       "      <td>512.329200</td>\n",
       "      <td>NaN</td>\n",
       "      <td>NaN</td>\n",
       "    </tr>\n",
       "  </tbody>\n",
       "</table>\n",
       "</div>"
      ],
      "text/plain": [
       "          survived      pclass                                   name   sex  \\\n",
       "count   891.000000  891.000000                                    891   891   \n",
       "unique         NaN         NaN                                    891     2   \n",
       "top            NaN         NaN  Coutts, Master. Eden Leslie \"Neville\"  male   \n",
       "freq           NaN         NaN                                      1   577   \n",
       "mean      0.383838    2.308642                                    NaN   NaN   \n",
       "std       0.486592    0.836071                                    NaN   NaN   \n",
       "min       0.000000    1.000000                                    NaN   NaN   \n",
       "25%       0.000000    2.000000                                    NaN   NaN   \n",
       "50%       0.000000    3.000000                                    NaN   NaN   \n",
       "75%       1.000000    3.000000                                    NaN   NaN   \n",
       "max       1.000000    3.000000                                    NaN   NaN   \n",
       "\n",
       "               age       sibsp       parch  ticket        fare cabin embarked  \n",
       "count   714.000000  891.000000  891.000000     891  891.000000   204      889  \n",
       "unique         NaN         NaN         NaN     681         NaN   147        3  \n",
       "top            NaN         NaN         NaN  347082         NaN    G6        S  \n",
       "freq           NaN         NaN         NaN       7         NaN     4      644  \n",
       "mean     29.699118    0.523008    0.381594     NaN   32.204208   NaN      NaN  \n",
       "std      14.526497    1.102743    0.806057     NaN   49.693429   NaN      NaN  \n",
       "min       0.420000    0.000000    0.000000     NaN    0.000000   NaN      NaN  \n",
       "25%      20.125000    0.000000    0.000000     NaN    7.910400   NaN      NaN  \n",
       "50%      28.000000    0.000000    0.000000     NaN   14.454200   NaN      NaN  \n",
       "75%      38.000000    1.000000    0.000000     NaN   31.000000   NaN      NaN  \n",
       "max      80.000000    8.000000    6.000000     NaN  512.329200   NaN      NaN  "
      ]
     },
     "execution_count": 37,
     "metadata": {},
     "output_type": "execute_result"
    }
   ],
   "source": [
    "# Pull up descriptive statistics for each variable.\n",
    "titanic.describe(include='all')"
   ]
  },
  {
   "cell_type": "markdown",
   "metadata": {},
   "source": [
    "### Diagnosing Data Problems\n",
    "\n",
    "- Whenever you get a new data set, the fastest way to find mistakes and inconsistencies is to look at the descriptive statistics.\n",
    "  - If anything looks too high or too low relative to your experience, there may be issues with the data collection.\n",
    "- Your data may contain a lot of missing values and may need to be cleaned meticulously before they can be combined with other data.\n",
    "  - You can take a quick average or moving average to smooth out the data and combine that to preview your results before you embark on your much longer data-cleaning journey.\n",
    "  - Sometimes filling in missing values with their means or medians will be the best solution for dealing with missing data. Other times, you may want to drop the offending rows or do real imputation."
   ]
  },
  {
   "cell_type": "markdown",
   "metadata": {},
   "source": [
    "<a id=\"descriptive-statistics-fundamentals\"></a>\n",
    "## Descriptive Statistics Fundamentals\n",
    "---\n",
    "\n",
    "- **Objective:** Code summary statistics using NumPy and Pandas: mean, median, mode, max, min, quartile, inter-quartile range, variance, standard deviation, and correlation."
   ]
  },
  {
   "cell_type": "markdown",
   "metadata": {},
   "source": [
    "### A Quick Review of Notation"
   ]
  },
  {
   "cell_type": "markdown",
   "metadata": {},
   "source": [
    "The sum of a constant, $k$, $n$ times:\n",
    "$$\\sum_{i=1}^nk$$"
   ]
  },
  {
   "cell_type": "code",
   "execution_count": 20,
   "metadata": {
    "collapsed": true
   },
   "outputs": [],
   "source": [
    "# k + k + k + k + ... + k"
   ]
  },
  {
   "cell_type": "markdown",
   "metadata": {},
   "source": [
    "> It is often helpful to think of these sums as `for` loops. For example, the equation can be compactly computed like so:\n",
    "\n",
    "```\n",
    "total = 0\n",
    "\n",
    "# For i from 1 up to and including n, add k to the sum.\n",
    "for i in range(1, n+1):\n",
    "    total += k\n",
    "```\n",
    "\n",
    "> Or, even more succinctly (using a generator comprehension):\n",
    "\n",
    "```\n",
    "total = sum(k for i in range(1, n+1))\n",
    "```"
   ]
  },
  {
   "cell_type": "markdown",
   "metadata": {},
   "source": [
    "The sum of all numbers from 1 up to and including $n$:\n",
    "$$\\sum_{i=1}^ni$$"
   ]
  },
  {
   "cell_type": "code",
   "execution_count": 21,
   "metadata": {
    "collapsed": true
   },
   "outputs": [],
   "source": [
    "# 1 + 2 + 3 + ... + n"
   ]
  },
  {
   "cell_type": "markdown",
   "metadata": {},
   "source": [
    "> ```\n",
    "total = sum(i for i in range(1, n+1))\n",
    "```"
   ]
  },
  {
   "cell_type": "markdown",
   "metadata": {},
   "source": [
    "The sum of all $x$ from the first $x$ entry to the $n$th $x$ entry:\n",
    "$$\\sum_{i=0}^nx_i$$"
   ]
  },
  {
   "cell_type": "code",
   "execution_count": 22,
   "metadata": {
    "collapsed": true
   },
   "outputs": [],
   "source": [
    "# x_1 + x_2 + x_3 + ... + x_n"
   ]
  },
  {
   "cell_type": "markdown",
   "metadata": {},
   "source": [
    "> ```\n",
    "total = sum(xi in x)      # or just sum(x)\n",
    "```"
   ]
  },
  {
   "cell_type": "markdown",
   "metadata": {},
   "source": [
    "#### Code-Along\n",
    "\n",
    "_Optional: Write down the mathematical notation for the following questions:_"
   ]
  },
  {
   "cell_type": "code",
   "execution_count": 31,
   "metadata": {
    "collapsed": true
   },
   "outputs": [
    {
     "name": "stdout",
     "output_type": "stream",
     "text": [
      "Sum seven 4's = 28\n",
      "CPU times: user 494 µs, sys: 373 µs, total: 867 µs\n",
      "Wall time: 974 µs\n"
     ]
    }
   ],
   "source": [
    "%%time\n",
    "# Compute the sum of seven 4s using base Python.\n",
    "# sumSevens = sum[4,4,4,4,4,4,4]\n",
    "print(\"Sum seven 4\\'s = {}\".format(sum([4,4,4,4,4,4,4])))"
   ]
  },
  {
   "cell_type": "code",
   "execution_count": 42,
   "metadata": {
    "collapsed": true
   },
   "outputs": [
    {
     "name": "stdout",
     "output_type": "stream",
     "text": [
      "Sum seven 4's = 28\n",
      "CPU times: user 305 µs, sys: 93 µs, total: 398 µs\n",
      "Wall time: 358 µs\n"
     ]
    }
   ],
   "source": [
    "%%time\n",
    "# Compute the sum of seven 4s using NumPy.\n",
    "print(\"Sum seven 4\\'s = {}\".format(np.sum([4] * 7)))"
   ]
  },
  {
   "cell_type": "code",
   "execution_count": 34,
   "metadata": {
    "collapsed": true
   },
   "outputs": [
    {
     "name": "stdout",
     "output_type": "stream",
     "text": [
      "Sum 1 through 10 = 55\n"
     ]
    }
   ],
   "source": [
    "# Compute the sum of 1 through 10 using base Python.\n",
    "print(\"Sum 1 through 10 = {}\".format(np.sum([i for i in range(1,11)])))"
   ]
  },
  {
   "cell_type": "code",
   "execution_count": 40,
   "metadata": {
    "collapsed": true
   },
   "outputs": [
    {
     "name": "stdout",
     "output_type": "stream",
     "text": [
      "28693.9493\n"
     ]
    }
   ],
   "source": [
    "# Using the titanic.fare column, compute the total fare paid by passengers.\n",
    "x = np.array([titanic['fare']])\n",
    "print(\"{}\".format(np.sum([i for i in x])))"
   ]
  },
  {
   "cell_type": "markdown",
   "metadata": {},
   "source": [
    "<a id=\"measures-of-central-tendency\"></a>\n",
    "### Measures of Central Tendency"
   ]
  },
  {
   "cell_type": "markdown",
   "metadata": {},
   "source": [
    "- Mean\n",
    "- Median\n",
    "- Mode"
   ]
  },
  {
   "cell_type": "markdown",
   "metadata": {},
   "source": [
    "#### Mean\n",
    "The mean — also known as the average or expected value — is defined as:\n",
    "$$E[X] = \\bar{X} =\\frac 1n\\sum_{i=1}^nx_i$$\n",
    "\n",
    "It is determined by summing all data points in a population and then dividing the total by the number of points. The resulting number is known as the mean or the average.\n",
    "\n",
    "Be careful — the mean can be highly affected by outliers. For example, the mean of a very large number and some small numbers will be much larger than the \"typical\" small numbers. Earlier, we saw that the mean squared error (MSE) was used to optimize linear regression. Because this mean is highly affected by outliers, the resulting linear regression model is, too."
   ]
  },
  {
   "cell_type": "markdown",
   "metadata": {},
   "source": [
    "#### Median\n",
    "The median refers to the midpoint in a series of numbers. Notice that the median is not affected by outliers, so it more so represents the \"typical\" value in a set.\n",
    "\n",
    "$$ 0,1,2,[3],5,5,1004 $$\n",
    "\n",
    "$$ 1,3,4,[4,5],5,5,7 $$\n",
    "\n",
    "To find the median:\n",
    "\n",
    "- Arrange the numbers in order from smallest to largest.\n",
    "    - If there is an odd number of values, the middle value is the median.\n",
    "    - If there is an even number of values, the average of the middle two values is the median.\n",
    "\n",
    "Although the median has many useful properties, the mean is easier to use in optimization algorithms. The median is more often used in analysis than in machine learning algorithms."
   ]
  },
  {
   "cell_type": "markdown",
   "metadata": {},
   "source": [
    "#### Mode\n",
    "The mode of a set of values is the value that occurs most often.\n",
    "A set of values may have more than one mode, or no mode at all.\n",
    "\n",
    "$$1,0,1,5,7,8,9,3,4,1$$ \n",
    "\n",
    "$1$ is the mode, as it occurs the most often (three times)."
   ]
  },
  {
   "cell_type": "markdown",
   "metadata": {},
   "source": [
    "#### Code-Along"
   ]
  },
  {
   "cell_type": "code",
   "execution_count": 41,
   "metadata": {
    "collapsed": true
   },
   "outputs": [
    {
     "name": "stdout",
     "output_type": "stream",
     "text": [
      "32.2042079685746\n"
     ]
    }
   ],
   "source": [
    "# Find the mean of the titanic.fare series using base Python:\n",
    "print(\"{}\".format(sum(titanic.fare)/float(len(titanic.fare))))"
   ]
  },
  {
   "cell_type": "code",
   "execution_count": 43,
   "metadata": {
    "collapsed": true
   },
   "outputs": [
    {
     "name": "stdout",
     "output_type": "stream",
     "text": [
      "32.2042079685746\n"
     ]
    }
   ],
   "source": [
    "# Find the mean of the titanic.fare series using NumPy:\n",
    "print(\"{}\".format(np.mean(titanic.fare)))"
   ]
  },
  {
   "cell_type": "code",
   "execution_count": 46,
   "metadata": {
    "collapsed": true
   },
   "outputs": [
    {
     "name": "stdout",
     "output_type": "stream",
     "text": [
      "32.2042079685746\n"
     ]
    }
   ],
   "source": [
    "# Find the mean of the titanic.fare series using Pandas\n",
    "print(\"{}\".format(titanic['fare'].mean()))"
   ]
  },
  {
   "cell_type": "code",
   "execution_count": 47,
   "metadata": {
    "collapsed": true
   },
   "outputs": [
    {
     "name": "stdout",
     "output_type": "stream",
     "text": [
      "14.4542\n"
     ]
    }
   ],
   "source": [
    "# What was the median fare paid (using Pandas)?\n",
    "print(\"{}\".format(titanic['fare'].median()))"
   ]
  },
  {
   "cell_type": "code",
   "execution_count": 50,
   "metadata": {
    "collapsed": true
   },
   "outputs": [
    {
     "name": "stdout",
     "output_type": "stream",
     "text": [
      "0    8.05\n",
      "dtype: float64\n"
     ]
    }
   ],
   "source": [
    "# Use Pandas to find the most common fare paid on the Titanic:\n",
    "print(\"{}\".format(titanic['fare'].mode()))"
   ]
  },
  {
   "cell_type": "markdown",
   "metadata": {},
   "source": [
    "<a id=\"math-review\"></a>\n",
    "### Math Review\n",
    "\n",
    "#### How Do We Measure Distance?\n",
    "\n",
    "One method is to take the difference between two points:\n",
    "\n",
    "$$X_2 - X_1$$\n",
    "\n",
    "However, this can be inconvenient because of negative numbers.\n",
    "\n",
    "We often use the following square root trick to deal with negative numbers. Note this is equivalent to the absolute value (if the points are 1-D):\n",
    "\n",
    "$$\\sqrt{(X_2-X_1)^2} = | X_2 - X_1 |$$\n",
    "\n",
    "#### What About Distance in Multiple Dimensions?\n",
    "\n",
    "We can turn to the Pythagorean theorem.\n",
    "\n",
    "$$a^2 + b^2 = c^2$$\n",
    "\n",
    "To find the distance along a diagonal, it is sufficient to measure one dimension at a time:\n",
    "\n",
    "$$\\sqrt{a^2 + b^2} = c$$\n",
    "\n",
    "More generally, we can write this as the norm (You'll see this in machine learning papers):\n",
    "\n",
    "$$\\|X\\|_2 = \\sqrt{\\sum{x_i^2}} = c$$\n",
    "\n",
    "What if we want to work with points rather than distances? For points $\\vec{x}: (x_1, x_1)$ and $\\vec{y}: (y_1, y_2)$ we can write:\n",
    "\n",
    "$$\\sqrt{(x_1 - y_1)^2 + (x_2 - y_2)^2} = c$$\n",
    "or\n",
    "$$\\sqrt{\\sum{(x_i - y_i)^2}} = c$$\n",
    "or\n",
    "$$\\| \\vec{x} - \\vec{y} \\| = c$$\n",
    "\n",
    "> You may be more familiar with defining points as $(x, y)$ rather than $(x_1, x_2)$. However, in machine learning it is much more convenient to define each coordinate using the same base letter with a different subscript. This allows us to easily represent a 100-dimensional point, e.g., $(x_1, x_2, ..., x_{100})$. If we use the grade school method, we would soon run out of letters!"
   ]
  },
  {
   "cell_type": "markdown",
   "metadata": {},
   "source": [
    "<a id=\"measures-of-dispersion-standard-deviation-and-variance\"></a>\n",
    "### Measures of Dispersion: Standard Deviation and Variance"
   ]
  },
  {
   "cell_type": "markdown",
   "metadata": {},
   "source": [
    "Standard deviation (SD, $σ$ for population standard deviation, or $s$ for sample standard deviation) is a measure that is used to quantify the amount of variation or dispersion from the mean of a set of data values. A low standard deviation means that most of the numbers are close to the average. A high standard deviation means that the numbers are spread out.\n",
    "\n",
    "Standard deviation is the square root of variance:\n",
    "\n",
    "$$variance = \\frac {\\sum{(x_i - \\bar{X})^2}} {n-1}$$\n",
    "\n",
    "$$s = \\sqrt{\\frac {\\sum{(x_i - \\bar{X})^2}} {n-1}}$$\n",
    "\n",
    "> **Standard deviation** is often used because it is in the same units as the original data! By glancing at the standard deviation, we can immediately estimate how \"typical\" a data point might be by how many standard deviations it is from the mean. Furthermore, standard deviation is the only value that makes sense to visually draw alongside the original data.\n",
    "\n",
    "> **Variance** is often used for efficiency in computations. The square root in the SD always increases with the function to which it is applied. So, removing it can simplify calculations (e.g., taking derivatives), particularly if we are using the variance for tasks such as optimization."
   ]
  },
  {
   "cell_type": "markdown",
   "metadata": {},
   "source": [
    "**That can be a lot to take in, so let's break it down in Python.**\n",
    "\n",
    "#### Assign the first 5 rows of titanic age data to a variable:"
   ]
  },
  {
   "cell_type": "code",
   "execution_count": 53,
   "metadata": {
    "collapsed": true
   },
   "outputs": [
    {
     "data": {
      "text/plain": [
       "0    22.0\n",
       "1    38.0\n",
       "2    26.0\n",
       "3    35.0\n",
       "4    35.0\n",
       "Name: age, dtype: float64"
      ]
     },
     "execution_count": 53,
     "metadata": {},
     "output_type": "execute_result"
    }
   ],
   "source": [
    "# Take the first five rows of titanic age data.\n",
    "fiveRow = titanic.age.head(5)\n",
    "fiveRow"
   ]
  },
  {
   "cell_type": "markdown",
   "metadata": {},
   "source": [
    "#### Calculate the mean by hand:"
   ]
  },
  {
   "cell_type": "code",
   "execution_count": 59,
   "metadata": {},
   "outputs": [
    {
     "data": {
      "text/plain": [
       "dtype('float64')"
      ]
     },
     "execution_count": 59,
     "metadata": {},
     "output_type": "execute_result"
    }
   ],
   "source": [
    "fiveRow.dtype"
   ]
  },
  {
   "cell_type": "code",
   "execution_count": 60,
   "metadata": {
    "collapsed": true
   },
   "outputs": [
    {
     "name": "stdout",
     "output_type": "stream",
     "text": [
      "31.2\n"
     ]
    }
   ],
   "source": [
    "# Calculate mean by hand.\n",
    "print(\"{}\".format(sum(fiveRow)/float(len(fiveRow))))"
   ]
  },
  {
   "cell_type": "markdown",
   "metadata": {},
   "source": [
    "#### Calculate the variance by hand:"
   ]
  },
  {
   "cell_type": "code",
   "execution_count": null,
   "metadata": {
    "collapsed": true
   },
   "outputs": [],
   "source": [
    "# Calculate variance by hand"
   ]
  },
  {
   "cell_type": "markdown",
   "metadata": {},
   "source": [
    "#### Calculate the variance and the standard deviation using Pandas:"
   ]
  },
  {
   "cell_type": "code",
   "execution_count": 61,
   "metadata": {
    "collapsed": true
   },
   "outputs": [
    {
     "data": {
      "text/plain": [
       "6.833739825307955"
      ]
     },
     "execution_count": 61,
     "metadata": {},
     "output_type": "execute_result"
    }
   ],
   "source": [
    "# Verify with Pandas\n",
    "fiveRow.std()"
   ]
  },
  {
   "cell_type": "code",
   "execution_count": 62,
   "metadata": {},
   "outputs": [
    {
     "data": {
      "text/plain": [
       "46.699999999999996"
      ]
     },
     "execution_count": 62,
     "metadata": {},
     "output_type": "execute_result"
    }
   ],
   "source": [
    "fiveRow.var()"
   ]
  },
  {
   "cell_type": "markdown",
   "metadata": {},
   "source": [
    "<a id=\"our-first-model\"></a>\n",
    "## Our First Model\n",
    "---"
   ]
  },
  {
   "cell_type": "markdown",
   "metadata": {},
   "source": [
    "In this section, we will make a **mathematical model** of data. When we say **model**, we mean it in the same sense that a toy car is a **model** of a real car. If we mainly care about appearance, the toy car model is an excellent model. However, the toy car fails to accurately represent other aspects of the car. For example, we cannot use a toy car to test how the actual car would perform in a collision.\n",
    "\n",
    "In data science, we might take a rich, complex person and model that person solely as a two-dimensional vector: _(age, smokes cigarettes)_. For example: $(90, 1)$, $(28, 0)$, and $(52, 1)$, where $1$ indicates \"smokes cigarettes.\" This model of a complex person obviously fails to account for many things. However, if we primarily care about modeling health risk, it might provide valuable insight.\n",
    "\n",
    "Now that we have superficially modeled a complex person, we might determine a formula that evaluates risk. For example, an older person tends to have worse health, as does a person who smokes. So, we might deem someone as having risk should `age + 50*smokes > 100`. \n",
    "\n",
    "This is a **mathematical model**, as we use math to assess risk. It could be mostly accurate. However, there are surely elderly people who smoke who are in excellent health.\n",
    "\n",
    "\n",
    "---"
   ]
  },
  {
   "cell_type": "markdown",
   "metadata": {},
   "source": [
    "Let's make our first model from scratch. We'll use it predict the `fare` column in the Titanic data. So what data will we use? Actually, none."
   ]
  },
  {
   "cell_type": "markdown",
   "metadata": {},
   "source": [
    "The simplest model we can build is an estimation of the mean, median, or most common value. If we have no feature matrix and only an outcome, this is the best approach to make a prediction using only empirical data. "
   ]
  },
  {
   "cell_type": "markdown",
   "metadata": {},
   "source": [
    "This seems silly, but we'll actually use it all the time to create a baseline of how well we do with no data and determine whether or not our more sophisticated models make an improvement."
   ]
  },
  {
   "cell_type": "markdown",
   "metadata": {},
   "source": [
    "You can find out more about dummy estimators [here](http://scikit-learn.org/stable/modules/model_evaluation.html#dummy-estimators)."
   ]
  },
  {
   "cell_type": "markdown",
   "metadata": {},
   "source": [
    "#### Get the `fare` column from the Titanic data and store it in variable `y`:"
   ]
  },
  {
   "cell_type": "code",
   "execution_count": 63,
   "metadata": {
    "collapsed": true
   },
   "outputs": [],
   "source": [
    "# Get the fare column from the Titanic data and store it as y:\n",
    "y = np.array(titanic.fare)"
   ]
  },
  {
   "cell_type": "markdown",
   "metadata": {},
   "source": [
    "#### Create predictions `y_pred` (in this case just the mean of `y`):"
   ]
  },
  {
   "cell_type": "code",
   "execution_count": 66,
   "metadata": {
    "collapsed": true
   },
   "outputs": [],
   "source": [
    "# Stored predictions in y_pred:\n",
    "y_pred = np.array(np.mean(y))"
   ]
  },
  {
   "cell_type": "markdown",
   "metadata": {},
   "source": [
    "#### Find the average squared distance between each prediction and its actual value:\n",
    "\n",
    "This is known as the mean squared error (MSE)."
   ]
  },
  {
   "cell_type": "code",
   "execution_count": 65,
   "metadata": {
    "collapsed": true
   },
   "outputs": [
    {
     "data": {
      "text/plain": [
       "2466.6653116850434"
      ]
     },
     "execution_count": 65,
     "metadata": {},
     "output_type": "execute_result"
    }
   ],
   "source": [
    "# Squared error is hard to read; let's look at mean squared error:\n",
    "np.mean(np.square(y-y_pred))"
   ]
  },
  {
   "cell_type": "markdown",
   "metadata": {},
   "source": [
    "#### Calculate the root mean squared error (RMSE), the square root of the MSE:"
   ]
  },
  {
   "cell_type": "code",
   "execution_count": 67,
   "metadata": {
    "collapsed": true
   },
   "outputs": [
    {
     "data": {
      "text/plain": [
       "49.66553444477411"
      ]
     },
     "execution_count": 67,
     "metadata": {},
     "output_type": "execute_result"
    }
   ],
   "source": [
    "# \n",
    "np.sqrt(np.mean(np.square(y-y_pred)))"
   ]
  },
  {
   "cell_type": "code",
   "execution_count": 70,
   "metadata": {},
   "outputs": [
    {
     "data": {
      "text/plain": [
       "1482.4974848920904"
      ]
     },
     "execution_count": 70,
     "metadata": {},
     "output_type": "execute_result"
    }
   ],
   "source": [
    "np.linalg.norm(y-y_pred)"
   ]
  },
  {
   "cell_type": "code",
   "execution_count": 77,
   "metadata": {},
   "outputs": [
    {
     "data": {
      "text/plain": [
       "2466.6653116850434"
      ]
     },
     "execution_count": 77,
     "metadata": {},
     "output_type": "execute_result"
    }
   ],
   "source": [
    "np.square(np.linalg.norm(y-y_pred))/len(y)"
   ]
  },
  {
   "cell_type": "code",
   "execution_count": 78,
   "metadata": {},
   "outputs": [
    {
     "data": {
      "text/plain": [
       "49.66553444477411"
      ]
     },
     "execution_count": 78,
     "metadata": {},
     "output_type": "execute_result"
    }
   ],
   "source": [
    "np.sqrt(np.square(np.linalg.norm(y-y_pred))/len(y))"
   ]
  },
  {
   "cell_type": "markdown",
   "metadata": {},
   "source": [
    "<a id=\"a-short-introduction-to-model-bias-and-variance\"></a>\n",
    "## A Short Introduction to Model Bias and Variance \n",
    "\n",
    "---\n",
    "\n",
    "- **Objective:** Describe the bias and variance of statistical estimators."
   ]
  },
  {
   "cell_type": "markdown",
   "metadata": {},
   "source": [
    "In simple terms, **bias** shows how accurate a model is in its predictions. (It has **low bias** if it hits the bullseye!)\n",
    "\n",
    "**Variance** shows how reliable a model is in its performance. (It has **low variance** if the points are predicted consistently!)\n",
    "\n",
    "These characteristics have important interactions, but we will save that for later.\n",
    "\n",
    "![Bias and Variance](assets/images/biasVsVarianceImage.png)"
   ]
  },
  {
   "cell_type": "markdown",
   "metadata": {},
   "source": [
    "Remember how we just calculated mean squared error to determine the accuracy of our prediction? It turns out we can do this for any statistical estimator, including mean, variance, and machine learning models."
   ]
  },
  {
   "cell_type": "markdown",
   "metadata": {},
   "source": [
    "We can even decompose mean squared error to identify where the source of error comes from."
   ]
  },
  {
   "cell_type": "markdown",
   "metadata": {},
   "source": [
    "<a id=\"bias-variance-decomposition\"></a>\n",
    "### Bias-Variance Decomposition"
   ]
  },
  {
   "cell_type": "markdown",
   "metadata": {},
   "source": [
    "In the following notation, $f$ refers to a perfect model, while $\\hat{f}$ refers to our model.\n",
    "\n",
    "**Bias**\n",
    "\n",
    "Error caused by bias is calculated as the difference between the expected prediction of our model and the correct value we are trying to predict:\n",
    "\n",
    "$$Bias = E[\\hat{f}(x)] - f(x)$$\n",
    "\n",
    "**Variance**\n",
    "\n",
    "Error caused by variance is taken as the variability of a model prediction for a given point:\n",
    "\n",
    "$$Variance = E[(\\hat{f}(x) - E[\\hat{f}(x)])^2]$$\n",
    "\n",
    "**Mean Squared Error**\n",
    "$$MSE(\\hat{f}(x)) = Var(\\hat{f}(x)) + Bias(\\hat{f}(x),f(x))^2$$"
   ]
  },
  {
   "cell_type": "markdown",
   "metadata": {},
   "source": [
    "> The MSE is actually composed of three sources of error: The **variance**, **bias**, and some **irreducible error** that the model can never render given the available features.\n",
    "\n",
    "This topic will come up again, but for now it's enough to know that we can decompose MSE into the bias of the estimator and the variance of the estimator."
   ]
  },
  {
   "cell_type": "markdown",
   "metadata": {},
   "source": [
    "<a id=\"example-using-bessels-correction\"></a>\n",
    "### Example Using Bessel's Correction"
   ]
  },
  {
   "cell_type": "markdown",
   "metadata": {},
   "source": [
    "It's rarely practical to measure every single item in a population to gather a statistic. We will usually sample a few items and use those to infer a population value.\n",
    "\n",
    "For example, we can take a class of 200 students and measure their height, but rather than measuring everyone, we select students at random to estimate the average height in the class and the variance of the height in the class.\n",
    "\n",
    "We know we can take the mean as follows:\n",
    "\n",
    "$$E[X] = \\bar{X} =\\frac 1n\\sum_{i=1}^nx_i$$\n",
    "\n",
    "What about the variance?\n",
    "\n",
    "Intuitively and by definition, population variance looks like this (the average distance from the mean):\n",
    "\n",
    "$$\\frac {\\sum{(x_i - \\bar{X})^2}} {n}$$\n",
    "\n",
    "It's actually better to use the following for a sample (why?):\n",
    "\n",
    "$$\\frac {\\sum{(x_i - \\bar{X})^2}} {n-1}$$\n",
    "\n",
    "In some cases, we may even use:\n",
    "\n",
    "$$\\frac {\\sum{(x_i - \\bar{X})^2}} {n+1}$$\n",
    "\n",
    "Detailed explanations can be found here:\n",
    "\n",
    "- [Bessel correction](https://en.wikipedia.org/wiki/Bessel%27s_correction).\n",
    "- [Mean Squared Error](https://en.wikipedia.org/wiki/Mean_squared_error)."
   ]
  },
  {
   "cell_type": "markdown",
   "metadata": {},
   "source": [
    "Let's walk through an example of computing the variance by hand.\n",
    "\n",
    "Suppose we have the following data:\n",
    "\n",
    "$$X = [1, 2, 3, 4, 4, 10]$$\n",
    "\n",
    "First, we compute its mean: \n",
    "\n",
    "$$\\bar{X} = (1/6)(1 + 2 + 3 + 4 + 4 + 10) = 4$$\n",
    "\n",
    "Because this is a sample of data rather than the full population, we'll use the second formula. Let's first \"mean center\" the data:\n",
    "\n",
    "$$X_{centered} = X - \\bar{X} = [-3, -2, -1, 0, 0, 6]$$\n",
    "\n",
    "Now, we'll simply find the average squared distance of each point from the mean:\n",
    "\n",
    "$$variance = \\frac {\\sum{(x_i - \\bar{X})^2}} {n-1} = \\frac {(-3)^2 + (-2)^2 + (-1)^2 + 0^2 + 0^2 + 6^2}{6-1} = \\frac{14 + 36}{5} = 10$$\n",
    "\n",
    "So, the **variance of $X$** is $10$. However, we cannot compare this directly to the original units, because it is in the original units squared. So, we will use the **standard deviation of $X$**, $\\sqrt{10} \\approx 3.16$ to see that the value of $10$ is farther than one standard deviation from the mean of $4$. So, we can conclude it is somewhat far from most of the points (more on what it really might mean later).\n",
    "\n",
    "---\n",
    "\n",
    "A variance of $0$ means there is no spread. If we instead take $X = [1, 1, 1, 1]$, then clearly the mean $\\bar{X} = 1$. So, $X_{centered} = [0, 0, 0, 0]$, which directly leads to a variance of $0$. (Make sure you understand why! Remember that variance is the average squared distance of each point from the mean.)"
   ]
  },
  {
   "cell_type": "code",
   "execution_count": 8,
   "metadata": {
    "collapsed": true
   },
   "outputs": [],
   "source": [
    "heights = np.random.rand(200) + 6.5"
   ]
  },
  {
   "cell_type": "code",
   "execution_count": 9,
   "metadata": {
    "collapsed": true
   },
   "outputs": [],
   "source": [
    "def plot_means(sample_size):\n",
    "    true_mean = np.mean(heights)\n",
    "    \n",
    "    mean_heights = []\n",
    "    for n in range(5,sample_size):\n",
    "        for j in range(30):\n",
    "            mean_height = np.mean(np.random.choice(heights, n, replace=False))\n",
    "            mean_heights.append((n, mean_height))\n",
    "    \n",
    "    sample_height = pd.DataFrame(mean_heights, columns=['sample_size', 'height'])\n",
    "    sample_height.plot.scatter(x='sample_size', y='height', figsize=(14, 4), alpha=0.5)\n",
    "    \n",
    "    plt.axhline(y=true_mean, c='r')\n",
    "    plt.title(\"The Bias and Variance of the Mean Estimator\")\n",
    "    plt.show()"
   ]
  },
  {
   "cell_type": "code",
   "execution_count": 10,
   "metadata": {
    "collapsed": true
   },
   "outputs": [],
   "source": [
    "def plot_variances(sample_size):\n",
    "    true_variance = np.var(heights)\n",
    "    \n",
    "    var_heights = []\n",
    "    for n in range(5,sample_size):\n",
    "        for j in range(30):\n",
    "            var_height1 = np.var(np.random.choice(heights, n, replace=False), ddof=0)\n",
    "            var_height2 = np.var(np.random.choice(heights, n, replace=False), ddof=1)\n",
    "            var_height3 = np.var(np.random.choice(heights, n, replace=False), ddof=-1)\n",
    "            var_heights.append((n, var_height1, var_height2, var_height3))\n",
    "    \n",
    "    sample_var = pd.DataFrame(var_heights, columns=['sample_size', 'variance1', 'variance2', 'variance3'])\n",
    "    sample_var.plot.scatter(x='sample_size', y='variance1', figsize=(14, 3), alpha=0.5)\n",
    "    plt.axhline(y=true_variance, c='r')\n",
    "    plt.title(\"The Bias and Variance of the Population Variance Estimator (n)\")\n",
    "    \n",
    "    sample_var.plot.scatter(x='sample_size', y='variance3', figsize=(14, 3), alpha=0.5)\n",
    "    plt.axhline(y=true_variance, c='r')\n",
    "    plt.title(\"The Bias and Variance of the Biased Sample Variance Estimator (n+1)\")\n",
    "    \n",
    "    sample_var.plot.scatter(x='sample_size', y='variance2', figsize=(14, 3), alpha=0.5)\n",
    "    plt.axhline(y=true_variance, c='r')\n",
    "    plt.title(\"The Bias and Variance of the Sample Variance Estimator (n-1)\")\n",
    "    plt.show()"
   ]
  },
  {
   "cell_type": "code",
   "execution_count": 11,
   "metadata": {},
   "outputs": [
    {
     "data": {
      "image/png": "[encoded data removed]",
      "text/plain": [
       "<matplotlib.figure.Figure at 0x10f448390>"
      ]
     },
     "metadata": {},
     "output_type": "display_data"
    }
   ],
   "source": [
    "interact(plot_means, sample_size=(5,200));"
   ]
  },
  {
   "cell_type": "markdown",
   "metadata": {},
   "source": [
    "- The red line in the chart above is the true average height, but because we don't want to ask 200 people about their height, we take a samples.\n",
    "\n",
    "- The blue dots show the estimate of the average height after taking a sample. To give us an idea of how sampling works, we simulate taking multiple samples.\n",
    "\n",
    "- The $X$ axis shows the sample size we take, while the blue dots show the likely average heights we'll conclude for a given sample size.\n",
    "\n",
    "- Even though the true average height is around 7 feet, a small sample may lead us to think that it's actually 6.7 or 7.3 feet. \n",
    "\n",
    "- Notice that the red line is in the center of our estimates. On average, we are correct and have no bias.\n",
    "\n",
    "- If we take a larger sample size, we get a better estimate. This means that the variance of our estimate gets smaller with larger samples sizes."
   ]
  },
  {
   "cell_type": "code",
   "execution_count": 12,
   "metadata": {},
   "outputs": [
    {
     "data": {
      "image/png": "[encoded data removed]",
      "text/plain": [
       "<matplotlib.figure.Figure at 0x10f4484d0>"
      ]
     },
     "metadata": {},
     "output_type": "display_data"
    },
    {
     "data": {
      "image/png": "[encoded data removed]",
      "text/plain": [
       "<matplotlib.figure.Figure at 0x113209690>"
      ]
     },
     "metadata": {},
     "output_type": "display_data"
    },
    {
     "data": {
      "image/png": "[encoded data removed]",
      "text/plain": [
       "<matplotlib.figure.Figure at 0x1133482d0>"
      ]
     },
     "metadata": {},
     "output_type": "display_data"
    }
   ],
   "source": [
    "interact(plot_variances, sample_size=(5,200));"
   ]
  },
  {
   "cell_type": "markdown",
   "metadata": {},
   "source": [
    "- Not all estimators are created equal.\n",
    "\n",
    "- The red lines in the charts above show the true variance of height.\n",
    "\n",
    "- The top graph is the population variance estimator, while the bottom graph is the sample variance estimator.\n",
    "\n",
    "- It's subtle, but notice that the population variance estimator is not centered on the red line. It's actually biased and consistently underestimates the true variance, especially at low sample sizes.\n",
    "\n",
    "- You may also notice that the scatter of the population variance estimator is smaller. That means the variance of the population variance estimator is smaller. Essentially, it's the variability of the estimator. \n",
    "\n",
    "- Play around with the sliders to get a good view of the graphs."
   ]
  },
  {
   "cell_type": "markdown",
   "metadata": {},
   "source": [
    "<a id=\"correlation-and-association\"></a>\n",
    "## Correlation and Association\n",
    "---\n",
    "\n",
    "- **Objective:** Describe characteristics and trends in a data set using visualizations.\n",
    "\n",
    "Correlation measures how variables related to each other.\n",
    "\n",
    "Typically, we talk about the Pearson correlation coefficient — a measure of **linear** association.\n",
    "\n",
    "We refer to perfect correlation as **colinearity**.\n",
    "\n",
    "The following are a few correlation coefficients. Note that if both variables trend upward, the coefficient is positive. If one trends opposite the other, it is negative. \n",
    "\n",
    "It is important that you always look at your data visually — the coefficient by itself can be misleading:"
   ]
  },
  {
   "cell_type": "markdown",
   "metadata": {},
   "source": [
    "![Example correlation values](./assets/images/correlation_examples.png)"
   ]
  },
  {
   "cell_type": "markdown",
   "metadata": {},
   "source": [
    "<a id=\"codealong-correlation-in-pandas\"></a>\n",
    "### Code-Along: Correlation in Pandas\n",
    "\n",
    "**Objective:** Explore options for measuring and visualizing correlation in Pandas."
   ]
  },
  {
   "cell_type": "markdown",
   "metadata": {},
   "source": [
    "#### Display the correlation matrix for all Titanic variables:"
   ]
  },
  {
   "cell_type": "code",
   "execution_count": 99,
   "metadata": {},
   "outputs": [
    {
     "data": {
      "text/plain": [
       "\u001b[0;31mSignature:\u001b[0m \u001b[0mtitanic\u001b[0m\u001b[0;34m.\u001b[0m\u001b[0mcorr\u001b[0m\u001b[0;34m(\u001b[0m\u001b[0mmethod\u001b[0m\u001b[0;34m=\u001b[0m\u001b[0;34m'pearson'\u001b[0m\u001b[0;34m,\u001b[0m \u001b[0mmin_periods\u001b[0m\u001b[0;34m=\u001b[0m\u001b[0;36m1\u001b[0m\u001b[0;34m)\u001b[0m\u001b[0;34m\u001b[0m\u001b[0m\n",
       "\u001b[0;31mDocstring:\u001b[0m\n",
       "Compute pairwise correlation of columns, excluding NA/null values\n",
       "\n",
       "Parameters\n",
       "----------\n",
       "method : {'pearson', 'kendall', 'spearman'}\n",
       "    * pearson : standard correlation coefficient\n",
       "    * kendall : Kendall Tau correlation coefficient\n",
       "    * spearman : Spearman rank correlation\n",
       "min_periods : int, optional\n",
       "    Minimum number of observations required per pair of columns\n",
       "    to have a valid result. Currently only available for pearson\n",
       "    and spearman correlation\n",
       "\n",
       "Returns\n",
       "-------\n",
       "y : DataFrame\n",
       "\u001b[0;31mFile:\u001b[0m      /anaconda3/lib/python3.6/site-packages/pandas/core/frame.py\n",
       "\u001b[0;31mType:\u001b[0m      method\n"
      ]
     },
     "metadata": {},
     "output_type": "display_data"
    }
   ],
   "source": [
    "titanic.corr?"
   ]
  },
  {
   "cell_type": "code",
   "execution_count": 80,
   "metadata": {
    "collapsed": true
   },
   "outputs": [
    {
     "data": {
      "text/html": [
       "<div>\n",
       "<style scoped>\n",
       "    .dataframe tbody tr th:only-of-type {\n",
       "        vertical-align: middle;\n",
       "    }\n",
       "\n",
       "    .dataframe tbody tr th {\n",
       "        vertical-align: top;\n",
       "    }\n",
       "\n",
       "    .dataframe thead th {\n",
       "        text-align: right;\n",
       "    }\n",
       "</style>\n",
       "<table border=\"1\" class=\"dataframe\">\n",
       "  <thead>\n",
       "    <tr style=\"text-align: right;\">\n",
       "      <th></th>\n",
       "      <th>survived</th>\n",
       "      <th>pclass</th>\n",
       "      <th>age</th>\n",
       "      <th>sibsp</th>\n",
       "      <th>parch</th>\n",
       "      <th>fare</th>\n",
       "    </tr>\n",
       "  </thead>\n",
       "  <tbody>\n",
       "    <tr>\n",
       "      <th>survived</th>\n",
       "      <td>1.000000</td>\n",
       "      <td>-0.338481</td>\n",
       "      <td>-0.077221</td>\n",
       "      <td>-0.035322</td>\n",
       "      <td>0.081629</td>\n",
       "      <td>0.257307</td>\n",
       "    </tr>\n",
       "    <tr>\n",
       "      <th>pclass</th>\n",
       "      <td>-0.338481</td>\n",
       "      <td>1.000000</td>\n",
       "      <td>-0.369226</td>\n",
       "      <td>0.083081</td>\n",
       "      <td>0.018443</td>\n",
       "      <td>-0.549500</td>\n",
       "    </tr>\n",
       "    <tr>\n",
       "      <th>age</th>\n",
       "      <td>-0.077221</td>\n",
       "      <td>-0.369226</td>\n",
       "      <td>1.000000</td>\n",
       "      <td>-0.308247</td>\n",
       "      <td>-0.189119</td>\n",
       "      <td>0.096067</td>\n",
       "    </tr>\n",
       "    <tr>\n",
       "      <th>sibsp</th>\n",
       "      <td>-0.035322</td>\n",
       "      <td>0.083081</td>\n",
       "      <td>-0.308247</td>\n",
       "      <td>1.000000</td>\n",
       "      <td>0.414838</td>\n",
       "      <td>0.159651</td>\n",
       "    </tr>\n",
       "    <tr>\n",
       "      <th>parch</th>\n",
       "      <td>0.081629</td>\n",
       "      <td>0.018443</td>\n",
       "      <td>-0.189119</td>\n",
       "      <td>0.414838</td>\n",
       "      <td>1.000000</td>\n",
       "      <td>0.216225</td>\n",
       "    </tr>\n",
       "    <tr>\n",
       "      <th>fare</th>\n",
       "      <td>0.257307</td>\n",
       "      <td>-0.549500</td>\n",
       "      <td>0.096067</td>\n",
       "      <td>0.159651</td>\n",
       "      <td>0.216225</td>\n",
       "      <td>1.000000</td>\n",
       "    </tr>\n",
       "  </tbody>\n",
       "</table>\n",
       "</div>"
      ],
      "text/plain": [
       "          survived    pclass       age     sibsp     parch      fare\n",
       "survived  1.000000 -0.338481 -0.077221 -0.035322  0.081629  0.257307\n",
       "pclass   -0.338481  1.000000 -0.369226  0.083081  0.018443 -0.549500\n",
       "age      -0.077221 -0.369226  1.000000 -0.308247 -0.189119  0.096067\n",
       "sibsp    -0.035322  0.083081 -0.308247  1.000000  0.414838  0.159651\n",
       "parch     0.081629  0.018443 -0.189119  0.414838  1.000000  0.216225\n",
       "fare      0.257307 -0.549500  0.096067  0.159651  0.216225  1.000000"
      ]
     },
     "execution_count": 80,
     "metadata": {},
     "output_type": "execute_result"
    }
   ],
   "source": [
    "# A:\n",
    "titanic.corr()"
   ]
  },
  {
   "cell_type": "code",
   "execution_count": 89,
   "metadata": {},
   "outputs": [
    {
     "data": {
      "text/plain": [
       "<matplotlib.axes._subplots.AxesSubplot at 0x1a288f5240>"
      ]
     },
     "execution_count": 89,
     "metadata": {},
     "output_type": "execute_result"
    },
    {
     "data": {
      "image/png": "[encoded data removed]",
      "text/plain": [
       "<matplotlib.figure.Figure at 0x1a27e9d9b0>"
      ]
     },
     "metadata": {},
     "output_type": "display_data"
    }
   ],
   "source": [
    "sns.heatmap(titanic.corr(), annot=True)"
   ]
  },
  {
   "cell_type": "markdown",
   "metadata": {},
   "source": [
    "#### Use Seaborn to plot a heat map of the correlation matrix:\n",
    "\n",
    "The `sns.heatmap()` function will accomplish this.\n",
    "\n",
    "- Generate a correlation matrix from the Titanic data using the `.corr()` method.\n",
    "- Pass the correlation matrix into `sns.heatmap()` as its only parameter."
   ]
  },
  {
   "cell_type": "code",
   "execution_count": 48,
   "metadata": {
    "collapsed": true
   },
   "outputs": [],
   "source": [
    "# Use Seaborn to plot a correlation heat map"
   ]
  },
  {
   "cell_type": "code",
   "execution_count": 88,
   "metadata": {
    "collapsed": true
   },
   "outputs": [
    {
     "data": {
      "text/plain": [
       "<matplotlib.axes._subplots.AxesSubplot at 0x1a27f9de48>"
      ]
     },
     "execution_count": 88,
     "metadata": {},
     "output_type": "execute_result"
    },
    {
     "data": {
      "image/png": "[encoded data removed]",
      "text/plain": [
       "<matplotlib.figure.Figure at 0x1a288f50f0>"
      ]
     },
     "metadata": {},
     "output_type": "display_data"
    }
   ],
   "source": [
    "# Take a closer look at the survived and fare variables using a scatter plot\n",
    "titanic.plot.scatter(x='survived', y='fare', figsize=(16,9), alpha=0.2)\n",
    "\n",
    "# Is correlation a good way to inspect the association of fare and survival?"
   ]
  },
  {
   "cell_type": "markdown",
   "metadata": {},
   "source": [
    "<a id=\"the-normal-distribution\"></a>\n",
    "## The Normal Distribution\n",
    "---\n",
    "\n",
    "- **Objective:** Identify a normal distribution within a data set using summary statistics and data visualizations."
   ]
  },
  {
   "cell_type": "markdown",
   "metadata": {},
   "source": [
    "###  Math Review\n",
    "- What is an event space?\n",
    "  - A listing of all possible occurrences.\n",
    "- What is a probability distribution?\n",
    "  - A function that describes how events occur in an event space.\n",
    "- What are general properties of probability distributions?\n",
    "  - All probabilities of an event are between 0 and 1.\n",
    "  - The probability that something occurs is almost certain, or 1.\n",
    "  "
   ]
  },
  {
   "cell_type": "markdown",
   "metadata": {},
   "source": [
    "<a id=\"what-is-the-normal-distribution\"></a>\n",
    "### What is the Normal Distribution?\n",
    "- A normal distribution is often a key assumption to many models.\n",
    "  - In practice, if the normal distribution assumption is not met, it's not the end of the world. Your model is just less efficient in most cases.\n",
    "\n",
    "- The normal distribution depends on the mean and the standard deviation.\n",
    "\n",
    "- The mean determines the center of the distribution. The standard deviation determines the height and width of the distribution.\n",
    "\n",
    "- Normal distributions are symmetric, bell-shaped curves.\n",
    "\n",
    "- When the standard deviation is large, the curve is short and wide.\n",
    "\n",
    "- When the standard deviation is small, the curve is tall and narrow.\n",
    "\n",
    "![normal distribution](assets/images/normal.png)\n"
   ]
  },
  {
   "cell_type": "markdown",
   "metadata": {},
   "source": [
    "#### Why do we care about normal distributions?\n",
    "\n",
    "- They often show up in nature.\n",
    "- Aggregated processes tend to distribute normally, regardless of their underlying distribution — provided that the processes are uncorrelated or weakly correlated (central limit theorem).\n",
    "- They offer effective simplification that makes it easy to make approximations."
   ]
  },
  {
   "cell_type": "markdown",
   "metadata": {},
   "source": [
    "#### Plot a histogram of 1,000 samples from a random normal distribution:\n",
    "\n",
    "The `np.random.randn(numsamples)` function will draw from a random normal distribution with a mean of 0 and a standard deviation of 1.\n",
    "\n",
    "- To plot a histogram, pass a NumPy array with 1000 samples as the only parameter to `plt.hist()`.\n",
    "- Change the number of bins using the keyword argument `bins`, e.g. `plt.hist(mydata, bins=50)`"
   ]
  },
  {
   "cell_type": "code",
   "execution_count": 96,
   "metadata": {
    "collapsed": true
   },
   "outputs": [
    {
     "data": {
      "text/plain": [
       "(array([ 1.,  0.,  0.,  0.,  0.,  0.,  0.,  3.,  1.,  2.,  5.,  3.,  7.,\n",
       "         5., 10.,  7., 20., 16., 19., 19., 19., 48., 29., 37., 47., 43.,\n",
       "        57., 49., 41., 57., 70., 49., 47., 50., 41., 30., 31., 31., 19.,\n",
       "        20., 14.,  8., 14.,  6., 12.,  0.,  3.,  6.,  2.,  2.]),\n",
       " array([-3.72356885, -3.5934088 , -3.46324875, -3.3330887 , -3.20292864,\n",
       "        -3.07276859, -2.94260854, -2.81244849, -2.68228844, -2.55212839,\n",
       "        -2.42196834, -2.29180829, -2.16164823, -2.03148818, -1.90132813,\n",
       "        -1.77116808, -1.64100803, -1.51084798, -1.38068793, -1.25052787,\n",
       "        -1.12036782, -0.99020777, -0.86004772, -0.72988767, -0.59972762,\n",
       "        -0.46956757, -0.33940751, -0.20924746, -0.07908741,  0.05107264,\n",
       "         0.18123269,  0.31139274,  0.44155279,  0.57171285,  0.7018729 ,\n",
       "         0.83203295,  0.962193  ,  1.09235305,  1.2225131 ,  1.35267315,\n",
       "         1.4828332 ,  1.61299326,  1.74315331,  1.87331336,  2.00347341,\n",
       "         2.13363346,  2.26379351,  2.39395356,  2.52411362,  2.65427367,\n",
       "         2.78443372]),\n",
       " <a list of 50 Patch objects>)"
      ]
     },
     "execution_count": 96,
     "metadata": {},
     "output_type": "execute_result"
    },
    {
     "data": {
      "image/png": "[encoded data removed]",
      "text/plain": [
       "<matplotlib.figure.Figure at 0x1a27d2e860>"
      ]
     },
     "metadata": {},
     "output_type": "display_data"
    }
   ],
   "source": [
    "# Plot a histogram of several random normal samples from NumPy.\n",
    "plt.hist(np.random.randn(1000), bins=50)\n"
   ]
  },
  {
   "cell_type": "markdown",
   "metadata": {},
   "source": [
    "<a id=\"skewness\"></a>\n",
    "###  Skewness\n",
    "- Skewness is a measure of the asymmetry of the distribution of a random variable about its mean.\n",
    "- Skewness can be positive or negative, or even undefined.\n",
    "- Notice that the mean, median, and mode are the same when there is no skew.\n",
    "\n",
    "![skewness](assets/images/skewness---mean-median-mode.jpg)"
   ]
  },
  {
   "cell_type": "markdown",
   "metadata": {},
   "source": [
    "#### Plot a lognormal distribution generated with NumPy.\n",
    "\n",
    "Take 1,000 samples using `np.random.lognormal(size=numsamples)` and plot them on a histogram."
   ]
  },
  {
   "cell_type": "code",
   "execution_count": 100,
   "metadata": {
    "collapsed": true
   },
   "outputs": [
    {
     "data": {
      "text/plain": [
       "(array([514., 257., 101.,  55.,  27.,  11.,   8.,   6.,   9.,   3.,   2.,\n",
       "          2.,   0.,   2.,   1.,   0.,   0.,   1.,   0.,   0.,   0.,   0.,\n",
       "          0.,   0.,   0.,   0.,   0.,   0.,   0.,   0.,   0.,   0.,   0.,\n",
       "          0.,   0.,   0.,   0.,   0.,   0.,   0.,   0.,   0.,   0.,   0.,\n",
       "          0.,   0.,   0.,   0.,   0.,   1.]),\n",
       " array([3.69877721e-02, 1.05536246e+00, 2.07373714e+00, 3.09211183e+00,\n",
       "        4.11048651e+00, 5.12886120e+00, 6.14723588e+00, 7.16561057e+00,\n",
       "        8.18398525e+00, 9.20235994e+00, 1.02207346e+01, 1.12391093e+01,\n",
       "        1.22574840e+01, 1.32758587e+01, 1.42942334e+01, 1.53126080e+01,\n",
       "        1.63309827e+01, 1.73493574e+01, 1.83677321e+01, 1.93861068e+01,\n",
       "        2.04044815e+01, 2.14228562e+01, 2.24412308e+01, 2.34596055e+01,\n",
       "        2.44779802e+01, 2.54963549e+01, 2.65147296e+01, 2.75331043e+01,\n",
       "        2.85514790e+01, 2.95698536e+01, 3.05882283e+01, 3.16066030e+01,\n",
       "        3.26249777e+01, 3.36433524e+01, 3.46617271e+01, 3.56801017e+01,\n",
       "        3.66984764e+01, 3.77168511e+01, 3.87352258e+01, 3.97536005e+01,\n",
       "        4.07719752e+01, 4.17903499e+01, 4.28087245e+01, 4.38270992e+01,\n",
       "        4.48454739e+01, 4.58638486e+01, 4.68822233e+01, 4.79005980e+01,\n",
       "        4.89189727e+01, 4.99373473e+01, 5.09557220e+01]),\n",
       " <a list of 50 Patch objects>)"
      ]
     },
     "execution_count": 100,
     "metadata": {},
     "output_type": "execute_result"
    },
    {
     "data": {
      "image/png": "[encoded data removed]",
      "text/plain": [
       "<matplotlib.figure.Figure at 0x1a27f5a198>"
      ]
     },
     "metadata": {},
     "output_type": "display_data"
    }
   ],
   "source": [
    "# Plot a lognormal distribution generated with NumPy\n",
    "plt.hist(np.random.lognormal(size=1000), bins=50)"
   ]
  },
  {
   "cell_type": "markdown",
   "metadata": {},
   "source": [
    "#####  Real World Application - When mindfullness beats complexity\n",
    "- Skewness is surprisingly important.\n",
    "- Most algorithms implicitly use the mean by default when making approximations.\n",
    "- If you know your data is heavily skewed, you may have to either transform your data or set your algorithms to work with the median."
   ]
  },
  {
   "cell_type": "markdown",
   "metadata": {},
   "source": [
    "<a id=\"kurtosis\"></a>\n",
    "### Kurtosis\n",
    "- Kurtosis is a measure of whether the data are peaked or flat, relative to a normal distribution.\n",
    "- Data sets with high kurtosis tend to have a distinct peak near the mean, decline rather rapidly, and have heavy tails. \n",
    "\n",
    "![kurtosis](assets/images/kurtosis.jpg)"
   ]
  },
  {
   "cell_type": "markdown",
   "metadata": {},
   "source": [
    "####  Real-World Application: Risk Analysis\n",
    "- Long-tailed distributions with high kurtosis elude intuition; we naturally think the event is too improbable to pay attention to.\n",
    "- It's often the case that there is a large cost associated with a low-probability event, as is the case with hurricane damage.\n",
    "- It's unlikely you will get hit by a Category 5 hurricane, but when you do, the damage will be catastrophic.\n",
    "- Pay attention to what happens at the tails and whether this influences the problem at hand.\n",
    "- In these cases, understanding the costs may be more important than understanding the risks."
   ]
  },
  {
   "cell_type": "markdown",
   "metadata": {},
   "source": [
    "<a id=\"determining-the-distribution-of-your-data\"></a>\n",
    "## Determining the Distribution of Your Data\n",
    "---\n",
    "\n",
    "**Objective:** Create basic data visualizations, including scatterplots, box plots, and histograms."
   ]
  },
  {
   "cell_type": "markdown",
   "metadata": {},
   "source": [
    "![](./assets/images/distributions.png)"
   ]
  },
  {
   "cell_type": "markdown",
   "metadata": {},
   "source": [
    "#### Use the `.hist()` function of your Titantic DataFrame to plot histograms of all the variables in your data.\n",
    "\n",
    "- The function `plt.hist(data)` calls the Matplotlib library directly.\n",
    "- However, each DataFrame has its own `hist()` method that by default plots one histogram per column. \n",
    "- Given a DataFrame `my_df`, it can be called like this: `my_df.hist()`. "
   ]
  },
  {
   "cell_type": "code",
   "execution_count": 104,
   "metadata": {
    "collapsed": true
   },
   "outputs": [
    {
     "data": {
      "text/plain": [
       "array([[<matplotlib.axes._subplots.AxesSubplot object at 0x1a29c7b5f8>,\n",
       "        <matplotlib.axes._subplots.AxesSubplot object at 0x1a29d482b0>],\n",
       "       [<matplotlib.axes._subplots.AxesSubplot object at 0x1a29d7f9b0>,\n",
       "        <matplotlib.axes._subplots.AxesSubplot object at 0x1a29dbe0f0>],\n",
       "       [<matplotlib.axes._subplots.AxesSubplot object at 0x1a29df3710>,\n",
       "        <matplotlib.axes._subplots.AxesSubplot object at 0x1a29df3748>]],\n",
       "      dtype=object)"
      ]
     },
     "execution_count": 104,
     "metadata": {},
     "output_type": "execute_result"
    },
    {
     "data": {
      "image/png": "[encoded data removed]",
      "text/plain": [
       "<matplotlib.figure.Figure at 0x1a29437ba8>"
      ]
     },
     "metadata": {},
     "output_type": "display_data"
    }
   ],
   "source": [
    "# Plot all variables in the Titanic data set using histograms:\n",
    "titanic.hist(figsize=(16,16))"
   ]
  },
  {
   "cell_type": "markdown",
   "metadata": {},
   "source": [
    "#### Use the built-in `.plot.box()` function of your Titanic DataFrame to plot box plots of your variables.\n",
    "\n",
    "- Given a DataFrame, a box plot can be made where each column is one tick on the x axis.\n",
    "- To do this, it can be called like this: `my_df.plot.box()`.\n",
    "- Try using the keyword argument `showfliers`, e.g. `showfliers=False`."
   ]
  },
  {
   "cell_type": "code",
   "execution_count": 108,
   "metadata": {
    "collapsed": true
   },
   "outputs": [
    {
     "data": {
      "text/plain": [
       "<matplotlib.axes._subplots.AxesSubplot at 0x1a2a824358>"
      ]
     },
     "execution_count": 108,
     "metadata": {},
     "output_type": "execute_result"
    },
    {
     "data": {
      "image/png": "[encoded data removed]",
      "text/plain": [
       "<matplotlib.figure.Figure at 0x1a29eb1c18>"
      ]
     },
     "metadata": {},
     "output_type": "display_data"
    }
   ],
   "source": [
    "# Plotting all histograms can be unweildly; box plots can be more concise:\n",
    "titanic.plot.box(figsize=(16,40))"
   ]
  },
  {
   "cell_type": "markdown",
   "metadata": {},
   "source": [
    "<a id=\"exercise\"></a>\n",
    "### Exercise\n",
    "\n",
    "1. Look at the Titanic data variables.\n",
    "- Are any of them normal?\n",
    "- Are any skewed?\n",
    "- How might this affect our modeling?"
   ]
  },
  {
   "cell_type": "markdown",
   "metadata": {},
   "source": [
    "![](./assets/images/visualization_flow_chart.jpg)"
   ]
  },
  {
   "cell_type": "markdown",
   "metadata": {},
   "source": [
    "<a id=\"topic-review\"></a>\n",
    "## Lesson Review\n",
    "---\n",
    "\n",
    "- We covered several different types of summary statistics, what are they?\n",
    "- We covered three different types of visualizations, which ones?\n",
    "- Describe bias and variance and why they are important.\n",
    "- What are some important characteristics of distributions?\n",
    "\n",
    "**Any further questions?**"
   ]
  },
  {
   "cell_type": "code",
   "execution_count": 1,
   "metadata": {
    "collapsed": true
   },
   "outputs": [],
   "source": [
    "import fitter"
   ]
  },
  {
   "cell_type": "code",
   "execution_count": 6,
   "metadata": {},
   "outputs": [],
   "source": [
    "f = fitter.Fitter(titanic.fare)"
   ]
  },
  {
   "cell_type": "code",
   "execution_count": 7,
   "metadata": {},
   "outputs": [
    {
     "name": "stderr",
     "output_type": "stream",
     "text": [
      "/anaconda3/lib/python3.6/site-packages/scipy/stats/_distn_infrastructure.py:2306: RuntimeWarning: invalid value encountered in double_scalars\n",
      "  Lhat = muhat - Shat*mu\n"
     ]
    },
    {
     "name": "stdout",
     "output_type": "stream",
     "text": [
      "Fitted alpha distribution with error=0.01926654910576689)\n",
      "Fitted anglit distribution with error=0.00576825419240305)\n",
      "Fitted arcsine distribution with error=0.0056129787367893095)\n",
      "Fitted argus distribution with error=0.00632788208666358)\n",
      "Fitted beta distribution with error=0.003131550186174807)\n"
     ]
    },
    {
     "name": "stderr",
     "output_type": "stream",
     "text": [
      "/anaconda3/lib/python3.6/site-packages/scipy/stats/_continuous_distns.py:427: RuntimeWarning: invalid value encountered in sqrt\n",
      "  sk = 2*(b-a)*np.sqrt(a + b + 1) / (a + b + 2) / np.sqrt(a*b)\n",
      "/anaconda3/lib/python3.6/site-packages/scipy/optimize/minpack.py:161: RuntimeWarning: The iteration is not making good progress, as measured by the \n",
      "  improvement from the last ten iterations.\n",
      "  warnings.warn(msg, RuntimeWarning)\n",
      "/anaconda3/lib/python3.6/site-packages/scipy/stats/_continuous_distns.py:580: RuntimeWarning: divide by zero encountered in true_divide\n",
      "  a/(b-1.0),\n",
      "/anaconda3/lib/python3.6/site-packages/scipy/stats/_continuous_distns.py:584: RuntimeWarning: divide by zero encountered in true_divide\n",
      "  a*(a+1.0)/((b-2.0)*(b-1.0)),\n",
      "/anaconda3/lib/python3.6/site-packages/scipy/stats/_distn_infrastructure.py:1037: RuntimeWarning: invalid value encountered in subtract\n",
      "  mu2 = mu2p - mu * mu\n"
     ]
    },
    {
     "name": "stdout",
     "output_type": "stream",
     "text": [
      "Fitted betaprime distribution with error=0.0016606923861677246)\n",
      "Fitted bradford distribution with error=0.0043282853013031225)\n",
      "Fitted burr distribution with error=0.0014918408140417213)\n",
      "Fitted burr12 distribution with error=0.0006912931690796711)\n",
      "Fitted cauchy distribution with error=0.0021305735153556203)\n",
      "Fitted chi distribution with error=0.003935424481699496)\n",
      "Fitted chi2 distribution with error=0.0032087013903226306)\n",
      "Fitted cosine distribution with error=0.005572303316219147)\n"
     ]
    },
    {
     "name": "stderr",
     "output_type": "stream",
     "text": [
      "/anaconda3/lib/python3.6/site-packages/scipy/stats/_distn_infrastructure.py:1615: RuntimeWarning: divide by zero encountered in log\n",
      "  return log(self._pdf(x, *args))\n"
     ]
    },
    {
     "name": "stdout",
     "output_type": "stream",
     "text": [
      "Fitted crystalball distribution with error=0.00485383020538212)\n",
      "Fitted dgamma distribution with error=0.003913620078690441)\n",
      "Fitted dweibull distribution with error=0.019204520520391274)\n"
     ]
    },
    {
     "name": "stderr",
     "output_type": "stream",
     "text": [
      "/anaconda3/lib/python3.6/site-packages/scipy/stats/_continuous_distns.py:2455: RuntimeWarning: The shape parameter of the erlang distribution has been given a non-integer value 0.00025.\n",
      "  RuntimeWarning)\n",
      "/anaconda3/lib/python3.6/site-packages/scipy/stats/_continuous_distns.py:2455: RuntimeWarning: The shape parameter of the erlang distribution has been given a non-integer value 0.00016666666666666666.\n",
      "  RuntimeWarning)\n",
      "/anaconda3/lib/python3.6/site-packages/scipy/stats/_continuous_distns.py:2455: RuntimeWarning: The shape parameter of the erlang distribution has been given a non-integer value 0.0002777777777777778.\n",
      "  RuntimeWarning)\n",
      "/anaconda3/lib/python3.6/site-packages/scipy/stats/_continuous_distns.py:2455: RuntimeWarning: The shape parameter of the erlang distribution has been given a non-integer value 0.000462962962962963.\n",
      "  RuntimeWarning)\n",
      "/anaconda3/lib/python3.6/site-packages/scipy/stats/_continuous_distns.py:2455: RuntimeWarning: The shape parameter of the erlang distribution has been given a non-integer value 0.0004938271604938273.\n",
      "  RuntimeWarning)\n",
      "/anaconda3/lib/python3.6/site-packages/scipy/stats/_continuous_distns.py:2455: RuntimeWarning: The shape parameter of the erlang distribution has been given a non-integer value 0.0006574074074074075.\n",
      "  RuntimeWarning)\n",
      "/anaconda3/lib/python3.6/site-packages/scipy/stats/_continuous_distns.py:2455: RuntimeWarning: The shape parameter of the erlang distribution has been given a non-integer value 0.00032716049382716065.\n",
      "  RuntimeWarning)\n",
      "/anaconda3/lib/python3.6/site-packages/scipy/stats/_continuous_distns.py:2455: RuntimeWarning: The shape parameter of the erlang distribution has been given a non-integer value 0.0002592592592592594.\n",
      "  RuntimeWarning)\n",
      "/anaconda3/lib/python3.6/site-packages/scipy/stats/_continuous_distns.py:2455: RuntimeWarning: The shape parameter of the erlang distribution has been given a non-integer value 0.0005000000000000002.\n",
      "  RuntimeWarning)\n",
      "/anaconda3/lib/python3.6/site-packages/scipy/stats/_continuous_distns.py:2455: RuntimeWarning: The shape parameter of the erlang distribution has been given a non-integer value 0.0006111111111111114.\n",
      "  RuntimeWarning)\n",
      "/anaconda3/lib/python3.6/site-packages/scipy/stats/_continuous_distns.py:2455: RuntimeWarning: The shape parameter of the erlang distribution has been given a non-integer value 0.0007685185185185191.\n",
      "  RuntimeWarning)\n",
      "/anaconda3/lib/python3.6/site-packages/scipy/stats/_continuous_distns.py:2455: RuntimeWarning: The shape parameter of the erlang distribution has been given a non-integer value 0.0010277777777777785.\n",
      "  RuntimeWarning)\n",
      "/anaconda3/lib/python3.6/site-packages/scipy/stats/_continuous_distns.py:2455: RuntimeWarning: The shape parameter of the erlang distribution has been given a non-integer value 0.0006080246913580253.\n",
      "  RuntimeWarning)\n",
      "/anaconda3/lib/python3.6/site-packages/scipy/stats/_continuous_distns.py:2455: RuntimeWarning: The shape parameter of the erlang distribution has been given a non-integer value 0.0005833333333333341.\n",
      "  RuntimeWarning)\n",
      "/anaconda3/lib/python3.6/site-packages/scipy/stats/_continuous_distns.py:2455: RuntimeWarning: The shape parameter of the erlang distribution has been given a non-integer value 0.0012222222222222233.\n",
      "  RuntimeWarning)\n",
      "/anaconda3/lib/python3.6/site-packages/scipy/stats/_continuous_distns.py:2455: RuntimeWarning: The shape parameter of the erlang distribution has been given a non-integer value 0.001703703703703705.\n",
      "  RuntimeWarning)\n",
      "/anaconda3/lib/python3.6/site-packages/scipy/stats/_continuous_distns.py:2455: RuntimeWarning: The shape parameter of the erlang distribution has been given a non-integer value 0.0015987654320987672.\n",
      "  RuntimeWarning)\n",
      "/anaconda3/lib/python3.6/site-packages/scipy/stats/_continuous_distns.py:2455: RuntimeWarning: The shape parameter of the erlang distribution has been given a non-integer value 0.0020925925925925947.\n",
      "  RuntimeWarning)\n",
      "/anaconda3/lib/python3.6/site-packages/scipy/stats/_continuous_distns.py:2455: RuntimeWarning: The shape parameter of the erlang distribution has been given a non-integer value 0.0015627572016460923.\n",
      "  RuntimeWarning)\n",
      "/anaconda3/lib/python3.6/site-packages/scipy/stats/_continuous_distns.py:2455: RuntimeWarning: The shape parameter of the erlang distribution has been given a non-integer value 0.0011615226337448568.\n",
      "  RuntimeWarning)\n",
      "/anaconda3/lib/python3.6/site-packages/scipy/stats/_continuous_distns.py:2455: RuntimeWarning: The shape parameter of the erlang distribution has been given a non-integer value 0.0023926611796982185.\n",
      "  RuntimeWarning)\n",
      "/anaconda3/lib/python3.6/site-packages/scipy/stats/_continuous_distns.py:2455: RuntimeWarning: The shape parameter of the erlang distribution has been given a non-integer value 0.0010356652949245551.\n",
      "  RuntimeWarning)\n",
      "/anaconda3/lib/python3.6/site-packages/scipy/stats/_continuous_distns.py:2455: RuntimeWarning: The shape parameter of the erlang distribution has been given a non-integer value 0.001730566986739828.\n",
      "  RuntimeWarning)\n",
      "/anaconda3/lib/python3.6/site-packages/scipy/stats/_continuous_distns.py:2455: RuntimeWarning: The shape parameter of the erlang distribution has been given a non-integer value 0.0020150891632373137.\n",
      "  RuntimeWarning)\n",
      "/anaconda3/lib/python3.6/site-packages/scipy/stats/_continuous_distns.py:2455: RuntimeWarning: The shape parameter of the erlang distribution has been given a non-integer value 0.0023196921201036453.\n",
      "  RuntimeWarning)\n",
      "/anaconda3/lib/python3.6/site-packages/scipy/stats/_continuous_distns.py:2455: RuntimeWarning: The shape parameter of the erlang distribution has been given a non-integer value 0.0013566720012193278.\n",
      "  RuntimeWarning)\n",
      "/anaconda3/lib/python3.6/site-packages/scipy/stats/_continuous_distns.py:2455: RuntimeWarning: The shape parameter of the erlang distribution has been given a non-integer value 0.0019986854138088726.\n",
      "  RuntimeWarning)\n",
      "/anaconda3/lib/python3.6/site-packages/scipy/stats/_continuous_distns.py:2455: RuntimeWarning: The shape parameter of the erlang distribution has been given a non-integer value 0.0015171753543667139.\n",
      "  RuntimeWarning)\n",
      "/anaconda3/lib/python3.6/site-packages/scipy/stats/_continuous_distns.py:2455: RuntimeWarning: The shape parameter of the erlang distribution has been given a non-integer value 0.0015273014784331672.\n",
      "  RuntimeWarning)\n",
      "/anaconda3/lib/python3.6/site-packages/scipy/stats/_continuous_distns.py:2455: RuntimeWarning: The shape parameter of the erlang distribution has been given a non-integer value 0.0016596031473860707.\n",
      "  RuntimeWarning)\n",
      "/anaconda3/lib/python3.6/site-packages/scipy/stats/_continuous_distns.py:2455: RuntimeWarning: The shape parameter of the erlang distribution has been given a non-integer value 0.0018087816897830633.\n",
      "  RuntimeWarning)\n",
      "/anaconda3/lib/python3.6/site-packages/scipy/stats/_continuous_distns.py:2455: RuntimeWarning: The shape parameter of the erlang distribution has been given a non-integer value 0.0015900769382208011.\n",
      "  RuntimeWarning)\n",
      "/anaconda3/lib/python3.6/site-packages/scipy/stats/_continuous_distns.py:2455: RuntimeWarning: The shape parameter of the erlang distribution has been given a non-integer value 0.0016200030906535269.\n",
      "  RuntimeWarning)\n",
      "/anaconda3/lib/python3.6/site-packages/scipy/stats/_continuous_distns.py:2455: RuntimeWarning: The shape parameter of the erlang distribution has been given a non-integer value 0.0016497031332029348.\n",
      "  RuntimeWarning)\n",
      "/anaconda3/lib/python3.6/site-packages/scipy/stats/_continuous_distns.py:2455: RuntimeWarning: The shape parameter of the erlang distribution has been given a non-integer value 0.0017292800964735524.\n",
      "  RuntimeWarning)\n",
      "/anaconda3/lib/python3.6/site-packages/scipy/stats/_continuous_distns.py:2455: RuntimeWarning: The shape parameter of the erlang distribution has been given a non-integer value 0.001722705210338497.\n",
      "  RuntimeWarning)\n",
      "/anaconda3/lib/python3.6/site-packages/scipy/stats/_continuous_distns.py:2455: RuntimeWarning: The shape parameter of the erlang distribution has been given a non-integer value 0.0016679536524868252.\n",
      "  RuntimeWarning)\n",
      "/anaconda3/lib/python3.6/site-packages/scipy/stats/_continuous_distns.py:2455: RuntimeWarning: The shape parameter of the erlang distribution has been given a non-integer value 0.00181976839170137.\n",
      "  RuntimeWarning)\n",
      "/anaconda3/lib/python3.6/site-packages/scipy/stats/_continuous_distns.py:2455: RuntimeWarning: The shape parameter of the erlang distribution has been given a non-integer value 0.0016540161719994179.\n",
      "  RuntimeWarning)\n",
      "/anaconda3/lib/python3.6/site-packages/scipy/stats/_continuous_distns.py:2455: RuntimeWarning: The shape parameter of the erlang distribution has been given a non-integer value 0.0017412885176550405.\n",
      "  RuntimeWarning)\n",
      "/anaconda3/lib/python3.6/site-packages/scipy/stats/_continuous_distns.py:2455: RuntimeWarning: The shape parameter of the erlang distribution has been given a non-integer value 0.001686287368778879.\n",
      "  RuntimeWarning)\n",
      "/anaconda3/lib/python3.6/site-packages/scipy/stats/_continuous_distns.py:2455: RuntimeWarning: The shape parameter of the erlang distribution has been given a non-integer value 0.0017767401293287551.\n",
      "  RuntimeWarning)\n",
      "/anaconda3/lib/python3.6/site-packages/scipy/stats/_continuous_distns.py:2455: RuntimeWarning: The shape parameter of the erlang distribution has been given a non-integer value 0.0016846971613317522.\n",
      "  RuntimeWarning)\n",
      "/anaconda3/lib/python3.6/site-packages/scipy/stats/_continuous_distns.py:2455: RuntimeWarning: The shape parameter of the erlang distribution has been given a non-integer value 0.0017434087942512094.\n",
      "  RuntimeWarning)\n",
      "/anaconda3/lib/python3.6/site-packages/scipy/stats/_continuous_distns.py:2455: RuntimeWarning: The shape parameter of the erlang distribution has been given a non-integer value 0.0017005677251469616.\n",
      "  RuntimeWarning)\n",
      "/anaconda3/lib/python3.6/site-packages/scipy/stats/_continuous_distns.py:2455: RuntimeWarning: The shape parameter of the erlang distribution has been given a non-integer value 0.001755579377575143.\n",
      "  RuntimeWarning)\n",
      "/anaconda3/lib/python3.6/site-packages/scipy/stats/_continuous_distns.py:2455: RuntimeWarning: The shape parameter of the erlang distribution has been given a non-integer value 0.0017024177153925999.\n",
      "  RuntimeWarning)\n",
      "/anaconda3/lib/python3.6/site-packages/scipy/stats/_continuous_distns.py:2455: RuntimeWarning: The shape parameter of the erlang distribution has been given a non-integer value 0.001740942140590359.\n",
      "  RuntimeWarning)\n",
      "/anaconda3/lib/python3.6/site-packages/scipy/stats/_continuous_distns.py:2455: RuntimeWarning: The shape parameter of the erlang distribution has been given a non-integer value 0.001710661329007811.\n",
      "  RuntimeWarning)\n",
      "/anaconda3/lib/python3.6/site-packages/scipy/stats/_continuous_distns.py:2455: RuntimeWarning: The shape parameter of the erlang distribution has been given a non-integer value 0.0017445878927548613.\n",
      "  RuntimeWarning)\n",
      "/anaconda3/lib/python3.6/site-packages/scipy/stats/_continuous_distns.py:2455: RuntimeWarning: The shape parameter of the erlang distribution has been given a non-integer value 0.0017129602597331652.\n",
      "  RuntimeWarning)\n",
      "/anaconda3/lib/python3.6/site-packages/scipy/stats/_continuous_distns.py:2455: RuntimeWarning: The shape parameter of the erlang distribution has been given a non-integer value 0.0017378768996232194.\n",
      "  RuntimeWarning)\n",
      "/anaconda3/lib/python3.6/site-packages/scipy/stats/_continuous_distns.py:2455: RuntimeWarning: The shape parameter of the erlang distribution has been given a non-integer value 0.001717465221661663.\n",
      "  RuntimeWarning)\n",
      "/anaconda3/lib/python3.6/site-packages/scipy/stats/_continuous_distns.py:2455: RuntimeWarning: The shape parameter of the erlang distribution has been given a non-integer value 0.001738581276850197.\n",
      "  RuntimeWarning)\n",
      "/anaconda3/lib/python3.6/site-packages/scipy/stats/_continuous_distns.py:2455: RuntimeWarning: The shape parameter of the erlang distribution has been given a non-integer value 0.001751391785408713.\n",
      "  RuntimeWarning)\n",
      "/anaconda3/lib/python3.6/site-packages/scipy/stats/_continuous_distns.py:2455: RuntimeWarning: The shape parameter of the erlang distribution has been given a non-integer value 0.0017481536850473887.\n",
      "  RuntimeWarning)\n",
      "/anaconda3/lib/python3.6/site-packages/scipy/stats/_continuous_distns.py:2455: RuntimeWarning: The shape parameter of the erlang distribution has been given a non-integer value 0.0017251373375080945.\n",
      "  RuntimeWarning)\n",
      "/anaconda3/lib/python3.6/site-packages/scipy/stats/_continuous_distns.py:2455: RuntimeWarning: The shape parameter of the erlang distribution has been given a non-integer value 0.0017404815692009573.\n",
      "  RuntimeWarning)\n",
      "/anaconda3/lib/python3.6/site-packages/scipy/stats/_continuous_distns.py:2455: RuntimeWarning: The shape parameter of the erlang distribution has been given a non-integer value 0.00172897339543131.\n",
      "  RuntimeWarning)\n",
      "/anaconda3/lib/python3.6/site-packages/scipy/stats/_continuous_distns.py:2455: RuntimeWarning: The shape parameter of the erlang distribution has been given a non-integer value 0.0017361343428740042.\n",
      "  RuntimeWarning)\n",
      "/anaconda3/lib/python3.6/site-packages/scipy/stats/_continuous_distns.py:2455: RuntimeWarning: The shape parameter of the erlang distribution has been given a non-integer value 0.0017412150088780428.\n",
      "  RuntimeWarning)\n",
      "/anaconda3/lib/python3.6/site-packages/scipy/stats/_continuous_distns.py:2455: RuntimeWarning: The shape parameter of the erlang distribution has been given a non-integer value 0.0017473358156014094.\n",
      "  RuntimeWarning)\n",
      "/anaconda3/lib/python3.6/site-packages/scipy/stats/_continuous_distns.py:2455: RuntimeWarning: The shape parameter of the erlang distribution has been given a non-integer value 0.001750800636810579.\n",
      "  RuntimeWarning)\n",
      "/anaconda3/lib/python3.6/site-packages/scipy/stats/_continuous_distns.py:2455: RuntimeWarning: The shape parameter of the erlang distribution has been given a non-integer value 0.0017609174618459546.\n",
      "  RuntimeWarning)\n",
      "/anaconda3/lib/python3.6/site-packages/scipy/stats/_continuous_distns.py:2455: RuntimeWarning: The shape parameter of the erlang distribution has been given a non-integer value 0.001755010809967453.\n",
      "  RuntimeWarning)\n",
      "/anaconda3/lib/python3.6/site-packages/scipy/stats/_continuous_distns.py:2455: RuntimeWarning: The shape parameter of the erlang distribution has been given a non-integer value 0.0017408534596473663.\n",
      "  RuntimeWarning)\n",
      "/anaconda3/lib/python3.6/site-packages/scipy/stats/_continuous_distns.py:2455: RuntimeWarning: The shape parameter of the erlang distribution has been given a non-integer value 0.0017540786645227062.\n",
      "  RuntimeWarning)\n",
      "/anaconda3/lib/python3.6/site-packages/scipy/stats/_continuous_distns.py:2455: RuntimeWarning: The shape parameter of the erlang distribution has been given a non-integer value 0.0017618273583589607.\n",
      "  RuntimeWarning)\n",
      "/anaconda3/lib/python3.6/site-packages/scipy/stats/_continuous_distns.py:2455: RuntimeWarning: The shape parameter of the erlang distribution has been given a non-integer value 0.0017657890808665997.\n",
      "  RuntimeWarning)\n",
      "/anaconda3/lib/python3.6/site-packages/scipy/stats/_continuous_distns.py:2455: RuntimeWarning: The shape parameter of the erlang distribution has been given a non-integer value 0.0017782568914762164.\n",
      "  RuntimeWarning)\n",
      "/anaconda3/lib/python3.6/site-packages/scipy/stats/_continuous_distns.py:2455: RuntimeWarning: The shape parameter of the erlang distribution has been given a non-integer value 0.0017716089017560171.\n",
      "  RuntimeWarning)\n",
      "/anaconda3/lib/python3.6/site-packages/scipy/stats/_continuous_distns.py:2455: RuntimeWarning: The shape parameter of the erlang distribution has been given a non-integer value 0.001783745444833321.\n",
      "  RuntimeWarning)\n",
      "/anaconda3/lib/python3.6/site-packages/scipy/stats/_continuous_distns.py:2455: RuntimeWarning: The shape parameter of the erlang distribution has been given a non-integer value 0.0017820162571771394.\n",
      "  RuntimeWarning)\n",
      "/anaconda3/lib/python3.6/site-packages/scipy/stats/_continuous_distns.py:2455: RuntimeWarning: The shape parameter of the erlang distribution has been given a non-integer value 0.0017976240673604196.\n",
      "  RuntimeWarning)\n",
      "/anaconda3/lib/python3.6/site-packages/scipy/stats/_continuous_distns.py:2455: RuntimeWarning: The shape parameter of the erlang distribution has been given a non-integer value 0.0017948540082963972.\n",
      "  RuntimeWarning)\n",
      "/anaconda3/lib/python3.6/site-packages/scipy/stats/_continuous_distns.py:2455: RuntimeWarning: The shape parameter of the erlang distribution has been given a non-integer value 0.0018102689040752893.\n",
      "  RuntimeWarning)\n",
      "/anaconda3/lib/python3.6/site-packages/scipy/stats/_continuous_distns.py:2455: RuntimeWarning: The shape parameter of the erlang distribution has been given a non-integer value 0.0018325088156796341.\n",
      "  RuntimeWarning)\n",
      "/anaconda3/lib/python3.6/site-packages/scipy/stats/_continuous_distns.py:2455: RuntimeWarning: The shape parameter of the erlang distribution has been given a non-integer value 0.0018450490258016166.\n",
      "  RuntimeWarning)\n",
      "/anaconda3/lib/python3.6/site-packages/scipy/stats/_continuous_distns.py:2455: RuntimeWarning: The shape parameter of the erlang distribution has been given a non-integer value 0.0018817690878244163.\n",
      "  RuntimeWarning)\n",
      "/anaconda3/lib/python3.6/site-packages/scipy/stats/_continuous_distns.py:2455: RuntimeWarning: The shape parameter of the erlang distribution has been given a non-integer value 0.0018797473056132493.\n",
      "  RuntimeWarning)\n",
      "/anaconda3/lib/python3.6/site-packages/scipy/stats/_continuous_distns.py:2455: RuntimeWarning: The shape parameter of the erlang distribution has been given a non-integer value 0.0019317260720511137.\n",
      "  RuntimeWarning)\n",
      "/anaconda3/lib/python3.6/site-packages/scipy/stats/_continuous_distns.py:2455: RuntimeWarning: The shape parameter of the erlang distribution has been given a non-integer value 0.0019987770743964605.\n",
      "  RuntimeWarning)\n",
      "/anaconda3/lib/python3.6/site-packages/scipy/stats/_continuous_distns.py:2455: RuntimeWarning: The shape parameter of the erlang distribution has been given a non-integer value 0.0020076868295431168.\n",
      "  RuntimeWarning)\n",
      "/anaconda3/lib/python3.6/site-packages/scipy/stats/_continuous_distns.py:2455: RuntimeWarning: The shape parameter of the erlang distribution has been given a non-integer value 0.002095275836474858.\n",
      "  RuntimeWarning)\n",
      "/anaconda3/lib/python3.6/site-packages/scipy/stats/_continuous_distns.py:2455: RuntimeWarning: The shape parameter of the erlang distribution has been given a non-integer value 0.0021041340268505735.\n",
      "  RuntimeWarning)\n",
      "/anaconda3/lib/python3.6/site-packages/scipy/stats/_continuous_distns.py:2455: RuntimeWarning: The shape parameter of the erlang distribution has been given a non-integer value 0.002216327387469236.\n",
      "  RuntimeWarning)\n",
      "/anaconda3/lib/python3.6/site-packages/scipy/stats/_continuous_distns.py:2455: RuntimeWarning: The shape parameter of the erlang distribution has been given a non-integer value 0.0023251511110692867.\n",
      "  RuntimeWarning)\n",
      "/anaconda3/lib/python3.6/site-packages/scipy/stats/_continuous_distns.py:2455: RuntimeWarning: The shape parameter of the erlang distribution has been given a non-integer value 0.002546842122691722.\n",
      "  RuntimeWarning)\n",
      "/anaconda3/lib/python3.6/site-packages/scipy/stats/_continuous_distns.py:2455: RuntimeWarning: The shape parameter of the erlang distribution has been given a non-integer value 0.00257351982336075.\n",
      "  RuntimeWarning)\n",
      "/anaconda3/lib/python3.6/site-packages/scipy/stats/_continuous_distns.py:2455: RuntimeWarning: The shape parameter of the erlang distribution has been given a non-integer value 0.002860891197842895.\n",
      "  RuntimeWarning)\n",
      "/anaconda3/lib/python3.6/site-packages/scipy/stats/_continuous_distns.py:2455: RuntimeWarning: The shape parameter of the erlang distribution has been given a non-integer value 0.0029874313021943776.\n",
      "  RuntimeWarning)\n",
      "/anaconda3/lib/python3.6/site-packages/scipy/stats/_continuous_distns.py:2455: RuntimeWarning: The shape parameter of the erlang distribution has been given a non-integer value 0.003433509035054138.\n",
      "  RuntimeWarning)\n",
      "/anaconda3/lib/python3.6/site-packages/scipy/stats/_continuous_distns.py:2455: RuntimeWarning: The shape parameter of the erlang distribution has been given a non-integer value 0.0036778341829232673.\n",
      "  RuntimeWarning)\n",
      "/anaconda3/lib/python3.6/site-packages/scipy/stats/_continuous_distns.py:2455: RuntimeWarning: The shape parameter of the erlang distribution has been given a non-integer value 0.004408587580650283.\n",
      "  RuntimeWarning)\n",
      "/anaconda3/lib/python3.6/site-packages/scipy/stats/_continuous_distns.py:2455: RuntimeWarning: The shape parameter of the erlang distribution has been given a non-integer value 0.004588483086339822.\n",
      "  RuntimeWarning)\n",
      "/anaconda3/lib/python3.6/site-packages/scipy/stats/_continuous_distns.py:2455: RuntimeWarning: The shape parameter of the erlang distribution has been given a non-integer value 0.005609303568163873.\n",
      "  RuntimeWarning)\n",
      "/anaconda3/lib/python3.6/site-packages/scipy/stats/_continuous_distns.py:2455: RuntimeWarning: The shape parameter of the erlang distribution has been given a non-integer value 0.006106708924735968.\n",
      "  RuntimeWarning)\n",
      "/anaconda3/lib/python3.6/site-packages/scipy/stats/_continuous_distns.py:2455: RuntimeWarning: The shape parameter of the erlang distribution has been given a non-integer value 0.007729617788182505.\n",
      "  RuntimeWarning)\n",
      "/anaconda3/lib/python3.6/site-packages/scipy/stats/_continuous_distns.py:2455: RuntimeWarning: The shape parameter of the erlang distribution has been given a non-integer value 0.008398163589610303.\n",
      "  RuntimeWarning)\n",
      "/anaconda3/lib/python3.6/site-packages/scipy/stats/_continuous_distns.py:2455: RuntimeWarning: The shape parameter of the erlang distribution has been given a non-integer value 0.010880490866888387.\n",
      "  RuntimeWarning)\n",
      "/anaconda3/lib/python3.6/site-packages/scipy/stats/_continuous_distns.py:2455: RuntimeWarning: The shape parameter of the erlang distribution has been given a non-integer value 0.011737687234839561.\n",
      "  RuntimeWarning)\n",
      "/anaconda3/lib/python3.6/site-packages/scipy/stats/_continuous_distns.py:2455: RuntimeWarning: The shape parameter of the erlang distribution has been given a non-integer value 0.0154022370619342.\n",
      "  RuntimeWarning)\n",
      "/anaconda3/lib/python3.6/site-packages/scipy/stats/_continuous_distns.py:2455: RuntimeWarning: The shape parameter of the erlang distribution has been given a non-integer value 0.01706559357650619.\n",
      "  RuntimeWarning)\n",
      "/anaconda3/lib/python3.6/site-packages/scipy/stats/_continuous_distns.py:2455: RuntimeWarning: The shape parameter of the erlang distribution has been given a non-integer value 0.022793738580677347.\n",
      "  RuntimeWarning)\n",
      "/anaconda3/lib/python3.6/site-packages/scipy/stats/_continuous_distns.py:2455: RuntimeWarning: The shape parameter of the erlang distribution has been given a non-integer value 0.02498802655148412.\n",
      "  RuntimeWarning)\n",
      "/anaconda3/lib/python3.6/site-packages/scipy/stats/_continuous_distns.py:2455: RuntimeWarning: The shape parameter of the erlang distribution has been given a non-integer value 0.03361723093313493.\n",
      "  RuntimeWarning)\n",
      "/anaconda3/lib/python3.6/site-packages/scipy/stats/_continuous_distns.py:2455: RuntimeWarning: The shape parameter of the erlang distribution has been given a non-integer value 0.036994980183609256.\n",
      "  RuntimeWarning)\n",
      "/anaconda3/lib/python3.6/site-packages/scipy/stats/_continuous_distns.py:2455: RuntimeWarning: The shape parameter of the erlang distribution has been given a non-integer value 0.050052224841969695.\n",
      "  RuntimeWarning)\n",
      "/anaconda3/lib/python3.6/site-packages/scipy/stats/_continuous_distns.py:2455: RuntimeWarning: The shape parameter of the erlang distribution has been given a non-integer value 0.05557322584192045.\n",
      "  RuntimeWarning)\n",
      "/anaconda3/lib/python3.6/site-packages/scipy/stats/_continuous_distns.py:2455: RuntimeWarning: The shape parameter of the erlang distribution has been given a non-integer value 0.07565872023191357.\n",
      "  RuntimeWarning)\n",
      "/anaconda3/lib/python3.6/site-packages/scipy/stats/_continuous_distns.py:2455: RuntimeWarning: The shape parameter of the erlang distribution has been given a non-integer value 0.08342504542400143.\n",
      "  RuntimeWarning)\n",
      "/anaconda3/lib/python3.6/site-packages/scipy/stats/_continuous_distns.py:2455: RuntimeWarning: The shape parameter of the erlang distribution has been given a non-integer value 0.11374069884566348.\n",
      "  RuntimeWarning)\n",
      "/anaconda3/lib/python3.6/site-packages/scipy/stats/_continuous_distns.py:2455: RuntimeWarning: The shape parameter of the erlang distribution has been given a non-integer value 0.12601719834656291.\n",
      "  RuntimeWarning)\n",
      "/anaconda3/lib/python3.6/site-packages/scipy/stats/_continuous_distns.py:2455: RuntimeWarning: The shape parameter of the erlang distribution has been given a non-integer value 0.1722171820532769.\n",
      "  RuntimeWarning)\n",
      "/anaconda3/lib/python3.6/site-packages/scipy/stats/_continuous_distns.py:2455: RuntimeWarning: The shape parameter of the erlang distribution has been given a non-integer value 0.19102550924526626.\n",
      "  RuntimeWarning)\n",
      "/anaconda3/lib/python3.6/site-packages/scipy/stats/_continuous_distns.py:2455: RuntimeWarning: The shape parameter of the erlang distribution has been given a non-integer value 0.26151215144691453.\n",
      "  RuntimeWarning)\n",
      "/anaconda3/lib/python3.6/site-packages/scipy/stats/_continuous_distns.py:2455: RuntimeWarning: The shape parameter of the erlang distribution has been given a non-integer value 0.2893213013319897.\n",
      "  RuntimeWarning)\n",
      "/anaconda3/lib/python3.6/site-packages/scipy/stats/_continuous_distns.py:2455: RuntimeWarning: The shape parameter of the erlang distribution has been given a non-integer value 0.3961525918820278.\n",
      "  RuntimeWarning)\n",
      "/anaconda3/lib/python3.6/site-packages/scipy/stats/_continuous_distns.py:2455: RuntimeWarning: The shape parameter of the erlang distribution has been given a non-integer value 0.43951391807581597.\n",
      "  RuntimeWarning)\n",
      "/anaconda3/lib/python3.6/site-packages/scipy/stats/_continuous_distns.py:2455: RuntimeWarning: The shape parameter of the erlang distribution has been given a non-integer value 0.6024005276908921.\n",
      "  RuntimeWarning)\n",
      "/anaconda3/lib/python3.6/site-packages/scipy/stats/_continuous_distns.py:2455: RuntimeWarning: The shape parameter of the erlang distribution has been given a non-integer value 0.6678263319599462.\n",
      "  RuntimeWarning)\n",
      "/anaconda3/lib/python3.6/site-packages/scipy/stats/_continuous_distns.py:2455: RuntimeWarning: The shape parameter of the erlang distribution has been given a non-integer value 0.9156309069132808.\n",
      "  RuntimeWarning)\n",
      "/anaconda3/lib/python3.6/site-packages/scipy/stats/_continuous_distns.py:2455: RuntimeWarning: The shape parameter of the erlang distribution has been given a non-integer value 0.8494074829083296.\n",
      "  RuntimeWarning)\n",
      "/anaconda3/lib/python3.6/site-packages/scipy/stats/_continuous_distns.py:2455: RuntimeWarning: The shape parameter of the erlang distribution has been given a non-integer value 1.0169369698240844.\n",
      "  RuntimeWarning)\n",
      "/anaconda3/lib/python3.6/site-packages/scipy/stats/_continuous_distns.py:2455: RuntimeWarning: The shape parameter of the erlang distribution has been given a non-integer value 0.8617408753385702.\n",
      "  RuntimeWarning)\n",
      "/anaconda3/lib/python3.6/site-packages/scipy/stats/_continuous_distns.py:2455: RuntimeWarning: The shape parameter of the erlang distribution has been given a non-integer value 0.5513486863675419.\n",
      "  RuntimeWarning)\n",
      "/anaconda3/lib/python3.6/site-packages/scipy/stats/_continuous_distns.py:2455: RuntimeWarning: The shape parameter of the erlang distribution has been given a non-integer value 0.7841428280958131.\n",
      "  RuntimeWarning)\n",
      "/anaconda3/lib/python3.6/site-packages/scipy/stats/_continuous_distns.py:2455: RuntimeWarning: The shape parameter of the erlang distribution has been given a non-integer value 0.5201723089227714.\n",
      "  RuntimeWarning)\n",
      "/anaconda3/lib/python3.6/site-packages/scipy/stats/_continuous_distns.py:2455: RuntimeWarning: The shape parameter of the erlang distribution has been given a non-integer value 0.76709868941194.\n",
      "  RuntimeWarning)\n",
      "/anaconda3/lib/python3.6/site-packages/scipy/stats/_continuous_distns.py:2455: RuntimeWarning: The shape parameter of the erlang distribution has been given a non-integer value 0.8769780386209076.\n",
      "  RuntimeWarning)\n",
      "/anaconda3/lib/python3.6/site-packages/scipy/stats/_continuous_distns.py:2455: RuntimeWarning: The shape parameter of the erlang distribution has been given a non-integer value 0.671044905423396.\n",
      "  RuntimeWarning)\n",
      "/anaconda3/lib/python3.6/site-packages/scipy/stats/_continuous_distns.py:2455: RuntimeWarning: The shape parameter of the erlang distribution has been given a non-integer value 0.6198371231010418.\n",
      "  RuntimeWarning)\n",
      "/anaconda3/lib/python3.6/site-packages/scipy/stats/_continuous_distns.py:2455: RuntimeWarning: The shape parameter of the erlang distribution has been given a non-integer value 0.7430664018471203.\n",
      "  RuntimeWarning)\n",
      "/anaconda3/lib/python3.6/site-packages/scipy/stats/_continuous_distns.py:2455: RuntimeWarning: The shape parameter of the erlang distribution has been given a non-integer value 0.786313665828358.\n",
      "  RuntimeWarning)\n",
      "/anaconda3/lib/python3.6/site-packages/scipy/stats/_continuous_distns.py:2455: RuntimeWarning: The shape parameter of the erlang distribution has been given a non-integer value 0.7566918323612551.\n",
      "  RuntimeWarning)\n",
      "/anaconda3/lib/python3.6/site-packages/scipy/stats/_continuous_distns.py:2455: RuntimeWarning: The shape parameter of the erlang distribution has been given a non-integer value 0.6801034036759075.\n",
      "  RuntimeWarning)\n",
      "/anaconda3/lib/python3.6/site-packages/scipy/stats/_continuous_distns.py:2455: RuntimeWarning: The shape parameter of the erlang distribution has been given a non-integer value 0.6366057608078912.\n",
      "  RuntimeWarning)\n",
      "/anaconda3/lib/python3.6/site-packages/scipy/stats/_continuous_distns.py:2455: RuntimeWarning: The shape parameter of the erlang distribution has been given a non-integer value 0.6621603591265857.\n",
      "  RuntimeWarning)\n",
      "/anaconda3/lib/python3.6/site-packages/scipy/stats/_continuous_distns.py:2455: RuntimeWarning: The shape parameter of the erlang distribution has been given a non-integer value 0.6217073377663183.\n",
      "  RuntimeWarning)\n",
      "/anaconda3/lib/python3.6/site-packages/scipy/stats/_continuous_distns.py:2455: RuntimeWarning: The shape parameter of the erlang distribution has been given a non-integer value 0.5855139464560043.\n",
      "  RuntimeWarning)\n",
      "/anaconda3/lib/python3.6/site-packages/scipy/stats/_continuous_distns.py:2455: RuntimeWarning: The shape parameter of the erlang distribution has been given a non-integer value 0.7138973608849424.\n",
      "  RuntimeWarning)\n",
      "/anaconda3/lib/python3.6/site-packages/scipy/stats/_continuous_distns.py:2455: RuntimeWarning: The shape parameter of the erlang distribution has been given a non-integer value 0.6997291770348946.\n",
      "  RuntimeWarning)\n",
      "/anaconda3/lib/python3.6/site-packages/scipy/stats/_continuous_distns.py:2455: RuntimeWarning: The shape parameter of the erlang distribution has been given a non-integer value 0.7140713128406437.\n",
      "  RuntimeWarning)\n",
      "/anaconda3/lib/python3.6/site-packages/scipy/stats/_continuous_distns.py:2455: RuntimeWarning: The shape parameter of the erlang distribution has been given a non-integer value 0.7133159515588736.\n",
      "  RuntimeWarning)\n",
      "/anaconda3/lib/python3.6/site-packages/scipy/stats/_continuous_distns.py:2455: RuntimeWarning: The shape parameter of the erlang distribution has been given a non-integer value 0.7299222255003568.\n",
      "  RuntimeWarning)\n",
      "/anaconda3/lib/python3.6/site-packages/scipy/stats/_continuous_distns.py:2455: RuntimeWarning: The shape parameter of the erlang distribution has been given a non-integer value 0.7764335736907095.\n",
      "  RuntimeWarning)\n",
      "/anaconda3/lib/python3.6/site-packages/scipy/stats/_continuous_distns.py:2455: RuntimeWarning: The shape parameter of the erlang distribution has been given a non-integer value 0.6907286627676166.\n",
      "  RuntimeWarning)\n",
      "/anaconda3/lib/python3.6/site-packages/scipy/stats/_continuous_distns.py:2455: RuntimeWarning: The shape parameter of the erlang distribution has been given a non-integer value 0.7092507731874689.\n",
      "  RuntimeWarning)\n",
      "/anaconda3/lib/python3.6/site-packages/scipy/stats/_continuous_distns.py:2455: RuntimeWarning: The shape parameter of the erlang distribution has been given a non-integer value 0.7069274793387321.\n",
      "  RuntimeWarning)\n",
      "/anaconda3/lib/python3.6/site-packages/scipy/stats/_continuous_distns.py:2455: RuntimeWarning: The shape parameter of the erlang distribution has been given a non-integer value 0.7432186823522051.\n",
      "  RuntimeWarning)\n",
      "/anaconda3/lib/python3.6/site-packages/scipy/stats/_continuous_distns.py:2455: RuntimeWarning: The shape parameter of the erlang distribution has been given a non-integer value 0.7393076119535522.\n",
      "  RuntimeWarning)\n",
      "/anaconda3/lib/python3.6/site-packages/scipy/stats/_continuous_distns.py:2455: RuntimeWarning: The shape parameter of the erlang distribution has been given a non-integer value 0.7519257615100066.\n",
      "  RuntimeWarning)\n",
      "/anaconda3/lib/python3.6/site-packages/scipy/stats/_continuous_distns.py:2455: RuntimeWarning: The shape parameter of the erlang distribution has been given a non-integer value 0.7381257233002725.\n",
      "  RuntimeWarning)\n",
      "/anaconda3/lib/python3.6/site-packages/scipy/stats/_continuous_distns.py:2455: RuntimeWarning: The shape parameter of the erlang distribution has been given a non-integer value 0.7422274722002302.\n",
      "  RuntimeWarning)\n",
      "/anaconda3/lib/python3.6/site-packages/scipy/stats/_continuous_distns.py:2455: RuntimeWarning: The shape parameter of the erlang distribution has been given a non-integer value 0.7241684596804407.\n",
      "  RuntimeWarning)\n",
      "/anaconda3/lib/python3.6/site-packages/scipy/stats/_continuous_distns.py:2455: RuntimeWarning: The shape parameter of the erlang distribution has been given a non-integer value 0.7146433483445587.\n",
      "  RuntimeWarning)\n",
      "/anaconda3/lib/python3.6/site-packages/scipy/stats/_continuous_distns.py:2455: RuntimeWarning: The shape parameter of the erlang distribution has been given a non-integer value 0.7656035753644648.\n",
      "  RuntimeWarning)\n",
      "/anaconda3/lib/python3.6/site-packages/scipy/stats/_continuous_distns.py:2455: RuntimeWarning: The shape parameter of the erlang distribution has been given a non-integer value 0.7949416233773312.\n",
      "  RuntimeWarning)\n",
      "/anaconda3/lib/python3.6/site-packages/scipy/stats/_continuous_distns.py:2455: RuntimeWarning: The shape parameter of the erlang distribution has been given a non-integer value 0.7492825344380736.\n",
      "  RuntimeWarning)\n",
      "/anaconda3/lib/python3.6/site-packages/scipy/stats/_continuous_distns.py:2455: RuntimeWarning: The shape parameter of the erlang distribution has been given a non-integer value 0.747960920902107.\n",
      "  RuntimeWarning)\n",
      "/anaconda3/lib/python3.6/site-packages/scipy/stats/_continuous_distns.py:2455: RuntimeWarning: The shape parameter of the erlang distribution has been given a non-integer value 0.7628031228824343.\n",
      "  RuntimeWarning)\n",
      "/anaconda3/lib/python3.6/site-packages/scipy/stats/_continuous_distns.py:2455: RuntimeWarning: The shape parameter of the erlang distribution has been given a non-integer value 0.7730909482235364.\n",
      "  RuntimeWarning)\n",
      "/anaconda3/lib/python3.6/site-packages/scipy/stats/_continuous_distns.py:2455: RuntimeWarning: The shape parameter of the erlang distribution has been given a non-integer value 0.829352313324091.\n",
      "  RuntimeWarning)\n",
      "/anaconda3/lib/python3.6/site-packages/scipy/stats/_continuous_distns.py:2455: RuntimeWarning: The shape parameter of the erlang distribution has been given a non-integer value 0.7719944982558251.\n",
      "  RuntimeWarning)\n",
      "/anaconda3/lib/python3.6/site-packages/scipy/stats/_continuous_distns.py:2455: RuntimeWarning: The shape parameter of the erlang distribution has been given a non-integer value 0.7605209356950722.\n",
      "  RuntimeWarning)\n",
      "/anaconda3/lib/python3.6/site-packages/scipy/stats/_continuous_distns.py:2455: RuntimeWarning: The shape parameter of the erlang distribution has been given a non-integer value 0.8273485439263593.\n",
      "  RuntimeWarning)\n",
      "/anaconda3/lib/python3.6/site-packages/scipy/stats/_continuous_distns.py:2455: RuntimeWarning: The shape parameter of the erlang distribution has been given a non-integer value 0.744621305239221.\n",
      "  RuntimeWarning)\n",
      "/anaconda3/lib/python3.6/site-packages/scipy/stats/_continuous_distns.py:2455: RuntimeWarning: The shape parameter of the erlang distribution has been given a non-integer value 0.7022558011967859.\n",
      "  RuntimeWarning)\n",
      "/anaconda3/lib/python3.6/site-packages/scipy/stats/_continuous_distns.py:2455: RuntimeWarning: The shape parameter of the erlang distribution has been given a non-integer value 0.7536592389886085.\n",
      "  RuntimeWarning)\n",
      "/anaconda3/lib/python3.6/site-packages/scipy/stats/_continuous_distns.py:2455: RuntimeWarning: The shape parameter of the erlang distribution has been given a non-integer value 0.7439433843711445.\n",
      "  RuntimeWarning)\n",
      "/anaconda3/lib/python3.6/site-packages/scipy/stats/_continuous_distns.py:2455: RuntimeWarning: The shape parameter of the erlang distribution has been given a non-integer value 0.6437982035823091.\n",
      "  RuntimeWarning)\n",
      "/anaconda3/lib/python3.6/site-packages/scipy/stats/_continuous_distns.py:2455: RuntimeWarning: The shape parameter of the erlang distribution has been given a non-integer value 0.552023033410284.\n",
      "  RuntimeWarning)\n",
      "/anaconda3/lib/python3.6/site-packages/scipy/stats/_continuous_distns.py:2455: RuntimeWarning: The shape parameter of the erlang distribution has been given a non-integer value 0.5716272102904041.\n",
      "  RuntimeWarning)\n",
      "/anaconda3/lib/python3.6/site-packages/scipy/stats/_continuous_distns.py:2455: RuntimeWarning: The shape parameter of the erlang distribution has been given a non-integer value 0.47718034758807004.\n",
      "  RuntimeWarning)\n",
      "/anaconda3/lib/python3.6/site-packages/scipy/stats/_continuous_distns.py:2455: RuntimeWarning: The shape parameter of the erlang distribution has been given a non-integer value 0.47984204238287975.\n",
      "  RuntimeWarning)\n",
      "/anaconda3/lib/python3.6/site-packages/scipy/stats/_continuous_distns.py:2455: RuntimeWarning: The shape parameter of the erlang distribution has been given a non-integer value 0.3686351629759268.\n",
      "  RuntimeWarning)\n",
      "/anaconda3/lib/python3.6/site-packages/scipy/stats/_continuous_distns.py:2455: RuntimeWarning: The shape parameter of the erlang distribution has been given a non-integer value 0.1879489782783761.\n",
      "  RuntimeWarning)\n",
      "/anaconda3/lib/python3.6/site-packages/scipy/stats/_continuous_distns.py:2455: RuntimeWarning: The shape parameter of the erlang distribution has been given a non-integer value 0.6049447828479524.\n",
      "  RuntimeWarning)\n",
      "/anaconda3/lib/python3.6/site-packages/scipy/stats/_continuous_distns.py:2455: RuntimeWarning: The shape parameter of the erlang distribution has been given a non-integer value 0.41515049553101546.\n",
      "  RuntimeWarning)\n",
      "/anaconda3/lib/python3.6/site-packages/scipy/stats/_continuous_distns.py:2455: RuntimeWarning: The shape parameter of the erlang distribution has been given a non-integer value 0.2356992212153891.\n",
      "  RuntimeWarning)\n",
      "/anaconda3/lib/python3.6/site-packages/scipy/stats/_continuous_distns.py:2455: RuntimeWarning: The shape parameter of the erlang distribution has been given a non-integer value 0.5126333924398115.\n",
      "  RuntimeWarning)\n",
      "/anaconda3/lib/python3.6/site-packages/scipy/stats/_continuous_distns.py:2455: RuntimeWarning: The shape parameter of the erlang distribution has been given a non-integer value 0.32801061162352996.\n",
      "  RuntimeWarning)\n",
      "/anaconda3/lib/python3.6/site-packages/scipy/stats/_continuous_distns.py:2455: RuntimeWarning: The shape parameter of the erlang distribution has been given a non-integer value 0.23569922121538922.\n",
      "  RuntimeWarning)\n",
      "/anaconda3/lib/python3.6/site-packages/scipy/stats/_continuous_distns.py:2455: RuntimeWarning: The shape parameter of the erlang distribution has been given a non-integer value 0.26401716583224477.\n",
      "  RuntimeWarning)\n",
      "/anaconda3/lib/python3.6/site-packages/scipy/stats/_continuous_distns.py:2455: RuntimeWarning: The shape parameter of the erlang distribution has been given a non-integer value 0.4238895521491137.\n",
      "  RuntimeWarning)\n",
      "/anaconda3/lib/python3.6/site-packages/scipy/stats/_continuous_distns.py:2455: RuntimeWarning: The shape parameter of the erlang distribution has been given a non-integer value 0.3173079612712011.\n",
      "  RuntimeWarning)\n",
      "/anaconda3/lib/python3.6/site-packages/scipy/stats/_continuous_distns.py:2455: RuntimeWarning: The shape parameter of the erlang distribution has been given a non-integer value 0.39724415442963557.\n",
      "  RuntimeWarning)\n",
      "/anaconda3/lib/python3.6/site-packages/scipy/stats/_continuous_distns.py:2455: RuntimeWarning: The shape parameter of the erlang distribution has been given a non-integer value 0.34395335899067925.\n",
      "  RuntimeWarning)\n",
      "/anaconda3/lib/python3.6/site-packages/scipy/stats/_continuous_distns.py:2455: RuntimeWarning: The shape parameter of the erlang distribution has been given a non-integer value 0.27858226019574195.\n",
      "  RuntimeWarning)\n",
      "/anaconda3/lib/python3.6/site-packages/scipy/stats/_continuous_distns.py:2455: RuntimeWarning: The shape parameter of the erlang distribution has been given a non-integer value 0.3810084366971971.\n",
      "  RuntimeWarning)\n",
      "/anaconda3/lib/python3.6/site-packages/scipy/stats/_continuous_distns.py:2455: RuntimeWarning: The shape parameter of the erlang distribution has been given a non-integer value 0.33334644189834417.\n",
      "  RuntimeWarning)\n",
      "/anaconda3/lib/python3.6/site-packages/scipy/stats/_continuous_distns.py:2455: RuntimeWarning: The shape parameter of the erlang distribution has been given a non-integer value 0.35981298270653117.\n",
      "  RuntimeWarning)\n",
      "/anaconda3/lib/python3.6/site-packages/scipy/stats/_continuous_distns.py:2455: RuntimeWarning: The shape parameter of the erlang distribution has been given a non-integer value 0.30684286551662987.\n",
      "  RuntimeWarning)\n",
      "/anaconda3/lib/python3.6/site-packages/scipy/stats/_continuous_distns.py:2455: RuntimeWarning: The shape parameter of the erlang distribution has been given a non-integer value 0.3624670439020553.\n",
      "  RuntimeWarning)\n",
      "/anaconda3/lib/python3.6/site-packages/scipy/stats/_continuous_distns.py:2455: RuntimeWarning: The shape parameter of the erlang distribution has been given a non-integer value 0.32980769363764517.\n",
      "  RuntimeWarning)\n",
      "/anaconda3/lib/python3.6/site-packages/scipy/stats/_continuous_distns.py:2455: RuntimeWarning: The shape parameter of the erlang distribution has been given a non-integer value 0.35231166043930967.\n",
      "  RuntimeWarning)\n",
      "/anaconda3/lib/python3.6/site-packages/scipy/stats/_continuous_distns.py:2455: RuntimeWarning: The shape parameter of the erlang distribution has been given a non-integer value 0.3203833768002906.\n",
      "  RuntimeWarning)\n",
      "/anaconda3/lib/python3.6/site-packages/scipy/stats/_continuous_distns.py:2455: RuntimeWarning: The shape parameter of the erlang distribution has been given a non-integer value 0.3519461271266141.\n",
      "  RuntimeWarning)\n",
      "/anaconda3/lib/python3.6/site-packages/scipy/stats/_continuous_distns.py:2455: RuntimeWarning: The shape parameter of the erlang distribution has been given a non-integer value 0.33029507138790587.\n",
      "  RuntimeWarning)\n",
      "/anaconda3/lib/python3.6/site-packages/scipy/stats/_continuous_distns.py:2455: RuntimeWarning: The shape parameter of the erlang distribution has been given a non-integer value 0.34680751317645875.\n",
      "  RuntimeWarning)\n",
      "/anaconda3/lib/python3.6/site-packages/scipy/stats/_continuous_distns.py:2455: RuntimeWarning: The shape parameter of the erlang distribution has been given a non-integer value 0.32723486206716457.\n",
      "  RuntimeWarning)\n",
      "/anaconda3/lib/python3.6/site-packages/scipy/stats/_continuous_distns.py:2455: RuntimeWarning: The shape parameter of the erlang distribution has been given a non-integer value 0.31487922953743985.\n",
      "  RuntimeWarning)\n",
      "/anaconda3/lib/python3.6/site-packages/scipy/stats/_continuous_distns.py:2455: RuntimeWarning: The shape parameter of the erlang distribution has been given a non-integer value 0.3193250419444571.\n",
      "  RuntimeWarning)\n",
      "/anaconda3/lib/python3.6/site-packages/scipy/stats/_continuous_distns.py:2455: RuntimeWarning: The shape parameter of the erlang distribution has been given a non-integer value 0.33993689536845834.\n",
      "  RuntimeWarning)\n",
      "/anaconda3/lib/python3.6/site-packages/scipy/stats/_continuous_distns.py:2455: RuntimeWarning: The shape parameter of the erlang distribution has been given a non-integer value 0.3261956597524575.\n",
      "  RuntimeWarning)\n",
      "/anaconda3/lib/python3.6/site-packages/scipy/stats/_continuous_distns.py:2455: RuntimeWarning: The shape parameter of the erlang distribution has been given a non-integer value 0.33650158646445816.\n",
      "  RuntimeWarning)\n",
      "/anaconda3/lib/python3.6/site-packages/scipy/stats/_continuous_distns.py:2455: RuntimeWarning: The shape parameter of the erlang distribution has been given a non-integer value 0.3296309686564577.\n",
      "  RuntimeWarning)\n",
      "/anaconda3/lib/python3.6/site-packages/scipy/stats/_continuous_distns.py:2455: RuntimeWarning: The shape parameter of the erlang distribution has been given a non-integer value 0.3126309359074222.\n",
      "  RuntimeWarning)\n",
      "/anaconda3/lib/python3.6/site-packages/scipy/stats/_continuous_distns.py:2455: RuntimeWarning: The shape parameter of the erlang distribution has been given a non-integer value 0.33612275321986496.\n",
      "  RuntimeWarning)\n",
      "/anaconda3/lib/python3.6/site-packages/scipy/stats/_continuous_distns.py:2455: RuntimeWarning: The shape parameter of the erlang distribution has been given a non-integer value 0.3339817776721282.\n",
      "  RuntimeWarning)\n",
      "/anaconda3/lib/python3.6/site-packages/scipy/stats/_continuous_distns.py:2455: RuntimeWarning: The shape parameter of the erlang distribution has been given a non-integer value 0.3295034031356795.\n",
      "  RuntimeWarning)\n",
      "/anaconda3/lib/python3.6/site-packages/scipy/stats/_continuous_distns.py:2455: RuntimeWarning: The shape parameter of the erlang distribution has been given a non-integer value 0.3214567360196695.\n",
      "  RuntimeWarning)\n",
      "/anaconda3/lib/python3.6/site-packages/scipy/stats/_continuous_distns.py:2455: RuntimeWarning: The shape parameter of the erlang distribution has been given a non-integer value 0.33245624891981607.\n",
      "  RuntimeWarning)\n",
      "/anaconda3/lib/python3.6/site-packages/scipy/stats/_continuous_distns.py:2455: RuntimeWarning: The shape parameter of the erlang distribution has been given a non-integer value 0.3300446499599461.\n",
      "  RuntimeWarning)\n",
      "/anaconda3/lib/python3.6/site-packages/scipy/stats/_continuous_distns.py:2455: RuntimeWarning: The shape parameter of the erlang distribution has been given a non-integer value 0.3296387148417461.\n",
      "  RuntimeWarning)\n",
      "/anaconda3/lib/python3.6/site-packages/scipy/stats/_continuous_distns.py:2455: RuntimeWarning: The shape parameter of the erlang distribution has been given a non-integer value 0.32521344812376285.\n",
      "  RuntimeWarning)\n",
      "/anaconda3/lib/python3.6/site-packages/scipy/stats/_continuous_distns.py:2455: RuntimeWarning: The shape parameter of the erlang distribution has been given a non-integer value 0.33064554872080276.\n",
      "  RuntimeWarning)\n",
      "/anaconda3/lib/python3.6/site-packages/scipy/stats/_continuous_distns.py:2455: RuntimeWarning: The shape parameter of the erlang distribution has been given a non-integer value 0.3287022047878706.\n",
      "  RuntimeWarning)\n",
      "/anaconda3/lib/python3.6/site-packages/scipy/stats/_continuous_distns.py:2455: RuntimeWarning: The shape parameter of the erlang distribution has been given a non-integer value 0.32940458732827727.\n",
      "  RuntimeWarning)\n",
      "/anaconda3/lib/python3.6/site-packages/scipy/stats/_continuous_distns.py:2455: RuntimeWarning: The shape parameter of the erlang distribution has been given a non-integer value 0.3268680633137969.\n",
      "  RuntimeWarning)\n",
      "/anaconda3/lib/python3.6/site-packages/scipy/stats/_continuous_distns.py:2455: RuntimeWarning: The shape parameter of the erlang distribution has been given a non-integer value 0.3297011773690513.\n",
      "  RuntimeWarning)\n",
      "/anaconda3/lib/python3.6/site-packages/scipy/stats/_continuous_distns.py:2455: RuntimeWarning: The shape parameter of the erlang distribution has been given a non-integer value 0.32830675140017185.\n",
      "  RuntimeWarning)\n",
      "/anaconda3/lib/python3.6/site-packages/scipy/stats/_continuous_distns.py:2455: RuntimeWarning: The shape parameter of the erlang distribution has been given a non-integer value 0.3291301283462509.\n",
      "  RuntimeWarning)\n",
      "/anaconda3/lib/python3.6/site-packages/scipy/stats/_continuous_distns.py:2455: RuntimeWarning: The shape parameter of the erlang distribution has been given a non-integer value 0.3276294620108641.\n",
      "  RuntimeWarning)\n",
      "/anaconda3/lib/python3.6/site-packages/scipy/stats/_continuous_distns.py:2455: RuntimeWarning: The shape parameter of the erlang distribution has been given a non-integer value 0.3272000668100734.\n",
      "  RuntimeWarning)\n",
      "/anaconda3/lib/python3.6/site-packages/scipy/stats/_continuous_distns.py:2455: RuntimeWarning: The shape parameter of the erlang distribution has been given a non-integer value 0.3286476129622065.\n",
      "  RuntimeWarning)\n",
      "/anaconda3/lib/python3.6/site-packages/scipy/stats/_continuous_distns.py:2455: RuntimeWarning: The shape parameter of the erlang distribution has been given a non-integer value 0.32604365603703245.\n",
      "  RuntimeWarning)\n",
      "/anaconda3/lib/python3.6/site-packages/scipy/stats/_continuous_distns.py:2455: RuntimeWarning: The shape parameter of the erlang distribution has been given a non-integer value 0.3287341405016014.\n",
      "  RuntimeWarning)\n",
      "/anaconda3/lib/python3.6/site-packages/scipy/stats/_continuous_distns.py:2455: RuntimeWarning: The shape parameter of the erlang distribution has been given a non-integer value 0.32708469675754687.\n",
      "  RuntimeWarning)\n",
      "/anaconda3/lib/python3.6/site-packages/scipy/stats/_continuous_distns.py:2455: RuntimeWarning: The shape parameter of the erlang distribution has been given a non-integer value 0.3282568839110416.\n",
      "  RuntimeWarning)\n",
      "/anaconda3/lib/python3.6/site-packages/scipy/stats/_continuous_distns.py:2455: RuntimeWarning: The shape parameter of the erlang distribution has been given a non-integer value 0.3266799981577789.\n",
      "  RuntimeWarning)\n",
      "/anaconda3/lib/python3.6/site-packages/scipy/stats/_continuous_distns.py:2455: RuntimeWarning: The shape parameter of the erlang distribution has been given a non-integer value 0.32822060491564575.\n",
      "  RuntimeWarning)\n",
      "/anaconda3/lib/python3.6/site-packages/scipy/stats/_continuous_distns.py:2455: RuntimeWarning: The shape parameter of the erlang distribution has been given a non-integer value 0.32713306875140813.\n",
      "  RuntimeWarning)\n",
      "/anaconda3/lib/python3.6/site-packages/scipy/stats/_continuous_distns.py:2455: RuntimeWarning: The shape parameter of the erlang distribution has been given a non-integer value 0.32797593012113324.\n",
      "  RuntimeWarning)\n",
      "/anaconda3/lib/python3.6/site-packages/scipy/stats/_continuous_distns.py:2455: RuntimeWarning: The shape parameter of the erlang distribution has been given a non-integer value 0.3270062312171289.\n",
      "  RuntimeWarning)\n",
      "/anaconda3/lib/python3.6/site-packages/scipy/stats/_continuous_distns.py:2455: RuntimeWarning: The shape parameter of the erlang distribution has been given a non-integer value 0.32791701149101654.\n",
      "  RuntimeWarning)\n",
      "/anaconda3/lib/python3.6/site-packages/scipy/stats/_continuous_distns.py:2455: RuntimeWarning: The shape parameter of the erlang distribution has been given a non-integer value 0.327211626924897.\n",
      "  RuntimeWarning)\n",
      "/anaconda3/lib/python3.6/site-packages/scipy/stats/_continuous_distns.py:2455: RuntimeWarning: The shape parameter of the erlang distribution has been given a non-integer value 0.32778485432207416.\n",
      "  RuntimeWarning)\n",
      "/anaconda3/lib/python3.6/site-packages/scipy/stats/_continuous_distns.py:2455: RuntimeWarning: The shape parameter of the erlang distribution has been given a non-integer value 0.32718244077571873.\n",
      "  RuntimeWarning)\n",
      "/anaconda3/lib/python3.6/site-packages/scipy/stats/_continuous_distns.py:2455: RuntimeWarning: The shape parameter of the erlang distribution has been given a non-integer value 0.32773336881219206.\n",
      "  RuntimeWarning)\n",
      "/anaconda3/lib/python3.6/site-packages/scipy/stats/_continuous_distns.py:2455: RuntimeWarning: The shape parameter of the erlang distribution has been given a non-integer value 0.3272802742714064.\n",
      "  RuntimeWarning)\n",
      "/anaconda3/lib/python3.6/site-packages/scipy/stats/_continuous_distns.py:2455: RuntimeWarning: The shape parameter of the erlang distribution has been given a non-integer value 0.3270279842460725.\n",
      "  RuntimeWarning)\n",
      "/anaconda3/lib/python3.6/site-packages/scipy/stats/_continuous_distns.py:2455: RuntimeWarning: The shape parameter of the erlang distribution has been given a non-integer value 0.327029696754098.\n",
      "  RuntimeWarning)\n",
      "/anaconda3/lib/python3.6/site-packages/scipy/stats/_continuous_distns.py:2455: RuntimeWarning: The shape parameter of the erlang distribution has been given a non-integer value 0.3275574507976685.\n",
      "  RuntimeWarning)\n",
      "/anaconda3/lib/python3.6/site-packages/scipy/stats/_continuous_distns.py:2455: RuntimeWarning: The shape parameter of the erlang distribution has been given a non-integer value 0.32720561476862153.\n",
      "  RuntimeWarning)\n",
      "/anaconda3/lib/python3.6/site-packages/scipy/stats/_continuous_distns.py:2455: RuntimeWarning: The shape parameter of the erlang distribution has been given a non-integer value 0.32746949179040674.\n",
      "  RuntimeWarning)\n",
      "/anaconda3/lib/python3.6/site-packages/scipy/stats/_continuous_distns.py:2455: RuntimeWarning: The shape parameter of the erlang distribution has been given a non-integer value 0.32702695674178767.\n",
      "  RuntimeWarning)\n",
      "/anaconda3/lib/python3.6/site-packages/scipy/stats/_continuous_distns.py:2455: RuntimeWarning: The shape parameter of the erlang distribution has been given a non-integer value 0.32747883569359504.\n",
      "  RuntimeWarning)\n",
      "/anaconda3/lib/python3.6/site-packages/scipy/stats/_continuous_distns.py:2455: RuntimeWarning: The shape parameter of the erlang distribution has been given a non-integer value 0.3271931562310373.\n",
      "  RuntimeWarning)\n",
      "/anaconda3/lib/python3.6/site-packages/scipy/stats/_continuous_distns.py:2455: RuntimeWarning: The shape parameter of the erlang distribution has been given a non-integer value 0.32740040790056435.\n",
      "  RuntimeWarning)\n",
      "/anaconda3/lib/python3.6/site-packages/scipy/stats/_continuous_distns.py:2455: RuntimeWarning: The shape parameter of the erlang distribution has been given a non-integer value 0.32713152713249516.\n",
      "  RuntimeWarning)\n",
      "/anaconda3/lib/python3.6/site-packages/scipy/stats/_continuous_distns.py:2455: RuntimeWarning: The shape parameter of the erlang distribution has been given a non-integer value 0.32739200855332007.\n",
      "  RuntimeWarning)\n",
      "/anaconda3/lib/python3.6/site-packages/scipy/stats/_continuous_distns.py:2455: RuntimeWarning: The shape parameter of the erlang distribution has been given a non-integer value 0.32720435536069636.\n",
      "  RuntimeWarning)\n",
      "/anaconda3/lib/python3.6/site-packages/scipy/stats/_continuous_distns.py:2455: RuntimeWarning: The shape parameter of the erlang distribution has been given a non-integer value 0.3271063290907623.\n",
      "  RuntimeWarning)\n",
      "/anaconda3/lib/python3.6/site-packages/scipy/stats/_continuous_distns.py:2455: RuntimeWarning: The shape parameter of the erlang distribution has been given a non-integer value 0.32708765257952477.\n",
      "  RuntimeWarning)\n",
      "/anaconda3/lib/python3.6/site-packages/scipy/stats/_continuous_distns.py:2455: RuntimeWarning: The shape parameter of the erlang distribution has been given a non-integer value 0.32731591955987127.\n",
      "  RuntimeWarning)\n",
      "/anaconda3/lib/python3.6/site-packages/scipy/stats/_continuous_distns.py:2455: RuntimeWarning: The shape parameter of the erlang distribution has been given a non-integer value 0.32716374157297357.\n",
      "  RuntimeWarning)\n",
      "/anaconda3/lib/python3.6/site-packages/scipy/stats/_continuous_distns.py:2455: RuntimeWarning: The shape parameter of the erlang distribution has been given a non-integer value 0.3272778750631469.\n",
      "  RuntimeWarning)\n",
      "/anaconda3/lib/python3.6/site-packages/scipy/stats/_continuous_distns.py:2455: RuntimeWarning: The shape parameter of the erlang distribution has been given a non-integer value 0.32727347439633514.\n",
      "  RuntimeWarning)\n",
      "/anaconda3/lib/python3.6/site-packages/scipy/stats/_continuous_distns.py:2455: RuntimeWarning: The shape parameter of the erlang distribution has been given a non-integer value 0.3272445151494572.\n",
      "  RuntimeWarning)\n",
      "/anaconda3/lib/python3.6/site-packages/scipy/stats/_continuous_distns.py:2455: RuntimeWarning: The shape parameter of the erlang distribution has been given a non-integer value 0.3272082214578931.\n",
      "  RuntimeWarning)\n",
      "/anaconda3/lib/python3.6/site-packages/scipy/stats/_continuous_distns.py:2455: RuntimeWarning: The shape parameter of the erlang distribution has been given a non-integer value 0.3272604616618334.\n",
      "  RuntimeWarning)\n",
      "/anaconda3/lib/python3.6/site-packages/scipy/stats/_continuous_distns.py:2455: RuntimeWarning: The shape parameter of the erlang distribution has been given a non-integer value 0.3272522123798336.\n",
      "  RuntimeWarning)\n",
      "/anaconda3/lib/python3.6/site-packages/scipy/stats/_continuous_distns.py:2455: RuntimeWarning: The shape parameter of the erlang distribution has been given a non-integer value 0.3272464394570513.\n",
      "  RuntimeWarning)\n",
      "/anaconda3/lib/python3.6/site-packages/scipy/stats/_continuous_distns.py:2455: RuntimeWarning: The shape parameter of the erlang distribution has been given a non-integer value 0.32722691773093593.\n",
      "  RuntimeWarning)\n",
      "/anaconda3/lib/python3.6/site-packages/scipy/stats/_continuous_distns.py:2455: RuntimeWarning: The shape parameter of the erlang distribution has been given a non-integer value 0.3272520756791091.\n",
      "  RuntimeWarning)\n",
      "/anaconda3/lib/python3.6/site-packages/scipy/stats/_continuous_distns.py:2455: RuntimeWarning: The shape parameter of the erlang distribution has been given a non-integer value 0.3272446974170899.\n",
      "  RuntimeWarning)\n",
      "/anaconda3/lib/python3.6/site-packages/scipy/stats/_continuous_distns.py:2455: RuntimeWarning: The shape parameter of the erlang distribution has been given a non-integer value 0.32724600394706094.\n",
      "  RuntimeWarning)\n",
      "/anaconda3/lib/python3.6/site-packages/scipy/stats/_continuous_distns.py:2455: RuntimeWarning: The shape parameter of the erlang distribution has been given a non-integer value 0.32723501337366667.\n",
      "  RuntimeWarning)\n",
      "/anaconda3/lib/python3.6/site-packages/scipy/stats/_continuous_distns.py:2455: RuntimeWarning: The shape parameter of the erlang distribution has been given a non-integer value 0.3272478101027485.\n",
      "  RuntimeWarning)\n",
      "/anaconda3/lib/python3.6/site-packages/scipy/stats/_continuous_distns.py:2455: RuntimeWarning: The shape parameter of the erlang distribution has been given a non-integer value 0.3272422892095066.\n",
      "  RuntimeWarning)\n",
      "/anaconda3/lib/python3.6/site-packages/scipy/stats/_continuous_distns.py:2455: RuntimeWarning: The shape parameter of the erlang distribution has been given a non-integer value 0.3272450752626723.\n",
      "  RuntimeWarning)\n",
      "/anaconda3/lib/python3.6/site-packages/scipy/stats/_continuous_distns.py:2455: RuntimeWarning: The shape parameter of the erlang distribution has been given a non-integer value 0.32723865982710154.\n",
      "  RuntimeWarning)\n",
      "/anaconda3/lib/python3.6/site-packages/scipy/stats/_continuous_distns.py:2455: RuntimeWarning: The shape parameter of the erlang distribution has been given a non-integer value 0.32724552253383676.\n",
      "  RuntimeWarning)\n",
      "/anaconda3/lib/python3.6/site-packages/scipy/stats/_continuous_distns.py:2455: RuntimeWarning: The shape parameter of the erlang distribution has been given a non-integer value 0.327241692847954.\n",
      "  RuntimeWarning)\n",
      "/anaconda3/lib/python3.6/site-packages/scipy/stats/_continuous_distns.py:2455: RuntimeWarning: The shape parameter of the erlang distribution has been given a non-integer value 0.32724000164059486.\n",
      "  RuntimeWarning)\n",
      "/anaconda3/lib/python3.6/site-packages/scipy/stats/_continuous_distns.py:2455: RuntimeWarning: The shape parameter of the erlang distribution has been given a non-integer value 0.32723869245286774.\n",
      "  RuntimeWarning)\n",
      "/anaconda3/lib/python3.6/site-packages/scipy/stats/_continuous_distns.py:2455: RuntimeWarning: The shape parameter of the erlang distribution has been given a non-integer value 0.3272438150135945.\n",
      "  RuntimeWarning)\n",
      "/anaconda3/lib/python3.6/site-packages/scipy/stats/_continuous_distns.py:2455: RuntimeWarning: The shape parameter of the erlang distribution has been given a non-integer value 0.32717963454342347.\n",
      "  RuntimeWarning)\n",
      "/anaconda3/lib/python3.6/site-packages/scipy/stats/_continuous_distns.py:2455: RuntimeWarning: The shape parameter of the erlang distribution has been given a non-integer value 0.3272551143394107.\n",
      "  RuntimeWarning)\n",
      "/anaconda3/lib/python3.6/site-packages/scipy/stats/_continuous_distns.py:2455: RuntimeWarning: The shape parameter of the erlang distribution has been given a non-integer value 0.3272236266851129.\n",
      "  RuntimeWarning)\n",
      "/anaconda3/lib/python3.6/site-packages/scipy/stats/_continuous_distns.py:2455: RuntimeWarning: The shape parameter of the erlang distribution has been given a non-integer value 0.3272387679314741.\n",
      "  RuntimeWarning)\n",
      "/anaconda3/lib/python3.6/site-packages/scipy/stats/_continuous_distns.py:2455: RuntimeWarning: The shape parameter of the erlang distribution has been given a non-integer value 0.3272014297540057.\n",
      "  RuntimeWarning)\n",
      "/anaconda3/lib/python3.6/site-packages/scipy/stats/_continuous_distns.py:2455: RuntimeWarning: The shape parameter of the erlang distribution has been given a non-integer value 0.3272416931930594.\n",
      "  RuntimeWarning)\n",
      "/anaconda3/lib/python3.6/site-packages/scipy/stats/_continuous_distns.py:2455: RuntimeWarning: The shape parameter of the erlang distribution has been given a non-integer value 0.32721972633633245.\n",
      "  RuntimeWarning)\n",
      "/anaconda3/lib/python3.6/site-packages/scipy/stats/_continuous_distns.py:2455: RuntimeWarning: The shape parameter of the erlang distribution has been given a non-integer value 0.3272340075326887.\n",
      "  RuntimeWarning)\n",
      "/anaconda3/lib/python3.6/site-packages/scipy/stats/_continuous_distns.py:2455: RuntimeWarning: The shape parameter of the erlang distribution has been given a non-integer value 0.3272116773011666.\n",
      "  RuntimeWarning)\n",
      "/anaconda3/lib/python3.6/site-packages/scipy/stats/_continuous_distns.py:2455: RuntimeWarning: The shape parameter of the erlang distribution has been given a non-integer value 0.3272341892200862.\n",
      "  RuntimeWarning)\n",
      "/anaconda3/lib/python3.6/site-packages/scipy/stats/_continuous_distns.py:2455: RuntimeWarning: The shape parameter of the erlang distribution has been given a non-integer value 0.32721948408646895.\n",
      "  RuntimeWarning)\n",
      "/anaconda3/lib/python3.6/site-packages/scipy/stats/_continuous_distns.py:2455: RuntimeWarning: The shape parameter of the erlang distribution has been given a non-integer value 0.32723037667113375.\n",
      "  RuntimeWarning)\n",
      "/anaconda3/lib/python3.6/site-packages/scipy/stats/_continuous_distns.py:2455: RuntimeWarning: The shape parameter of the erlang distribution has been given a non-integer value 0.3272167606997699.\n",
      "  RuntimeWarning)\n",
      "/anaconda3/lib/python3.6/site-packages/scipy/stats/_continuous_distns.py:2455: RuntimeWarning: The shape parameter of the erlang distribution has been given a non-integer value 0.3272298320900071.\n",
      "  RuntimeWarning)\n",
      "/anaconda3/lib/python3.6/site-packages/scipy/stats/_continuous_distns.py:2455: RuntimeWarning: The shape parameter of the erlang distribution has been given a non-integer value 0.3272202101946379.\n",
      "  RuntimeWarning)\n",
      "/anaconda3/lib/python3.6/site-packages/scipy/stats/_continuous_distns.py:2455: RuntimeWarning: The shape parameter of the erlang distribution has been given a non-integer value 0.3272278350520098.\n",
      "  RuntimeWarning)\n",
      "/anaconda3/lib/python3.6/site-packages/scipy/stats/_continuous_distns.py:2455: RuntimeWarning: The shape parameter of the erlang distribution has been given a non-integer value 0.32721942341709964.\n",
      "  RuntimeWarning)\n",
      "/anaconda3/lib/python3.6/site-packages/scipy/stats/_continuous_distns.py:2455: RuntimeWarning: The shape parameter of the erlang distribution has been given a non-integer value 0.32721421908064596.\n",
      "  RuntimeWarning)\n",
      "/anaconda3/lib/python3.6/site-packages/scipy/stats/_continuous_distns.py:2455: RuntimeWarning: The shape parameter of the erlang distribution has been given a non-integer value 0.3272158126984902.\n",
      "  RuntimeWarning)\n",
      "/anaconda3/lib/python3.6/site-packages/scipy/stats/_continuous_distns.py:2455: RuntimeWarning: The shape parameter of the erlang distribution has been given a non-integer value 0.3272248294636299.\n",
      "  RuntimeWarning)\n",
      "/anaconda3/lib/python3.6/site-packages/scipy/stats/_continuous_distns.py:2455: RuntimeWarning: The shape parameter of the erlang distribution has been given a non-integer value 0.3272188182868701.\n",
      "  RuntimeWarning)\n",
      "/anaconda3/lib/python3.6/site-packages/scipy/stats/_continuous_distns.py:2455: RuntimeWarning: The shape parameter of the erlang distribution has been given a non-integer value 0.32722332666944.\n",
      "  RuntimeWarning)\n",
      "/anaconda3/lib/python3.6/site-packages/scipy/stats/_continuous_distns.py:2455: RuntimeWarning: The shape parameter of the erlang distribution has been given a non-integer value 0.32725193992896606.\n",
      "  RuntimeWarning)\n",
      "/anaconda3/lib/python3.6/site-packages/scipy/stats/_continuous_distns.py:2455: RuntimeWarning: The shape parameter of the erlang distribution has been given a non-integer value 0.3272757322131009.\n",
      "  RuntimeWarning)\n",
      "/anaconda3/lib/python3.6/site-packages/scipy/stats/_continuous_distns.py:2455: RuntimeWarning: The shape parameter of the erlang distribution has been given a non-integer value 0.32725204412657316.\n",
      "  RuntimeWarning)\n",
      "/anaconda3/lib/python3.6/site-packages/scipy/stats/_continuous_distns.py:2455: RuntimeWarning: The shape parameter of the erlang distribution has been given a non-integer value 0.3272305060337233.\n",
      "  RuntimeWarning)\n",
      "/anaconda3/lib/python3.6/site-packages/scipy/stats/_continuous_distns.py:2455: RuntimeWarning: The shape parameter of the erlang distribution has been given a non-integer value 0.32724486476228987.\n",
      "  RuntimeWarning)\n",
      "/anaconda3/lib/python3.6/site-packages/scipy/stats/_continuous_distns.py:2455: RuntimeWarning: The shape parameter of the erlang distribution has been given a non-integer value 0.3272340957158649.\n",
      "  RuntimeWarning)\n",
      "/anaconda3/lib/python3.6/site-packages/scipy/stats/_continuous_distns.py:2455: RuntimeWarning: The shape parameter of the erlang distribution has been given a non-integer value 0.3272286131933331.\n",
      "  RuntimeWarning)\n",
      "/anaconda3/lib/python3.6/site-packages/scipy/stats/_continuous_distns.py:2455: RuntimeWarning: The shape parameter of the erlang distribution has been given a non-integer value 0.3272384229342988.\n",
      "  RuntimeWarning)\n",
      "/anaconda3/lib/python3.6/site-packages/scipy/stats/_continuous_distns.py:2455: RuntimeWarning: The shape parameter of the erlang distribution has been given a non-integer value 0.32723909513771143.\n",
      "  RuntimeWarning)\n",
      "/anaconda3/lib/python3.6/site-packages/scipy/stats/_continuous_distns.py:2455: RuntimeWarning: The shape parameter of the erlang distribution has been given a non-integer value 0.32723534557132655.\n",
      "  RuntimeWarning)\n",
      "/anaconda3/lib/python3.6/site-packages/scipy/stats/_continuous_distns.py:2455: RuntimeWarning: The shape parameter of the erlang distribution has been given a non-integer value 0.3272327163439627.\n",
      "  RuntimeWarning)\n",
      "/anaconda3/lib/python3.6/site-packages/scipy/stats/_continuous_distns.py:2455: RuntimeWarning: The shape parameter of the erlang distribution has been given a non-integer value 0.32723699628671477.\n",
      "  RuntimeWarning)\n",
      "/anaconda3/lib/python3.6/site-packages/scipy/stats/_continuous_distns.py:2455: RuntimeWarning: The shape parameter of the erlang distribution has been given a non-integer value 0.3272368941838604.\n",
      "  RuntimeWarning)\n",
      "/anaconda3/lib/python3.6/site-packages/scipy/stats/_continuous_distns.py:2455: RuntimeWarning: The shape parameter of the erlang distribution has been given a non-integer value 0.32723573272446005.\n",
      "  RuntimeWarning)\n",
      "/anaconda3/lib/python3.6/site-packages/scipy/stats/_continuous_distns.py:2455: RuntimeWarning: The shape parameter of the erlang distribution has been given a non-integer value 0.3272344010936358.\n",
      "  RuntimeWarning)\n",
      "/anaconda3/lib/python3.6/site-packages/scipy/stats/_continuous_distns.py:2455: RuntimeWarning: The shape parameter of the erlang distribution has been given a non-integer value 0.327236347488445.\n",
      "  RuntimeWarning)\n",
      "/anaconda3/lib/python3.6/site-packages/scipy/stats/_continuous_distns.py:2455: RuntimeWarning: The shape parameter of the erlang distribution has been given a non-integer value 0.3272360744985471.\n",
      "  RuntimeWarning)\n",
      "/anaconda3/lib/python3.6/site-packages/scipy/stats/_continuous_distns.py:2455: RuntimeWarning: The shape parameter of the erlang distribution has been given a non-integer value 0.3272358181679818.\n",
      "  RuntimeWarning)\n",
      "/anaconda3/lib/python3.6/site-packages/scipy/stats/_continuous_distns.py:2455: RuntimeWarning: The shape parameter of the erlang distribution has been given a non-integer value 0.3272351068542533.\n",
      "  RuntimeWarning)\n",
      "/anaconda3/lib/python3.6/site-packages/scipy/stats/_continuous_distns.py:2455: RuntimeWarning: The shape parameter of the erlang distribution has been given a non-integer value 0.32723603732989703.\n",
      "  RuntimeWarning)\n",
      "/anaconda3/lib/python3.6/site-packages/scipy/stats/_continuous_distns.py:2455: RuntimeWarning: The shape parameter of the erlang distribution has been given a non-integer value 0.32723578228266.\n",
      "  RuntimeWarning)\n",
      "/anaconda3/lib/python3.6/site-packages/scipy/stats/_continuous_distns.py:2455: RuntimeWarning: The shape parameter of the erlang distribution has been given a non-integer value 0.3272353930892534.\n",
      "  RuntimeWarning)\n",
      "/anaconda3/lib/python3.6/site-packages/scipy/stats/_continuous_distns.py:2455: RuntimeWarning: The shape parameter of the erlang distribution has been given a non-integer value 0.32723587626973616.\n",
      "  RuntimeWarning)\n",
      "/anaconda3/lib/python3.6/site-packages/scipy/stats/_continuous_distns.py:2455: RuntimeWarning: The shape parameter of the erlang distribution has been given a non-integer value 0.32726297557047523.\n",
      "  RuntimeWarning)\n",
      "/anaconda3/lib/python3.6/site-packages/scipy/stats/_continuous_distns.py:2455: RuntimeWarning: The shape parameter of the erlang distribution has been given a non-integer value 0.32723031145544357.\n",
      "  RuntimeWarning)\n",
      "/anaconda3/lib/python3.6/site-packages/scipy/stats/_continuous_distns.py:2455: RuntimeWarning: The shape parameter of the erlang distribution has been given a non-integer value 0.3272428128416436.\n",
      "  RuntimeWarning)\n",
      "/anaconda3/lib/python3.6/site-packages/scipy/stats/_continuous_distns.py:2455: RuntimeWarning: The shape parameter of the erlang distribution has been given a non-integer value 0.32723761041271304.\n",
      "  RuntimeWarning)\n",
      "/anaconda3/lib/python3.6/site-packages/scipy/stats/_continuous_distns.py:2455: RuntimeWarning: The shape parameter of the erlang distribution has been given a non-integer value 0.32725324362744923.\n",
      "  RuntimeWarning)\n",
      "/anaconda3/lib/python3.6/site-packages/scipy/stats/_continuous_distns.py:2455: RuntimeWarning: The shape parameter of the erlang distribution has been given a non-integer value 0.327236044498445.\n",
      "  RuntimeWarning)\n",
      "/anaconda3/lib/python3.6/site-packages/scipy/stats/_continuous_distns.py:2455: RuntimeWarning: The shape parameter of the erlang distribution has been given a non-integer value 0.32724490072733436.\n",
      "  RuntimeWarning)\n",
      "/anaconda3/lib/python3.6/site-packages/scipy/stats/_continuous_distns.py:2455: RuntimeWarning: The shape parameter of the erlang distribution has been given a non-integer value 0.3272394329913684.\n",
      "  RuntimeWarning)\n",
      "/anaconda3/lib/python3.6/site-packages/scipy/stats/_continuous_distns.py:2455: RuntimeWarning: The shape parameter of the erlang distribution has been given a non-integer value 0.3272487256368847.\n",
      "  RuntimeWarning)\n",
      "/anaconda3/lib/python3.6/site-packages/scipy/stats/_continuous_distns.py:2455: RuntimeWarning: The shape parameter of the erlang distribution has been given a non-integer value 0.32723921478305495.\n",
      "  RuntimeWarning)\n",
      "/anaconda3/lib/python3.6/site-packages/scipy/stats/_continuous_distns.py:2455: RuntimeWarning: The shape parameter of the erlang distribution has been given a non-integer value 0.32724519167175237.\n",
      "  RuntimeWarning)\n",
      "/anaconda3/lib/python3.6/site-packages/scipy/stats/_continuous_distns.py:2455: RuntimeWarning: The shape parameter of the erlang distribution has been given a non-integer value 0.3272408726614644.\n",
      "  RuntimeWarning)\n",
      "/anaconda3/lib/python3.6/site-packages/scipy/stats/_continuous_distns.py:2455: RuntimeWarning: The shape parameter of the erlang distribution has been given a non-integer value 0.3272465151323387.\n",
      "  RuntimeWarning)\n",
      "/anaconda3/lib/python3.6/site-packages/scipy/stats/_continuous_distns.py:2455: RuntimeWarning: The shape parameter of the erlang distribution has been given a non-integer value 0.3272501653069806.\n",
      "  RuntimeWarning)\n",
      "/anaconda3/lib/python3.6/site-packages/scipy/stats/_continuous_distns.py:2455: RuntimeWarning: The shape parameter of the erlang distribution has been given a non-integer value 0.32724861890117884.\n",
      "  RuntimeWarning)\n",
      "/anaconda3/lib/python3.6/site-packages/scipy/stats/_continuous_distns.py:2455: RuntimeWarning: The shape parameter of the erlang distribution has been given a non-integer value 0.32724280922139304.\n",
      "  RuntimeWarning)\n",
      "/anaconda3/lib/python3.6/site-packages/scipy/stats/_continuous_distns.py:2455: RuntimeWarning: The shape parameter of the erlang distribution has been given a non-integer value 0.3272466823412502.\n",
      "  RuntimeWarning)\n",
      "/anaconda3/lib/python3.6/site-packages/scipy/stats/_continuous_distns.py:2455: RuntimeWarning: The shape parameter of the erlang distribution has been given a non-integer value 0.32724377750135736.\n",
      "  RuntimeWarning)\n",
      "/anaconda3/lib/python3.6/site-packages/scipy/stats/_continuous_distns.py:2455: RuntimeWarning: The shape parameter of the erlang distribution has been given a non-integer value 0.32725903942578144.\n",
      "  RuntimeWarning)\n",
      "/anaconda3/lib/python3.6/site-packages/scipy/stats/_continuous_distns.py:2455: RuntimeWarning: The shape parameter of the erlang distribution has been given a non-integer value 0.3272612188233668.\n",
      "  RuntimeWarning)\n",
      "/anaconda3/lib/python3.6/site-packages/scipy/stats/_continuous_distns.py:2455: RuntimeWarning: The shape parameter of the erlang distribution has been given a non-integer value 0.3272481378318597.\n",
      "  RuntimeWarning)\n",
      "/anaconda3/lib/python3.6/site-packages/scipy/stats/_continuous_distns.py:2455: RuntimeWarning: The shape parameter of the erlang distribution has been given a non-integer value 0.32725052166435387.\n",
      "  RuntimeWarning)\n",
      "/anaconda3/lib/python3.6/site-packages/scipy/stats/_continuous_distns.py:2455: RuntimeWarning: The shape parameter of the erlang distribution has been given a non-integer value 0.327251585362813.\n",
      "  RuntimeWarning)\n",
      "/anaconda3/lib/python3.6/site-packages/scipy/stats/_continuous_distns.py:2455: RuntimeWarning: The shape parameter of the erlang distribution has been given a non-integer value 0.32725662211542916.\n",
      "  RuntimeWarning)\n",
      "/anaconda3/lib/python3.6/site-packages/scipy/stats/_continuous_distns.py:2455: RuntimeWarning: The shape parameter of the erlang distribution has been given a non-integer value 0.32725025890275206.\n",
      "  RuntimeWarning)\n",
      "/anaconda3/lib/python3.6/site-packages/scipy/stats/_continuous_distns.py:2455: RuntimeWarning: The shape parameter of the erlang distribution has been given a non-integer value 0.32725229027776853.\n",
      "  RuntimeWarning)\n",
      "/anaconda3/lib/python3.6/site-packages/scipy/stats/_continuous_distns.py:2455: RuntimeWarning: The shape parameter of the erlang distribution has been given a non-integer value 0.3272517615915519.\n",
      "  RuntimeWarning)\n",
      "/anaconda3/lib/python3.6/site-packages/scipy/stats/_continuous_distns.py:2455: RuntimeWarning: The shape parameter of the erlang distribution has been given a non-integer value 0.32725461853036264.\n",
      "  RuntimeWarning)\n",
      "/anaconda3/lib/python3.6/site-packages/scipy/stats/_continuous_distns.py:2455: RuntimeWarning: The shape parameter of the erlang distribution has been given a non-integer value 0.3272513488096547.\n",
      "  RuntimeWarning)\n",
      "/anaconda3/lib/python3.6/site-packages/scipy/stats/_continuous_distns.py:2455: RuntimeWarning: The shape parameter of the erlang distribution has been given a non-integer value 0.32725284065363136.\n",
      "  RuntimeWarning)\n",
      "/anaconda3/lib/python3.6/site-packages/scipy/stats/_continuous_distns.py:2455: RuntimeWarning: The shape parameter of the erlang distribution has been given a non-integer value 0.32725203135707176.\n",
      "  RuntimeWarning)\n",
      "/anaconda3/lib/python3.6/site-packages/scipy/stats/_continuous_distns.py:2455: RuntimeWarning: The shape parameter of the erlang distribution has been given a non-integer value 0.32725370846713997.\n",
      "  RuntimeWarning)\n",
      "/anaconda3/lib/python3.6/site-packages/scipy/stats/_continuous_distns.py:2455: RuntimeWarning: The shape parameter of the erlang distribution has been given a non-integer value 0.327251938724026.\n",
      "  RuntimeWarning)\n",
      "/anaconda3/lib/python3.6/site-packages/scipy/stats/_continuous_distns.py:2455: RuntimeWarning: The shape parameter of the erlang distribution has been given a non-integer value 0.32725296416435906.\n",
      "  RuntimeWarning)\n",
      "/anaconda3/lib/python3.6/site-packages/scipy/stats/_continuous_distns.py:2455: RuntimeWarning: The shape parameter of the erlang distribution has been given a non-integer value 0.32725226455889356.\n",
      "  RuntimeWarning)\n",
      "/anaconda3/lib/python3.6/site-packages/scipy/stats/_continuous_distns.py:2455: RuntimeWarning: The shape parameter of the erlang distribution has been given a non-integer value 0.32725327402064985.\n",
      "  RuntimeWarning)\n",
      "/anaconda3/lib/python3.6/site-packages/scipy/stats/_continuous_distns.py:2455: RuntimeWarning: The shape parameter of the erlang distribution has been given a non-integer value 0.327252272548182.\n",
      "  RuntimeWarning)\n",
      "/anaconda3/lib/python3.6/site-packages/scipy/stats/_continuous_distns.py:2455: RuntimeWarning: The shape parameter of the erlang distribution has been given a non-integer value 0.3272529535119746.\n",
      "  RuntimeWarning)\n",
      "/anaconda3/lib/python3.6/site-packages/scipy/stats/_continuous_distns.py:2455: RuntimeWarning: The shape parameter of the erlang distribution has been given a non-integer value 0.3272524367971638.\n",
      "  RuntimeWarning)\n",
      "/anaconda3/lib/python3.6/site-packages/scipy/stats/_continuous_distns.py:2455: RuntimeWarning: The shape parameter of the erlang distribution has been given a non-integer value 0.3272530550220074.\n",
      "  RuntimeWarning)\n",
      "/anaconda3/lib/python3.6/site-packages/scipy/stats/_continuous_distns.py:2455: RuntimeWarning: The shape parameter of the erlang distribution has been given a non-integer value 0.32725246816663833.\n",
      "  RuntimeWarning)\n",
      "/anaconda3/lib/python3.6/site-packages/scipy/stats/_continuous_distns.py:2455: RuntimeWarning: The shape parameter of the erlang distribution has been given a non-integer value 0.3272529116860085.\n",
      "  RuntimeWarning)\n",
      "/anaconda3/lib/python3.6/site-packages/scipy/stats/_continuous_distns.py:2455: RuntimeWarning: The shape parameter of the erlang distribution has been given a non-integer value 0.3272531491304308.\n",
      "  RuntimeWarning)\n",
      "/anaconda3/lib/python3.6/site-packages/scipy/stats/_continuous_distns.py:2455: RuntimeWarning: The shape parameter of the erlang distribution has been given a non-integer value 0.32725317599611414.\n",
      "  RuntimeWarning)\n",
      "/anaconda3/lib/python3.6/site-packages/scipy/stats/_continuous_distns.py:2455: RuntimeWarning: The shape parameter of the erlang distribution has been given a non-integer value 0.3272526451240073.\n",
      "  RuntimeWarning)\n",
      "/anaconda3/lib/python3.6/site-packages/scipy/stats/_continuous_distns.py:2455: RuntimeWarning: The shape parameter of the erlang distribution has been given a non-integer value 0.32725299903874516.\n",
      "  RuntimeWarning)\n",
      "/anaconda3/lib/python3.6/site-packages/scipy/stats/_continuous_distns.py:2455: RuntimeWarning: The shape parameter of the erlang distribution has been given a non-integer value 0.3272527336026918.\n",
      "  RuntimeWarning)\n",
      "/anaconda3/lib/python3.6/site-packages/scipy/stats/_continuous_distns.py:2455: RuntimeWarning: The shape parameter of the erlang distribution has been given a non-integer value 0.32724240085491124.\n",
      "  RuntimeWarning)\n",
      "/anaconda3/lib/python3.6/site-packages/scipy/stats/_continuous_distns.py:2455: RuntimeWarning: The shape parameter of the erlang distribution has been given a non-integer value 0.3272548797830639.\n",
      "  RuntimeWarning)\n",
      "/anaconda3/lib/python3.6/site-packages/scipy/stats/_continuous_distns.py:2455: RuntimeWarning: The shape parameter of the erlang distribution has been given a non-integer value 0.3272501374649156.\n",
      "  RuntimeWarning)\n",
      "/anaconda3/lib/python3.6/site-packages/scipy/stats/_continuous_distns.py:2455: RuntimeWarning: The shape parameter of the erlang distribution has been given a non-integer value 0.32724883939602756.\n",
      "  RuntimeWarning)\n",
      "/anaconda3/lib/python3.6/site-packages/scipy/stats/_continuous_distns.py:2455: RuntimeWarning: The shape parameter of the erlang distribution has been given a non-integer value 0.3272448297391113.\n",
      "  RuntimeWarning)\n",
      "/anaconda3/lib/python3.6/site-packages/scipy/stats/_continuous_distns.py:2455: RuntimeWarning: The shape parameter of the erlang distribution has been given a non-integer value 0.32725236727207574.\n",
      "  RuntimeWarning)\n",
      "/anaconda3/lib/python3.6/site-packages/scipy/stats/_continuous_distns.py:2455: RuntimeWarning: The shape parameter of the erlang distribution has been given a non-integer value 0.32724734225009944.\n",
      "  RuntimeWarning)\n",
      "/anaconda3/lib/python3.6/site-packages/scipy/stats/_continuous_distns.py:2455: RuntimeWarning: The shape parameter of the erlang distribution has been given a non-integer value 0.32725111101658166.\n",
      "  RuntimeWarning)\n",
      "/anaconda3/lib/python3.6/site-packages/scipy/stats/_continuous_distns.py:2455: RuntimeWarning: The shape parameter of the erlang distribution has been given a non-integer value 0.32725625831266514.\n",
      "  RuntimeWarning)\n",
      "/anaconda3/lib/python3.6/site-packages/scipy/stats/_continuous_distns.py:2455: RuntimeWarning: The shape parameter of the erlang distribution has been given a non-integer value 0.32724895092742035.\n",
      "  RuntimeWarning)\n",
      "/anaconda3/lib/python3.6/site-packages/scipy/stats/_continuous_distns.py:2455: RuntimeWarning: The shape parameter of the erlang distribution has been given a non-integer value 0.32725022236898127.\n",
      "  RuntimeWarning)\n",
      "/anaconda3/lib/python3.6/site-packages/scipy/stats/_continuous_distns.py:2455: RuntimeWarning: The shape parameter of the erlang distribution has been given a non-integer value 0.32725088885468157.\n",
      "  RuntimeWarning)\n",
      "/anaconda3/lib/python3.6/site-packages/scipy/stats/_continuous_distns.py:2455: RuntimeWarning: The shape parameter of the erlang distribution has been given a non-integer value 0.32725367440965003.\n",
      "  RuntimeWarning)\n",
      "/anaconda3/lib/python3.6/site-packages/scipy/stats/_continuous_distns.py:2455: RuntimeWarning: The shape parameter of the erlang distribution has been given a non-integer value 0.3272560361507648.\n",
      "  RuntimeWarning)\n",
      "/anaconda3/lib/python3.6/site-packages/scipy/stats/_continuous_distns.py:2455: RuntimeWarning: The shape parameter of the erlang distribution has been given a non-integer value 0.3272535935190346.\n",
      "  RuntimeWarning)\n",
      "/anaconda3/lib/python3.6/site-packages/scipy/stats/_continuous_distns.py:2455: RuntimeWarning: The shape parameter of the erlang distribution has been given a non-integer value 0.3272515650207698.\n",
      "  RuntimeWarning)\n",
      "/anaconda3/lib/python3.6/site-packages/scipy/stats/_continuous_distns.py:2455: RuntimeWarning: The shape parameter of the erlang distribution has been given a non-integer value 0.3272506729108818.\n",
      "  RuntimeWarning)\n",
      "/anaconda3/lib/python3.6/site-packages/scipy/stats/_continuous_distns.py:2455: RuntimeWarning: The shape parameter of the erlang distribution has been given a non-integer value 0.3272523519922268.\n",
      "  RuntimeWarning)\n",
      "/anaconda3/lib/python3.6/site-packages/scipy/stats/_continuous_distns.py:2455: RuntimeWarning: The shape parameter of the erlang distribution has been given a non-integer value 0.3272525442237585.\n",
      "  RuntimeWarning)\n",
      "/anaconda3/lib/python3.6/site-packages/scipy/stats/_continuous_distns.py:2455: RuntimeWarning: The shape parameter of the erlang distribution has been given a non-integer value 0.32725180982151697.\n",
      "  RuntimeWarning)\n",
      "/anaconda3/lib/python3.6/site-packages/scipy/stats/_continuous_distns.py:2455: RuntimeWarning: The shape parameter of the erlang distribution has been given a non-integer value 0.3272513958051616.\n",
      "  RuntimeWarning)\n",
      "/anaconda3/lib/python3.6/site-packages/scipy/stats/_continuous_distns.py:2455: RuntimeWarning: The shape parameter of the erlang distribution has been given a non-integer value 0.32725091771162895.\n",
      "  RuntimeWarning)\n",
      "/anaconda3/lib/python3.6/site-packages/scipy/stats/_continuous_distns.py:2455: RuntimeWarning: The shape parameter of the erlang distribution has been given a non-integer value 0.32725166196496785.\n",
      "  RuntimeWarning)\n",
      "/anaconda3/lib/python3.6/site-packages/scipy/stats/_continuous_distns.py:2455: RuntimeWarning: The shape parameter of the erlang distribution has been given a non-integer value 0.3272517728573797.\n",
      "  RuntimeWarning)\n",
      "/anaconda3/lib/python3.6/site-packages/scipy/stats/_continuous_distns.py:2455: RuntimeWarning: The shape parameter of the erlang distribution has been given a non-integer value 0.3272516989291051.\n",
      "  RuntimeWarning)\n",
      "/anaconda3/lib/python3.6/site-packages/scipy/stats/_continuous_distns.py:2455: RuntimeWarning: The shape parameter of the erlang distribution has been given a non-integer value 0.32725175437531107.\n",
      "  RuntimeWarning)\n",
      "/anaconda3/lib/python3.6/site-packages/scipy/stats/_continuous_distns.py:2455: RuntimeWarning: The shape parameter of the erlang distribution has been given a non-integer value 0.32725171741117376.\n",
      "  RuntimeWarning)\n",
      "/anaconda3/lib/python3.6/site-packages/scipy/stats/_continuous_distns.py:2455: RuntimeWarning: The shape parameter of the erlang distribution has been given a non-integer value 0.32725438761907466.\n",
      "  RuntimeWarning)\n",
      "/anaconda3/lib/python3.6/site-packages/scipy/stats/_continuous_distns.py:2455: RuntimeWarning: The shape parameter of the erlang distribution has been given a non-integer value 0.32725120000345537.\n",
      "  RuntimeWarning)\n",
      "/anaconda3/lib/python3.6/site-packages/scipy/stats/_continuous_distns.py:2455: RuntimeWarning: The shape parameter of the erlang distribution has been given a non-integer value 0.3272533250805349.\n",
      "  RuntimeWarning)\n",
      "/anaconda3/lib/python3.6/site-packages/scipy/stats/_continuous_distns.py:2455: RuntimeWarning: The shape parameter of the erlang distribution has been given a non-integer value 0.3272517312727252.\n",
      "  RuntimeWarning)\n",
      "/anaconda3/lib/python3.6/site-packages/scipy/stats/_continuous_distns.py:2455: RuntimeWarning: The shape parameter of the erlang distribution has been given a non-integer value 0.32724955524972366.\n",
      "  RuntimeWarning)\n",
      "/anaconda3/lib/python3.6/site-packages/scipy/stats/_continuous_distns.py:2455: RuntimeWarning: The shape parameter of the erlang distribution has been given a non-integer value 0.3272526446196684.\n",
      "  RuntimeWarning)\n",
      "/anaconda3/lib/python3.6/site-packages/scipy/stats/_continuous_distns.py:2455: RuntimeWarning: The shape parameter of the erlang distribution has been given a non-integer value 0.3272521072846106.\n",
      "  RuntimeWarning)\n",
      "/anaconda3/lib/python3.6/site-packages/scipy/stats/_continuous_distns.py:2455: RuntimeWarning: The shape parameter of the erlang distribution has been given a non-integer value 0.3272518252756966.\n",
      "  RuntimeWarning)\n",
      "/anaconda3/lib/python3.6/site-packages/scipy/stats/_continuous_distns.py:2455: RuntimeWarning: The shape parameter of the erlang distribution has been given a non-integer value 0.3272506477083529.\n",
      "  RuntimeWarning)\n",
      "/anaconda3/lib/python3.6/site-packages/scipy/stats/_continuous_distns.py:2455: RuntimeWarning: The shape parameter of the erlang distribution has been given a non-integer value 0.32725214539183956.\n",
      "  RuntimeWarning)\n",
      "/anaconda3/lib/python3.6/site-packages/scipy/stats/_continuous_distns.py:2455: RuntimeWarning: The shape parameter of the erlang distribution has been given a non-integer value 0.32725168046308667.\n",
      "  RuntimeWarning)\n",
      "/anaconda3/lib/python3.6/site-packages/scipy/stats/_continuous_distns.py:2455: RuntimeWarning: The shape parameter of the erlang distribution has been given a non-integer value 0.32725160805678166.\n",
      "  RuntimeWarning)\n",
      "/anaconda3/lib/python3.6/site-packages/scipy/stats/_continuous_distns.py:2455: RuntimeWarning: The shape parameter of the erlang distribution has been given a non-integer value 0.3272510503944418.\n",
      "  RuntimeWarning)\n",
      "/anaconda3/lib/python3.6/site-packages/scipy/stats/_continuous_distns.py:2455: RuntimeWarning: The shape parameter of the erlang distribution has been given a non-integer value 0.32725187164249014.\n",
      "  RuntimeWarning)\n",
      "/anaconda3/lib/python3.6/site-packages/scipy/stats/_continuous_distns.py:2455: RuntimeWarning: The shape parameter of the erlang distribution has been given a non-integer value 0.3272513241437912.\n",
      "  RuntimeWarning)\n",
      "/anaconda3/lib/python3.6/site-packages/scipy/stats/_continuous_distns.py:2455: RuntimeWarning: The shape parameter of the erlang distribution has been given a non-integer value 0.3272510503944417.\n",
      "  RuntimeWarning)\n",
      "/anaconda3/lib/python3.6/site-packages/scipy/stats/_continuous_distns.py:2455: RuntimeWarning: The shape parameter of the erlang distribution has been given a non-integer value 0.32725175220687275.\n",
      "  RuntimeWarning)\n",
      "/anaconda3/lib/python3.6/site-packages/scipy/stats/_continuous_distns.py:2455: RuntimeWarning: The shape parameter of the erlang distribution has been given a non-integer value 0.3272514849055894.\n",
      "  RuntimeWarning)\n",
      "/anaconda3/lib/python3.6/site-packages/scipy/stats/_continuous_distns.py:2455: RuntimeWarning: The shape parameter of the erlang distribution has been given a non-integer value 0.32725127559713774.\n",
      "  RuntimeWarning)\n",
      "/anaconda3/lib/python3.6/site-packages/scipy/stats/_continuous_distns.py:2455: RuntimeWarning: The shape parameter of the erlang distribution has been given a non-integer value 0.32725160695766475.\n",
      "  RuntimeWarning)\n",
      "/anaconda3/lib/python3.6/site-packages/scipy/stats/_continuous_distns.py:2455: RuntimeWarning: The shape parameter of the erlang distribution has been given a non-integer value 0.32725158947077226.\n",
      "  RuntimeWarning)\n",
      "/anaconda3/lib/python3.6/site-packages/scipy/stats/_continuous_distns.py:2455: RuntimeWarning: The shape parameter of the erlang distribution has been given a non-integer value 0.3272515110468851.\n",
      "  RuntimeWarning)\n",
      "/anaconda3/lib/python3.6/site-packages/scipy/stats/_continuous_distns.py:2455: RuntimeWarning: The shape parameter of the erlang distribution has been given a non-integer value 0.32725140347817716.\n",
      "  RuntimeWarning)\n",
      "/anaconda3/lib/python3.6/site-packages/scipy/stats/_continuous_distns.py:2455: RuntimeWarning: The shape parameter of the erlang distribution has been given a non-integer value 0.3272515560877929.\n",
      "  RuntimeWarning)\n",
      "/anaconda3/lib/python3.6/site-packages/scipy/stats/_continuous_distns.py:2455: RuntimeWarning: The shape parameter of the erlang distribution has been given a non-integer value 0.3272515294162287.\n",
      "  RuntimeWarning)\n",
      "/anaconda3/lib/python3.6/site-packages/scipy/stats/_continuous_distns.py:2455: RuntimeWarning: The shape parameter of the erlang distribution has been given a non-integer value 0.3272514665942782.\n",
      "  RuntimeWarning)\n",
      "/anaconda3/lib/python3.6/site-packages/scipy/stats/_continuous_distns.py:2455: RuntimeWarning: The shape parameter of the erlang distribution has been given a non-integer value 0.3272515337144142.\n",
      "  RuntimeWarning)\n",
      "/anaconda3/lib/python3.6/site-packages/scipy/stats/_continuous_distns.py:2455: RuntimeWarning: The shape parameter of the erlang distribution has been given a non-integer value 0.327251244386536.\n",
      "  RuntimeWarning)\n",
      "/anaconda3/lib/python3.6/site-packages/scipy/stats/_continuous_distns.py:2455: RuntimeWarning: The shape parameter of the erlang distribution has been given a non-integer value 0.327251571443949.\n",
      "  RuntimeWarning)\n",
      "/anaconda3/lib/python3.6/site-packages/scipy/stats/_continuous_distns.py:2455: RuntimeWarning: The shape parameter of the erlang distribution has been given a non-integer value 0.32725141628823173.\n",
      "  RuntimeWarning)\n",
      "/anaconda3/lib/python3.6/site-packages/scipy/stats/_continuous_distns.py:2455: RuntimeWarning: The shape parameter of the erlang distribution has been given a non-integer value 0.32725150435786854.\n",
      "  RuntimeWarning)\n",
      "/anaconda3/lib/python3.6/site-packages/scipy/stats/_continuous_distns.py:2455: RuntimeWarning: The shape parameter of the erlang distribution has been given a non-integer value 0.32725133383464333.\n",
      "  RuntimeWarning)\n",
      "/anaconda3/lib/python3.6/site-packages/scipy/stats/_continuous_distns.py:2455: RuntimeWarning: The shape parameter of the erlang distribution has been given a non-integer value 0.3272515120416226.\n",
      "  RuntimeWarning)\n",
      "/anaconda3/lib/python3.6/site-packages/scipy/stats/_continuous_distns.py:2455: RuntimeWarning: The shape parameter of the erlang distribution has been given a non-integer value 0.32725140604322644.\n",
      "  RuntimeWarning)\n",
      "/anaconda3/lib/python3.6/site-packages/scipy/stats/_continuous_distns.py:2455: RuntimeWarning: The shape parameter of the erlang distribution has been given a non-integer value 0.327251479779208.\n",
      "  RuntimeWarning)\n",
      "/anaconda3/lib/python3.6/site-packages/scipy/stats/_continuous_distns.py:2455: RuntimeWarning: The shape parameter of the erlang distribution has been given a non-integer value 0.327251376851196.\n",
      "  RuntimeWarning)\n",
      "/anaconda3/lib/python3.6/site-packages/scipy/stats/_continuous_distns.py:2455: RuntimeWarning: The shape parameter of the erlang distribution has been given a non-integer value 0.32725147824401596.\n",
      "  RuntimeWarning)\n",
      "/anaconda3/lib/python3.6/site-packages/scipy/stats/_continuous_distns.py:2455: RuntimeWarning: The shape parameter of the erlang distribution has been given a non-integer value 0.3272514080901492.\n",
      "  RuntimeWarning)\n",
      "/anaconda3/lib/python3.6/site-packages/scipy/stats/_continuous_distns.py:2455: RuntimeWarning: The shape parameter of the erlang distribution has been given a non-integer value 0.3272514618569433.\n",
      "  RuntimeWarning)\n",
      "/anaconda3/lib/python3.6/site-packages/scipy/stats/_continuous_distns.py:2455: RuntimeWarning: The shape parameter of the erlang distribution has been given a non-integer value 0.3272513987006262.\n",
      "  RuntimeWarning)\n",
      "/anaconda3/lib/python3.6/site-packages/scipy/stats/_continuous_distns.py:2455: RuntimeWarning: The shape parameter of the erlang distribution has been given a non-integer value 0.3272514583581685.\n",
      "  RuntimeWarning)\n",
      "/anaconda3/lib/python3.6/site-packages/scipy/stats/_continuous_distns.py:2455: RuntimeWarning: The shape parameter of the erlang distribution has been given a non-integer value 0.3272514127551823.\n",
      "  RuntimeWarning)\n",
      "/anaconda3/lib/python3.6/site-packages/scipy/stats/_continuous_distns.py:2455: RuntimeWarning: The shape parameter of the erlang distribution has been given a non-integer value 0.3272514495815031.\n",
      "  RuntimeWarning)\n",
      "/anaconda3/lib/python3.6/site-packages/scipy/stats/_continuous_distns.py:2455: RuntimeWarning: The shape parameter of the erlang distribution has been given a non-integer value 0.3272514104028469.\n",
      "  RuntimeWarning)\n",
      "/anaconda3/lib/python3.6/site-packages/scipy/stats/_continuous_distns.py:2455: RuntimeWarning: The shape parameter of the erlang distribution has been given a non-integer value 0.3272514463693381.\n",
      "  RuntimeWarning)\n",
      "/anaconda3/lib/python3.6/site-packages/scipy/stats/_continuous_distns.py:2455: RuntimeWarning: The shape parameter of the erlang distribution has been given a non-integer value 0.3272514170380689.\n",
      "  RuntimeWarning)\n",
      "/anaconda3/lib/python3.6/site-packages/scipy/stats/_continuous_distns.py:2455: RuntimeWarning: The shape parameter of the erlang distribution has been given a non-integer value 0.32725144144564455.\n",
      "  RuntimeWarning)\n",
      "/anaconda3/lib/python3.6/site-packages/scipy/stats/_continuous_distns.py:2455: RuntimeWarning: The shape parameter of the erlang distribution has been given a non-integer value 0.3272514169677715.\n",
      "  RuntimeWarning)\n",
      "/anaconda3/lib/python3.6/site-packages/scipy/stats/_continuous_distns.py:2455: RuntimeWarning: The shape parameter of the erlang distribution has been given a non-integer value 0.3272514390189465.\n",
      "  RuntimeWarning)\n",
      "/anaconda3/lib/python3.6/site-packages/scipy/stats/_continuous_distns.py:2455: RuntimeWarning: The shape parameter of the erlang distribution has been given a non-integer value 0.3272514202736664.\n",
      "  RuntimeWarning)\n",
      "/anaconda3/lib/python3.6/site-packages/scipy/stats/_continuous_distns.py:2455: RuntimeWarning: The shape parameter of the erlang distribution has been given a non-integer value 0.32725143615265.\n",
      "  RuntimeWarning)\n",
      "/anaconda3/lib/python3.6/site-packages/scipy/stats/_continuous_distns.py:2455: RuntimeWarning: The shape parameter of the erlang distribution has been given a non-integer value 0.3272514207895001.\n",
      "  RuntimeWarning)\n",
      "/anaconda3/lib/python3.6/site-packages/scipy/stats/_continuous_distns.py:2455: RuntimeWarning: The shape parameter of the erlang distribution has been given a non-integer value 0.3272514344615849.\n",
      "  RuntimeWarning)\n",
      "/anaconda3/lib/python3.6/site-packages/scipy/stats/_continuous_distns.py:2455: RuntimeWarning: The shape parameter of the erlang distribution has been given a non-integer value 0.3272514225284198.\n",
      "  RuntimeWarning)\n",
      "/anaconda3/lib/python3.6/site-packages/scipy/stats/_continuous_distns.py:2455: RuntimeWarning: The shape parameter of the erlang distribution has been given a non-integer value 0.32725143274659246.\n",
      "  RuntimeWarning)\n",
      "/anaconda3/lib/python3.6/site-packages/scipy/stats/_continuous_distns.py:2455: RuntimeWarning: The shape parameter of the erlang distribution has been given a non-integer value 0.32725142307615673.\n",
      "  RuntimeWarning)\n",
      "/anaconda3/lib/python3.6/site-packages/scipy/stats/_continuous_distns.py:2455: RuntimeWarning: The shape parameter of the erlang distribution has been given a non-integer value 0.32725141738344266.\n",
      "  RuntimeWarning)\n",
      "/anaconda3/lib/python3.6/site-packages/scipy/stats/_continuous_distns.py:2455: RuntimeWarning: The shape parameter of the erlang distribution has been given a non-integer value 0.32725141834419197.\n",
      "  RuntimeWarning)\n",
      "/anaconda3/lib/python3.6/site-packages/scipy/stats/_continuous_distns.py:2455: RuntimeWarning: The shape parameter of the erlang distribution has been given a non-integer value 0.32725142914599237.\n",
      "  RuntimeWarning)\n",
      "/anaconda3/lib/python3.6/site-packages/scipy/stats/_continuous_distns.py:2455: RuntimeWarning: The shape parameter of the erlang distribution has been given a non-integer value 0.32725142194479206.\n",
      "  RuntimeWarning)\n",
      "/anaconda3/lib/python3.6/site-packages/scipy/stats/_continuous_distns.py:2455: RuntimeWarning: The shape parameter of the erlang distribution has been given a non-integer value 0.3272514273456923.\n",
      "  RuntimeWarning)\n",
      "/anaconda3/lib/python3.6/site-packages/scipy/stats/_continuous_distns.py:2455: RuntimeWarning: The shape parameter of the erlang distribution has been given a non-integer value 0.32725142374509214.\n",
      "  RuntimeWarning)\n",
      "/anaconda3/lib/python3.6/site-packages/scipy/stats/_continuous_distns.py:2455: RuntimeWarning: The shape parameter of the erlang distribution has been given a non-integer value 0.3272512512271313.\n",
      "  RuntimeWarning)\n",
      "/anaconda3/lib/python3.6/site-packages/scipy/stats/_continuous_distns.py:2455: RuntimeWarning: The shape parameter of the erlang distribution has been given a non-integer value 0.3272514598689543.\n",
      "  RuntimeWarning)\n",
      "/anaconda3/lib/python3.6/site-packages/scipy/stats/_continuous_distns.py:2455: RuntimeWarning: The shape parameter of the erlang distribution has been given a non-integer value 0.32725154698301084.\n",
      "  RuntimeWarning)\n",
      "/anaconda3/lib/python3.6/site-packages/scipy/stats/_continuous_distns.py:2455: RuntimeWarning: The shape parameter of the erlang distribution has been given a non-integer value 0.3272513798535961.\n",
      "  RuntimeWarning)\n",
      "/anaconda3/lib/python3.6/site-packages/scipy/stats/_continuous_distns.py:2455: RuntimeWarning: The shape parameter of the erlang distribution has been given a non-integer value 0.3272513579142756.\n",
      "  RuntimeWarning)\n",
      "/anaconda3/lib/python3.6/site-packages/scipy/stats/_continuous_distns.py:2455: RuntimeWarning: The shape parameter of the erlang distribution has been given a non-integer value 0.32725143438028464.\n",
      "  RuntimeWarning)\n",
      "/anaconda3/lib/python3.6/site-packages/scipy/stats/_continuous_distns.py:2455: RuntimeWarning: The shape parameter of the erlang distribution has been given a non-integer value 0.3272514742807595.\n",
      "  RuntimeWarning)\n",
      "/anaconda3/lib/python3.6/site-packages/scipy/stats/_continuous_distns.py:2455: RuntimeWarning: The shape parameter of the erlang distribution has been given a non-integer value 0.3272515214943412.\n",
      "  RuntimeWarning)\n",
      "/anaconda3/lib/python3.6/site-packages/scipy/stats/_continuous_distns.py:2455: RuntimeWarning: The shape parameter of the erlang distribution has been given a non-integer value 0.3272514463543876.\n",
      "  RuntimeWarning)\n",
      "/anaconda3/lib/python3.6/site-packages/scipy/stats/_continuous_distns.py:2455: RuntimeWarning: The shape parameter of the erlang distribution has been given a non-integer value 0.32725143737381035.\n",
      "  RuntimeWarning)\n",
      "/anaconda3/lib/python3.6/site-packages/scipy/stats/_continuous_distns.py:2455: RuntimeWarning: The shape parameter of the erlang distribution has been given a non-integer value 0.32725144336086187.\n",
      "  RuntimeWarning)\n",
      "/anaconda3/lib/python3.6/site-packages/scipy/stats/_continuous_distns.py:2455: RuntimeWarning: The shape parameter of the erlang distribution has been given a non-integer value 0.32725143887057323.\n",
      "  RuntimeWarning)\n",
      "/anaconda3/lib/python3.6/site-packages/scipy/stats/_continuous_distns.py:2455: RuntimeWarning: The shape parameter of the erlang distribution has been given a non-integer value 0.3272514670732341.\n",
      "  RuntimeWarning)\n",
      "/anaconda3/lib/python3.6/site-packages/scipy/stats/_continuous_distns.py:2455: RuntimeWarning: The shape parameter of the erlang distribution has been given a non-integer value 0.32725148873730514.\n",
      "  RuntimeWarning)\n",
      "/anaconda3/lib/python3.6/site-packages/scipy/stats/_continuous_distns.py:2455: RuntimeWarning: The shape parameter of the erlang distribution has been given a non-integer value 0.32725147074952693.\n",
      "  RuntimeWarning)\n",
      "/anaconda3/lib/python3.6/site-packages/scipy/stats/_continuous_distns.py:2455: RuntimeWarning: The shape parameter of the erlang distribution has been given a non-integer value 0.32725144684031165.\n",
      "  RuntimeWarning)\n",
      "/anaconda3/lib/python3.6/site-packages/scipy/stats/_continuous_distns.py:2455: RuntimeWarning: The shape parameter of the erlang distribution has been given a non-integer value 0.3272514627797885.\n",
      "  RuntimeWarning)\n",
      "/anaconda3/lib/python3.6/site-packages/scipy/stats/_continuous_distns.py:2455: RuntimeWarning: The shape parameter of the erlang distribution has been given a non-integer value 0.32725145082518087.\n",
      "  RuntimeWarning)\n",
      "/anaconda3/lib/python3.6/site-packages/scipy/stats/_continuous_distns.py:2455: RuntimeWarning: The shape parameter of the erlang distribution has been given a non-integer value 0.3272515050432929.\n",
      "  RuntimeWarning)\n",
      "/anaconda3/lib/python3.6/site-packages/scipy/stats/_continuous_distns.py:2455: RuntimeWarning: The shape parameter of the erlang distribution has been given a non-integer value 0.3272514435679408.\n",
      "  RuntimeWarning)\n",
      "/anaconda3/lib/python3.6/site-packages/scipy/stats/_continuous_distns.py:2455: RuntimeWarning: The shape parameter of the erlang distribution has been given a non-integer value 0.3272514724561087.\n",
      "  RuntimeWarning)\n",
      "/anaconda3/lib/python3.6/site-packages/scipy/stats/_continuous_distns.py:2455: RuntimeWarning: The shape parameter of the erlang distribution has been given a non-integer value 0.32725145623291285.\n",
      "  RuntimeWarning)\n",
      "/anaconda3/lib/python3.6/site-packages/scipy/stats/_continuous_distns.py:2455: RuntimeWarning: The shape parameter of the erlang distribution has been given a non-integer value 0.3272514881566635.\n",
      "  RuntimeWarning)\n",
      "/anaconda3/lib/python3.6/site-packages/scipy/stats/_continuous_distns.py:2455: RuntimeWarning: The shape parameter of the erlang distribution has been given a non-integer value 0.32725145471512146.\n",
      "  RuntimeWarning)\n",
      "/anaconda3/lib/python3.6/site-packages/scipy/stats/_continuous_distns.py:2455: RuntimeWarning: The shape parameter of the erlang distribution has been given a non-integer value 0.3272514744798305.\n",
      "  RuntimeWarning)\n",
      "/anaconda3/lib/python3.6/site-packages/scipy/stats/_continuous_distns.py:2455: RuntimeWarning: The shape parameter of the erlang distribution has been given a non-integer value 0.3272514836032894.\n",
      "  RuntimeWarning)\n",
      "/anaconda3/lib/python3.6/site-packages/scipy/stats/_continuous_distns.py:2455: RuntimeWarning: The shape parameter of the erlang distribution has been given a non-integer value 0.3272514891740946.\n",
      "  RuntimeWarning)\n",
      "/anaconda3/lib/python3.6/site-packages/scipy/stats/_continuous_distns.py:2455: RuntimeWarning: The shape parameter of the erlang distribution has been given a non-integer value 0.32725146332986477.\n",
      "  RuntimeWarning)\n",
      "/anaconda3/lib/python3.6/site-packages/scipy/stats/_continuous_distns.py:2455: RuntimeWarning: The shape parameter of the erlang distribution has been given a non-integer value 0.32725148055935127.\n",
      "  RuntimeWarning)\n",
      "/anaconda3/lib/python3.6/site-packages/scipy/stats/_continuous_distns.py:2455: RuntimeWarning: The shape parameter of the erlang distribution has been given a non-integer value 0.3272514676372364.\n",
      "  RuntimeWarning)\n",
      "/anaconda3/lib/python3.6/site-packages/scipy/stats/_continuous_distns.py:2455: RuntimeWarning: The shape parameter of the erlang distribution has been given a non-integer value 0.32725146517944115.\n",
      "  RuntimeWarning)\n",
      "/anaconda3/lib/python3.6/site-packages/scipy/stats/_continuous_distns.py:2455: RuntimeWarning: The shape parameter of the erlang distribution has been given a non-integer value 0.32725146062878196.\n",
      "  RuntimeWarning)\n",
      "/anaconda3/lib/python3.6/site-packages/scipy/stats/_continuous_distns.py:2455: RuntimeWarning: The shape parameter of the erlang distribution has been given a non-integer value 0.32725147018443407.\n",
      "  RuntimeWarning)\n",
      "/anaconda3/lib/python3.6/site-packages/scipy/stats/_continuous_distns.py:2455: RuntimeWarning: The shape parameter of the erlang distribution has been given a non-integer value 0.32725146827403584.\n",
      "  RuntimeWarning)\n",
      "/anaconda3/lib/python3.6/site-packages/scipy/stats/_continuous_distns.py:2455: RuntimeWarning: The shape parameter of the erlang distribution has been given a non-integer value 0.3272514695476346.\n",
      "  RuntimeWarning)\n",
      "/anaconda3/lib/python3.6/site-packages/scipy/stats/_continuous_distns.py:2455: RuntimeWarning: The shape parameter of the erlang distribution has been given a non-integer value 0.32725146859243553.\n",
      "  RuntimeWarning)\n",
      "/anaconda3/lib/python3.6/site-packages/scipy/stats/_continuous_distns.py:2455: RuntimeWarning: The shape parameter of the erlang distribution has been given a non-integer value 0.3272514717612373.\n",
      "  RuntimeWarning)\n",
      "/anaconda3/lib/python3.6/site-packages/scipy/stats/_continuous_distns.py:2455: RuntimeWarning: The shape parameter of the erlang distribution has been given a non-integer value 0.3272514682452349.\n",
      "  RuntimeWarning)\n",
      "/anaconda3/lib/python3.6/site-packages/scipy/stats/_continuous_distns.py:2455: RuntimeWarning: The shape parameter of the erlang distribution has been given a non-integer value 0.3272514700105688.\n",
      "  RuntimeWarning)\n",
      "/anaconda3/lib/python3.6/site-packages/scipy/stats/_continuous_distns.py:2455: RuntimeWarning: The shape parameter of the erlang distribution has been given a non-integer value 0.32725147071963545.\n",
      "  RuntimeWarning)\n",
      "/anaconda3/lib/python3.6/site-packages/scipy/stats/_continuous_distns.py:2455: RuntimeWarning: The shape parameter of the erlang distribution has been given a non-integer value 0.32725147153465883.\n",
      "  RuntimeWarning)\n",
      "/anaconda3/lib/python3.6/site-packages/scipy/stats/_continuous_distns.py:2455: RuntimeWarning: The shape parameter of the erlang distribution has been given a non-integer value 0.32725146906759084.\n",
      "  RuntimeWarning)\n",
      "/anaconda3/lib/python3.6/site-packages/scipy/stats/_continuous_distns.py:2455: RuntimeWarning: The shape parameter of the erlang distribution has been given a non-integer value 0.32725147071230287.\n",
      "  RuntimeWarning)\n",
      "/anaconda3/lib/python3.6/site-packages/scipy/stats/_continuous_distns.py:2455: RuntimeWarning: The shape parameter of the erlang distribution has been given a non-integer value 0.3272514694787688.\n",
      "  RuntimeWarning)\n",
      "/anaconda3/lib/python3.6/site-packages/scipy/stats/_continuous_distns.py:2455: RuntimeWarning: The shape parameter of the erlang distribution has been given a non-integer value 0.32725146196602206.\n",
      "  RuntimeWarning)\n",
      "/anaconda3/lib/python3.6/site-packages/scipy/stats/_continuous_distns.py:2455: RuntimeWarning: The shape parameter of the erlang distribution has been given a non-integer value 0.32725145570911784.\n",
      "  RuntimeWarning)\n",
      "/anaconda3/lib/python3.6/site-packages/scipy/stats/_continuous_distns.py:2455: RuntimeWarning: The shape parameter of the erlang distribution has been given a non-integer value 0.3272514619585859.\n",
      "  RuntimeWarning)\n",
      "/anaconda3/lib/python3.6/site-packages/scipy/stats/_continuous_distns.py:2455: RuntimeWarning: The shape parameter of the erlang distribution has been given a non-integer value 0.3272514675987231.\n",
      "  RuntimeWarning)\n",
      "/anaconda3/lib/python3.6/site-packages/scipy/stats/_continuous_distns.py:2455: RuntimeWarning: The shape parameter of the erlang distribution has been given a non-integer value 0.32725146383863163.\n",
      "  RuntimeWarning)\n",
      "/anaconda3/lib/python3.6/site-packages/scipy/stats/_continuous_distns.py:2455: RuntimeWarning: The shape parameter of the erlang distribution has been given a non-integer value 0.3272514666587002.\n",
      "  RuntimeWarning)\n",
      "/anaconda3/lib/python3.6/site-packages/scipy/stats/_continuous_distns.py:2455: RuntimeWarning: The shape parameter of the erlang distribution has been given a non-integer value 0.32725146724408627.\n",
      "  RuntimeWarning)\n",
      "/anaconda3/lib/python3.6/site-packages/scipy/stats/_continuous_distns.py:2455: RuntimeWarning: The shape parameter of the erlang distribution has been given a non-integer value 0.32725146569560243.\n",
      "  RuntimeWarning)\n",
      "/anaconda3/lib/python3.6/site-packages/scipy/stats/_continuous_distns.py:2455: RuntimeWarning: The shape parameter of the erlang distribution has been given a non-integer value 0.32725146512276204.\n",
      "  RuntimeWarning)\n",
      "/anaconda3/lib/python3.6/site-packages/scipy/stats/_continuous_distns.py:2455: RuntimeWarning: The shape parameter of the erlang distribution has been given a non-integer value 0.327251464354793.\n",
      "  RuntimeWarning)\n",
      "/anaconda3/lib/python3.6/site-packages/scipy/stats/_continuous_distns.py:2455: RuntimeWarning: The shape parameter of the erlang distribution has been given a non-integer value 0.3272514657039662.\n",
      "  RuntimeWarning)\n",
      "/anaconda3/lib/python3.6/site-packages/scipy/stats/_continuous_distns.py:2455: RuntimeWarning: The shape parameter of the erlang distribution has been given a non-integer value 0.32725146569769337.\n",
      "  RuntimeWarning)\n",
      "/anaconda3/lib/python3.6/site-packages/scipy/stats/_continuous_distns.py:2455: RuntimeWarning: The shape parameter of the erlang distribution has been given a non-integer value 0.32725145851374954.\n",
      "  RuntimeWarning)\n",
      "/anaconda3/lib/python3.6/site-packages/scipy/stats/_continuous_distns.py:2455: RuntimeWarning: The shape parameter of the erlang distribution has been given a non-integer value 0.327251467136364.\n",
      "  RuntimeWarning)\n",
      "/anaconda3/lib/python3.6/site-packages/scipy/stats/_continuous_distns.py:2455: RuntimeWarning: The shape parameter of the erlang distribution has been given a non-integer value 0.32725146378573866.\n",
      "  RuntimeWarning)\n",
      "/anaconda3/lib/python3.6/site-packages/scipy/stats/_continuous_distns.py:2455: RuntimeWarning: The shape parameter of the erlang distribution has been given a non-integer value 0.3272514652197047.\n",
      "  RuntimeWarning)\n",
      "/anaconda3/lib/python3.6/site-packages/scipy/stats/_continuous_distns.py:2455: RuntimeWarning: The shape parameter of the erlang distribution has been given a non-integer value 0.32725146106929526.\n",
      "  RuntimeWarning)\n",
      "/anaconda3/lib/python3.6/site-packages/scipy/stats/_continuous_distns.py:2455: RuntimeWarning: The shape parameter of the erlang distribution has been given a non-integer value 0.32725146561959684.\n",
      "  RuntimeWarning)\n",
      "/anaconda3/lib/python3.6/site-packages/scipy/stats/_continuous_distns.py:2455: RuntimeWarning: The shape parameter of the erlang distribution has been given a non-integer value 0.3272514632525493.\n",
      "  RuntimeWarning)\n",
      "/anaconda3/lib/python3.6/site-packages/scipy/stats/_continuous_distns.py:2455: RuntimeWarning: The shape parameter of the erlang distribution has been given a non-integer value 0.3272514647279159.\n",
      "  RuntimeWarning)\n",
      "/anaconda3/lib/python3.6/site-packages/scipy/stats/_continuous_distns.py:2455: RuntimeWarning: The shape parameter of the erlang distribution has been given a non-integer value 0.3272514622582031.\n",
      "  RuntimeWarning)\n",
      "/anaconda3/lib/python3.6/site-packages/scipy/stats/_continuous_distns.py:2455: RuntimeWarning: The shape parameter of the erlang distribution has been given a non-integer value 0.3272514647792484.\n",
      "  RuntimeWarning)\n",
      "/anaconda3/lib/python3.6/site-packages/scipy/stats/_continuous_distns.py:2455: RuntimeWarning: The shape parameter of the erlang distribution has been given a non-integer value 0.3272514631841058.\n",
      "  RuntimeWarning)\n",
      "/anaconda3/lib/python3.6/site-packages/scipy/stats/_continuous_distns.py:2455: RuntimeWarning: The shape parameter of the erlang distribution has been given a non-integer value 0.3272514643419634.\n",
      "  RuntimeWarning)\n",
      "/anaconda3/lib/python3.6/site-packages/scipy/stats/_continuous_distns.py:2455: RuntimeWarning: The shape parameter of the erlang distribution has been given a non-integer value 0.32725146284124995.\n",
      "  RuntimeWarning)\n",
      "/anaconda3/lib/python3.6/site-packages/scipy/stats/_continuous_distns.py:2455: RuntimeWarning: The shape parameter of the erlang distribution has been given a non-integer value 0.32725146187225074.\n",
      "  RuntimeWarning)\n",
      "/anaconda3/lib/python3.6/site-packages/scipy/stats/_continuous_distns.py:2455: RuntimeWarning: The shape parameter of the erlang distribution has been given a non-integer value 0.32725146227805935.\n",
      "  RuntimeWarning)\n",
      "/anaconda3/lib/python3.6/site-packages/scipy/stats/_continuous_distns.py:2455: RuntimeWarning: The shape parameter of the erlang distribution has been given a non-integer value 0.32725146382598735.\n",
      "  RuntimeWarning)\n",
      "/anaconda3/lib/python3.6/site-packages/scipy/stats/_continuous_distns.py:2455: RuntimeWarning: The shape parameter of the erlang distribution has been given a non-integer value 0.3272514627940354.\n",
      "  RuntimeWarning)\n",
      "/anaconda3/lib/python3.6/site-packages/scipy/stats/_continuous_distns.py:2455: RuntimeWarning: The shape parameter of the erlang distribution has been given a non-integer value 0.3272514635679994.\n",
      "  RuntimeWarning)\n",
      "/anaconda3/lib/python3.6/site-packages/scipy/stats/_continuous_distns.py:2455: RuntimeWarning: The shape parameter of the erlang distribution has been given a non-integer value 0.3272514657219855.\n",
      "  RuntimeWarning)\n",
      "/anaconda3/lib/python3.6/site-packages/scipy/stats/_continuous_distns.py:2455: RuntimeWarning: The shape parameter of the erlang distribution has been given a non-integer value 0.32725146290501295.\n",
      "  RuntimeWarning)\n",
      "/anaconda3/lib/python3.6/site-packages/scipy/stats/_continuous_distns.py:2455: RuntimeWarning: The shape parameter of the erlang distribution has been given a non-integer value 0.3272514636780173.\n",
      "  RuntimeWarning)\n",
      "/anaconda3/lib/python3.6/site-packages/scipy/stats/_continuous_distns.py:2455: RuntimeWarning: The shape parameter of the erlang distribution has been given a non-integer value 0.32725146373302616.\n",
      "  RuntimeWarning)\n",
      "/anaconda3/lib/python3.6/site-packages/scipy/stats/_continuous_distns.py:2455: RuntimeWarning: The shape parameter of the erlang distribution has been given a non-integer value 0.32725146485633994.\n",
      "  RuntimeWarning)\n",
      "/anaconda3/lib/python3.6/site-packages/scipy/stats/_continuous_distns.py:2455: RuntimeWarning: The shape parameter of the erlang distribution has been given a non-integer value 0.3272514633928447.\n",
      "  RuntimeWarning)\n",
      "/anaconda3/lib/python3.6/site-packages/scipy/stats/_continuous_distns.py:2455: RuntimeWarning: The shape parameter of the erlang distribution has been given a non-integer value 0.32725146436850816.\n",
      "  RuntimeWarning)\n",
      "/anaconda3/lib/python3.6/site-packages/scipy/stats/_continuous_distns.py:2455: RuntimeWarning: The shape parameter of the erlang distribution has been given a non-integer value 0.3272514636367606.\n",
      "  RuntimeWarning)\n",
      "/anaconda3/lib/python3.6/site-packages/scipy/stats/_continuous_distns.py:2455: RuntimeWarning: The shape parameter of the erlang distribution has been given a non-integer value 0.3272514616479232.\n",
      "  RuntimeWarning)\n",
      "/anaconda3/lib/python3.6/site-packages/scipy/stats/_continuous_distns.py:2455: RuntimeWarning: The shape parameter of the erlang distribution has been given a non-integer value 0.327251461808033.\n",
      "  RuntimeWarning)\n",
      "/anaconda3/lib/python3.6/site-packages/scipy/stats/_continuous_distns.py:2455: RuntimeWarning: The shape parameter of the erlang distribution has been given a non-integer value 0.3272514631795787.\n",
      "  RuntimeWarning)\n",
      "/anaconda3/lib/python3.6/site-packages/scipy/stats/_continuous_distns.py:2455: RuntimeWarning: The shape parameter of the erlang distribution has been given a non-integer value 0.3272514622652149.\n",
      "  RuntimeWarning)\n",
      "/anaconda3/lib/python3.6/site-packages/scipy/stats/_continuous_distns.py:2455: RuntimeWarning: The shape parameter of the erlang distribution has been given a non-integer value 0.3272514629509877.\n",
      "  RuntimeWarning)\n",
      "/anaconda3/lib/python3.6/site-packages/scipy/stats/_continuous_distns.py:2455: RuntimeWarning: The shape parameter of the erlang distribution has been given a non-integer value 0.32725146267670213.\n",
      "  RuntimeWarning)\n",
      "/anaconda3/lib/python3.6/site-packages/scipy/stats/_continuous_distns.py:2455: RuntimeWarning: The shape parameter of the erlang distribution has been given a non-integer value 0.32725146280011297.\n",
      "  RuntimeWarning)\n",
      "/anaconda3/lib/python3.6/site-packages/scipy/stats/_continuous_distns.py:2455: RuntimeWarning: The shape parameter of the erlang distribution has been given a non-integer value 0.32725146246638126.\n",
      "  RuntimeWarning)\n",
      "/anaconda3/lib/python3.6/site-packages/scipy/stats/_continuous_distns.py:2455: RuntimeWarning: The shape parameter of the erlang distribution has been given a non-integer value 0.3272514628298361.\n",
      "  RuntimeWarning)\n",
      "/anaconda3/lib/python3.6/site-packages/scipy/stats/_continuous_distns.py:2455: RuntimeWarning: The shape parameter of the erlang distribution has been given a non-integer value 0.3272514626370714.\n",
      "  RuntimeWarning)\n",
      "/anaconda3/lib/python3.6/site-packages/scipy/stats/_continuous_distns.py:2455: RuntimeWarning: The shape parameter of the erlang distribution has been given a non-integer value 0.3272514627593526.\n",
      "  RuntimeWarning)\n",
      "/anaconda3/lib/python3.6/site-packages/scipy/stats/_continuous_distns.py:2455: RuntimeWarning: The shape parameter of the erlang distribution has been given a non-integer value 0.3272514625603593.\n",
      "  RuntimeWarning)\n",
      "/anaconda3/lib/python3.6/site-packages/scipy/stats/_continuous_distns.py:2455: RuntimeWarning: The shape parameter of the erlang distribution has been given a non-integer value 0.32725146242562086.\n",
      "  RuntimeWarning)\n",
      "/anaconda3/lib/python3.6/site-packages/scipy/stats/_continuous_distns.py:2455: RuntimeWarning: The shape parameter of the erlang distribution has been given a non-integer value 0.3272514624981806.\n",
      "  RuntimeWarning)\n",
      "/anaconda3/lib/python3.6/site-packages/scipy/stats/_continuous_distns.py:2455: RuntimeWarning: The shape parameter of the erlang distribution has been given a non-integer value 0.3272514626940596.\n",
      "  RuntimeWarning)\n",
      "/anaconda3/lib/python3.6/site-packages/scipy/stats/_continuous_distns.py:2455: RuntimeWarning: The shape parameter of the erlang distribution has been given a non-integer value 0.3272514625634736.\n",
      "  RuntimeWarning)\n",
      "/anaconda3/lib/python3.6/site-packages/scipy/stats/_continuous_distns.py:2455: RuntimeWarning: The shape parameter of the erlang distribution has been given a non-integer value 0.3272514626614131.\n",
      "  RuntimeWarning)\n",
      "/anaconda3/lib/python3.6/site-packages/scipy/stats/_continuous_distns.py:2455: RuntimeWarning: The shape parameter of the erlang distribution has been given a non-integer value 0.3272514625961201.\n",
      "  RuntimeWarning)\n",
      "/anaconda3/lib/python3.6/site-packages/scipy/stats/_continuous_distns.py:2455: RuntimeWarning: The shape parameter of the erlang distribution has been given a non-integer value 0.32725146424174123.\n",
      "  RuntimeWarning)\n",
      "/anaconda3/lib/python3.6/site-packages/scipy/stats/_continuous_distns.py:2455: RuntimeWarning: The shape parameter of the erlang distribution has been given a non-integer value 0.32725146553865025.\n",
      "  RuntimeWarning)\n",
      "/anaconda3/lib/python3.6/site-packages/scipy/stats/_continuous_distns.py:2455: RuntimeWarning: The shape parameter of the erlang distribution has been given a non-integer value 0.32725146258746307.\n",
      "  RuntimeWarning)\n",
      "/anaconda3/lib/python3.6/site-packages/scipy/stats/_continuous_distns.py:2455: RuntimeWarning: The shape parameter of the erlang distribution has been given a non-integer value 0.3272514634053787.\n",
      "  RuntimeWarning)\n",
      "/anaconda3/lib/python3.6/site-packages/scipy/stats/_continuous_distns.py:2455: RuntimeWarning: The shape parameter of the erlang distribution has been given a non-integer value 0.32725146286010165.\n",
      "  RuntimeWarning)\n",
      "/anaconda3/lib/python3.6/site-packages/scipy/stats/_continuous_distns.py:2455: RuntimeWarning: The shape parameter of the erlang distribution has been given a non-integer value 0.3272514632690594.\n",
      "  RuntimeWarning)\n",
      "/anaconda3/lib/python3.6/site-packages/scipy/stats/_continuous_distns.py:2455: RuntimeWarning: The shape parameter of the erlang distribution has been given a non-integer value 0.32725146299642094.\n",
      "  RuntimeWarning)\n",
      "/anaconda3/lib/python3.6/site-packages/scipy/stats/_continuous_distns.py:2455: RuntimeWarning: The shape parameter of the erlang distribution has been given a non-integer value 0.32725146286010176.\n",
      "  RuntimeWarning)\n",
      "/anaconda3/lib/python3.6/site-packages/scipy/stats/_continuous_distns.py:2455: RuntimeWarning: The shape parameter of the erlang distribution has been given a non-integer value 0.32725146393622756.\n",
      "  RuntimeWarning)\n",
      "/anaconda3/lib/python3.6/site-packages/scipy/stats/_continuous_distns.py:2455: RuntimeWarning: The shape parameter of the erlang distribution has been given a non-integer value 0.32725146293114693.\n",
      "  RuntimeWarning)\n",
      "/anaconda3/lib/python3.6/site-packages/scipy/stats/_continuous_distns.py:2455: RuntimeWarning: The shape parameter of the erlang distribution has been given a non-integer value 0.32725146421918005.\n",
      "  RuntimeWarning)\n",
      "/anaconda3/lib/python3.6/site-packages/scipy/stats/_continuous_distns.py:2455: RuntimeWarning: The shape parameter of the erlang distribution has been given a non-integer value 0.32725146297506447.\n",
      "  RuntimeWarning)\n",
      "/anaconda3/lib/python3.6/site-packages/scipy/stats/_continuous_distns.py:2455: RuntimeWarning: The shape parameter of the erlang distribution has been given a non-integer value 0.3272514638776708.\n",
      "  RuntimeWarning)\n",
      "/anaconda3/lib/python3.6/site-packages/scipy/stats/_continuous_distns.py:2455: RuntimeWarning: The shape parameter of the erlang distribution has been given a non-integer value 0.32725146316777787.\n",
      "  RuntimeWarning)\n",
      "/anaconda3/lib/python3.6/site-packages/scipy/stats/_continuous_distns.py:2455: RuntimeWarning: The shape parameter of the erlang distribution has been given a non-integer value 0.32725146396222893.\n",
      "  RuntimeWarning)\n",
      "/anaconda3/lib/python3.6/site-packages/scipy/stats/_continuous_distns.py:2455: RuntimeWarning: The shape parameter of the erlang distribution has been given a non-integer value 0.3272514632218556.\n",
      "  RuntimeWarning)\n",
      "/anaconda3/lib/python3.6/site-packages/scipy/stats/_continuous_distns.py:2455: RuntimeWarning: The shape parameter of the erlang distribution has been given a non-integer value 0.32725146380556736.\n",
      "  RuntimeWarning)\n",
      "/anaconda3/lib/python3.6/site-packages/scipy/stats/_continuous_distns.py:2455: RuntimeWarning: The shape parameter of the erlang distribution has been given a non-integer value 0.3272514633272252.\n",
      "  RuntimeWarning)\n",
      "/anaconda3/lib/python3.6/site-packages/scipy/stats/_continuous_distns.py:2455: RuntimeWarning: The shape parameter of the erlang distribution has been given a non-integer value 0.327251463821736.\n",
      "  RuntimeWarning)\n",
      "/anaconda3/lib/python3.6/site-packages/scipy/stats/_continuous_distns.py:2455: RuntimeWarning: The shape parameter of the erlang distribution has been given a non-integer value 0.32725146412167616.\n",
      "  RuntimeWarning)\n",
      "/anaconda3/lib/python3.6/site-packages/scipy/stats/_continuous_distns.py:2455: RuntimeWarning: The shape parameter of the erlang distribution has been given a non-integer value 0.3272514640460402.\n",
      "  RuntimeWarning)\n",
      "/anaconda3/lib/python3.6/site-packages/scipy/stats/_continuous_distns.py:2455: RuntimeWarning: The shape parameter of the erlang distribution has been given a non-integer value 0.32725146350692896.\n",
      "  RuntimeWarning)\n",
      "/anaconda3/lib/python3.6/site-packages/scipy/stats/_continuous_distns.py:2455: RuntimeWarning: The shape parameter of the erlang distribution has been given a non-integer value 0.32725146386633647.\n",
      "  RuntimeWarning)\n",
      "/anaconda3/lib/python3.6/site-packages/scipy/stats/_continuous_distns.py:2455: RuntimeWarning: The shape parameter of the erlang distribution has been given a non-integer value 0.3272514635967808.\n",
      "  RuntimeWarning)\n",
      "/anaconda3/lib/python3.6/site-packages/scipy/stats/_continuous_distns.py:2455: RuntimeWarning: The shape parameter of the erlang distribution has been given a non-integer value 0.3272514637764846.\n",
      "  RuntimeWarning)\n",
      "/anaconda3/lib/python3.6/site-packages/scipy/stats/_continuous_distns.py:2455: RuntimeWarning: The shape parameter of the erlang distribution has been given a non-integer value 0.3272514628213531.\n",
      "  RuntimeWarning)\n",
      "/anaconda3/lib/python3.6/site-packages/scipy/stats/_continuous_distns.py:2455: RuntimeWarning: The shape parameter of the erlang distribution has been given a non-integer value 0.32725146388664417.\n",
      "  RuntimeWarning)\n",
      "/anaconda3/lib/python3.6/site-packages/scipy/stats/_continuous_distns.py:2455: RuntimeWarning: The shape parameter of the erlang distribution has been given a non-integer value 0.32725146466015553.\n",
      "  RuntimeWarning)\n",
      "/anaconda3/lib/python3.6/site-packages/scipy/stats/_continuous_distns.py:2455: RuntimeWarning: The shape parameter of the erlang distribution has been given a non-integer value 0.3272514654920229.\n",
      "  RuntimeWarning)\n",
      "/anaconda3/lib/python3.6/site-packages/scipy/stats/_continuous_distns.py:2455: RuntimeWarning: The shape parameter of the erlang distribution has been given a non-integer value 0.3272514642856066.\n",
      "  RuntimeWarning)\n",
      "/anaconda3/lib/python3.6/site-packages/scipy/stats/_continuous_distns.py:2455: RuntimeWarning: The shape parameter of the erlang distribution has been given a non-integer value 0.32725146398638477.\n",
      "  RuntimeWarning)\n",
      "/anaconda3/lib/python3.6/site-packages/scipy/stats/_continuous_distns.py:2455: RuntimeWarning: The shape parameter of the erlang distribution has been given a non-integer value 0.327251464185866.\n",
      "  RuntimeWarning)\n",
      "/anaconda3/lib/python3.6/site-packages/scipy/stats/_continuous_distns.py:2455: RuntimeWarning: The shape parameter of the erlang distribution has been given a non-integer value 0.32725146403625505.\n",
      "  RuntimeWarning)\n",
      "/anaconda3/lib/python3.6/site-packages/scipy/stats/_continuous_distns.py:2455: RuntimeWarning: The shape parameter of the erlang distribution has been given a non-integer value 0.3272514641359957.\n",
      "  RuntimeWarning)\n",
      "/anaconda3/lib/python3.6/site-packages/scipy/stats/_continuous_distns.py:2455: RuntimeWarning: The shape parameter of the erlang distribution has been given a non-integer value 0.32725146418586604.\n",
      "  RuntimeWarning)\n",
      "/anaconda3/lib/python3.6/site-packages/scipy/stats/_continuous_distns.py:2455: RuntimeWarning: The shape parameter of the erlang distribution has been given a non-integer value 0.3272514646354402.\n",
      "  RuntimeWarning)\n",
      "/anaconda3/lib/python3.6/site-packages/scipy/stats/_continuous_distns.py:2455: RuntimeWarning: The shape parameter of the erlang distribution has been given a non-integer value 0.3272514639912235.\n",
      "  RuntimeWarning)\n",
      "/anaconda3/lib/python3.6/site-packages/scipy/stats/_continuous_distns.py:2455: RuntimeWarning: The shape parameter of the erlang distribution has been given a non-integer value array(0.32725146).\n",
      "  RuntimeWarning)\n"
     ]
    },
    {
     "name": "stdout",
     "output_type": "stream",
     "text": [
      "Fitted erlang distribution with error=0.004984020330527051)\n",
      "Fitted expon distribution with error=0.003070673689073611)\n",
      "Fitted exponnorm distribution with error=0.002111664487354939)\n",
      "Fitted exponpow distribution with error=0.004361824833101609)\n",
      "Fitted exponweib distribution with error=0.00330200050413843)\n",
      "Fitted f distribution with error=0.00707433792081811)\n",
      "Fitted fatiguelife distribution with error=0.0023554522502645834)\n",
      "Fitted fisk distribution with error=0.006681438800734365)\n",
      "Fitted foldcauchy distribution with error=0.013093487907745921)\n",
      "Fitted foldnorm distribution with error=0.004037483691765143)\n",
      "Fitted frechet_l distribution with error=0.0070479117081339165)\n",
      "Fitted frechet_r distribution with error=0.0033644343056887095)\n",
      "Fitted gamma distribution with error=0.006491331492130909)\n",
      "Fitted gausshyper distribution with error=0.004333180761273166)\n",
      "Fitted genexpon distribution with error=0.0030706763700185367)\n",
      "Fitted genextreme distribution with error=0.0015284548367142153)\n",
      "Fitted gengamma distribution with error=0.00241925051604314)\n",
      "Fitted genhalflogistic distribution with error=0.005343861785531716)\n",
      "Fitted genlogistic distribution with error=0.0035395623635243473)\n",
      "Fitted gennorm distribution with error=0.008951420880479432)\n"
     ]
    },
    {
     "name": "stderr",
     "output_type": "stream",
     "text": [
      "/anaconda3/lib/python3.6/site-packages/scipy/stats/_continuous_distns.py:2062: RuntimeWarning: divide by zero encountered in true_divide\n",
      "  val = val + cnk * (-1) ** ki / (1.0 - c * ki)\n"
     ]
    },
    {
     "name": "stdout",
     "output_type": "stream",
     "text": [
      "Fitted genpareto distribution with error=0.007129057559327344)\n",
      "Fitted gilbrat distribution with error=0.002190535113511777)\n",
      "Fitted gompertz distribution with error=0.0030685326295920045)\n",
      "Fitted gumbel_l distribution with error=0.005769610840894891)\n",
      "Fitted gumbel_r distribution with error=0.0035375148935260364)\n",
      "Fitted halfcauchy distribution with error=0.0029018261968232987)\n",
      "Fitted halfgennorm distribution with error=0.0032761306538740885)\n",
      "Fitted halflogistic distribution with error=0.0032522744815968673)\n",
      "Fitted halfnorm distribution with error=0.004037481755525357)\n",
      "Fitted hypsecant distribution with error=0.0037943163781141882)\n",
      "Fitted invgamma distribution with error=0.001640532474025618)\n",
      "Fitted invgauss distribution with error=0.002089032023825417)\n",
      "Fitted invweibull distribution with error=0.0015284634013291892)\n",
      "Fitted johnsonsb distribution with error=0.002134807215030849)\n",
      "Fitted johnsonsu distribution with error=0.019734419594550072)\n",
      "Fitted kappa3 distribution with error=0.002790992183778821)\n",
      "Fitted kappa4 distribution with error=0.0060577575500213405)\n"
     ]
    },
    {
     "name": "stderr",
     "output_type": "stream",
     "text": [
      "/anaconda3/lib/python3.6/site-packages/scipy/integrate/quadpack.py:364: IntegrationWarning: The maximum number of subdivisions (50) has been achieved.\n",
      "  If increasing the limit yields no improvement it is advised to analyze \n",
      "  the integrand in order to determine the difficulties.  If the position of a \n",
      "  local difficulty can be determined (singularity, discontinuity) one will \n",
      "  probably gain from splitting up the interval and calling the integrator \n",
      "  on the subranges.  Perhaps a special-purpose integrator should be used.\n",
      "  warnings.warn(msg, IntegrationWarning)\n",
      "/anaconda3/lib/python3.6/site-packages/scipy/stats/_continuous_distns.py:43: RuntimeWarning: floating point number truncated to an integer\n",
      "  return 1.0 - sc.smirnov(n, x)\n"
     ]
    },
    {
     "name": "stdout",
     "output_type": "stream",
     "text": [
      "Fitted ksone distribution with error=nan)\n"
     ]
    },
    {
     "name": "stderr",
     "output_type": "stream",
     "text": [
      "/anaconda3/lib/python3.6/site-packages/scipy/stats/_distn_infrastructure.py:1615: RuntimeWarning: invalid value encountered in log\n",
      "  return log(self._pdf(x, *args))\n"
     ]
    },
    {
     "name": "stdout",
     "output_type": "stream",
     "text": [
      "Fitted kstwobign distribution with error=0.004301193745794673)\n",
      "Fitted laplace distribution with error=0.003356480713891104)\n",
      "Fitted levy distribution with error=0.0033588982814538085)\n",
      "Fitted levy_l distribution with error=0.006493511009230323)\n",
      "SKIPPED levy_stable distribution (taking more than 30 seconds)\n",
      "Fitted loggamma distribution with error=0.004917765321235133)\n",
      "Fitted logistic distribution with error=0.004046655341172656)\n",
      "Fitted loglaplace distribution with error=0.007737486808157253)\n"
     ]
    },
    {
     "name": "stderr",
     "output_type": "stream",
     "text": [
      "/anaconda3/lib/python3.6/site-packages/scipy/stats/_continuous_distns.py:3563: RuntimeWarning: divide by zero encountered in true_divide\n",
      "  return c**2 / (c**2 - n**2)\n"
     ]
    },
    {
     "name": "stdout",
     "output_type": "stream",
     "text": [
      "Fitted lognorm distribution with error=0.0021256644382652706)\n",
      "Fitted lomax distribution with error=0.0031581292077367063)\n",
      "Fitted maxwell distribution with error=0.004552201676550101)\n"
     ]
    },
    {
     "name": "stderr",
     "output_type": "stream",
     "text": [
      "/anaconda3/lib/python3.6/site-packages/scipy/integrate/quadpack.py:364: IntegrationWarning: Extremely bad integrand behavior occurs at some points of the\n",
      "  integration interval.\n",
      "  warnings.warn(msg, IntegrationWarning)\n",
      "/anaconda3/lib/python3.6/site-packages/scipy/integrate/quadpack.py:364: IntegrationWarning: The integral is probably divergent, or slowly convergent.\n",
      "  warnings.warn(msg, IntegrationWarning)\n"
     ]
    },
    {
     "name": "stdout",
     "output_type": "stream",
     "text": [
      "Fitted mielke distribution with error=0.0014876150379165998)\n",
      "Fitted nakagami distribution with error=0.0039162917951837)\n",
      "Fitted ncf distribution with error=0.002510468232344503)\n",
      "Fitted nct distribution with error=0.012726251683166491)\n",
      "Fitted ncx2 distribution with error=0.0032931202405958528)\n",
      "Fitted norm distribution with error=0.004853830146180056)\n",
      "Fitted pareto distribution with error=0.006859764108860733)\n",
      "Fitted pearson3 distribution with error=0.0030936233901471613)\n",
      "Fitted powerlaw distribution with error=0.004796723181293176)\n",
      "Fitted powerlognorm distribution with error=0.00188788514139311)\n"
     ]
    },
    {
     "name": "stderr",
     "output_type": "stream",
     "text": [
      "/anaconda3/lib/python3.6/site-packages/scipy/stats/_continuous_distns.py:4796: RuntimeWarning: divide by zero encountered in power\n",
      "  return c*_norm_pdf(x) * (_norm_cdf(-x)**(c-1.0))\n",
      "/anaconda3/lib/python3.6/site-packages/scipy/stats/_continuous_distns.py:4796: RuntimeWarning: invalid value encountered in multiply\n",
      "  return c*_norm_pdf(x) * (_norm_cdf(-x)**(c-1.0))\n"
     ]
    },
    {
     "name": "stdout",
     "output_type": "stream",
     "text": [
      "Fitted powernorm distribution with error=nan)\n",
      "Fitted rayleigh distribution with error=0.004487069704707061)\n",
      "Fitted rdist distribution with error=0.004855022575318989)\n",
      "Fitted recipinvgauss distribution with error=0.002598473131451191)\n",
      "Fitted reciprocal distribution with error=0.0066289358749378495)\n",
      "Fitted rice distribution with error=0.00448706973210041)\n",
      "SKIPPED rv_continuous distribution (taking more than 30 seconds)\n",
      "SKIPPED rv_histogram distribution (taking more than 30 seconds)\n",
      "Fitted semicircular distribution with error=0.0059142947571569566)\n",
      "Fitted skewnorm distribution with error=0.003979881938801417)\n",
      "Fitted t distribution with error=0.02801638736147625)\n"
     ]
    },
    {
     "name": "stderr",
     "output_type": "stream",
     "text": [
      "/anaconda3/lib/python3.6/site-packages/scipy/stats/_continuous_distns.py:5194: RuntimeWarning: divide by zero encountered in true_divide\n",
      "  choicelist = [u * x / c, u, u * (1 - x) / (1 - d)]\n",
      "/anaconda3/lib/python3.6/site-packages/scipy/stats/_continuous_distns.py:5243: RuntimeWarning: divide by zero encountered in true_divide\n",
      "  return np.where(x < c, 2*x/c, 2*(1-x)/(1-c))\n"
     ]
    },
    {
     "name": "stdout",
     "output_type": "stream",
     "text": [
      "Fitted trapz distribution with error=0.006781115501767369)\n",
      "Fitted triang distribution with error=0.005712679815398347)\n",
      "Fitted truncexpon distribution with error=0.005902461030403738)\n"
     ]
    },
    {
     "name": "stderr",
     "output_type": "stream",
     "text": [
      "/anaconda3/lib/python3.6/site-packages/scipy/stats/_continuous_distns.py:5350: RuntimeWarning: divide by zero encountered in log\n",
      "  self._logdelta = np.log(self._delta)\n",
      "/anaconda3/lib/python3.6/site-packages/scipy/stats/_continuous_distns.py:5350: RuntimeWarning: invalid value encountered in log\n",
      "  self._logdelta = np.log(self._delta)\n",
      "/anaconda3/lib/python3.6/site-packages/scipy/stats/_continuous_distns.py:5408: RuntimeWarning: divide by zero encountered in power\n",
      "  Px = Fx**(lam-1.0) + (np.asarray(1-Fx))**(lam-1.0)\n"
     ]
    },
    {
     "name": "stdout",
     "output_type": "stream",
     "text": [
      "Fitted truncnorm distribution with error=0.0066289358749378495)\n",
      "Fitted tukeylambda distribution with error=0.005040769312018572)\n",
      "Fitted uniform distribution with error=0.006247956221898305)\n",
      "Fitted vonmises distribution with error=6.989338110622303e+61)\n",
      "Fitted vonmises_line distribution with error=0.004373581786907185)\n",
      "Fitted wald distribution with error=0.002048419598565734)\n",
      "Fitted weibull_max distribution with error=0.0070479117081339165)\n",
      "Fitted weibull_min distribution with error=0.0033644343056887095)\n",
      "Fitted wrapcauchy distribution with error=nan)\n"
     ]
    },
    {
     "name": "stderr",
     "output_type": "stream",
     "text": [
      "/anaconda3/lib/python3.6/site-packages/scipy/optimize/optimize.py:543: RuntimeWarning: invalid value encountered in subtract\n",
      "  numpy.max(numpy.abs(fsim[0] - fsim[1:])) <= fatol):\n"
     ]
    }
   ],
   "source": [
    "f.fit()"
   ]
  },
  {
   "cell_type": "code",
   "execution_count": 8,
   "metadata": {},
   "outputs": [
    {
     "data": {
      "text/html": [
       "<div>\n",
       "<style scoped>\n",
       "    .dataframe tbody tr th:only-of-type {\n",
       "        vertical-align: middle;\n",
       "    }\n",
       "\n",
       "    .dataframe tbody tr th {\n",
       "        vertical-align: top;\n",
       "    }\n",
       "\n",
       "    .dataframe thead th {\n",
       "        text-align: right;\n",
       "    }\n",
       "</style>\n",
       "<table border=\"1\" class=\"dataframe\">\n",
       "  <thead>\n",
       "    <tr style=\"text-align: right;\">\n",
       "      <th></th>\n",
       "      <th>sumsquare_error</th>\n",
       "    </tr>\n",
       "  </thead>\n",
       "  <tbody>\n",
       "    <tr>\n",
       "      <th>burr12</th>\n",
       "      <td>0.000691</td>\n",
       "    </tr>\n",
       "    <tr>\n",
       "      <th>mielke</th>\n",
       "      <td>0.001488</td>\n",
       "    </tr>\n",
       "    <tr>\n",
       "      <th>burr</th>\n",
       "      <td>0.001492</td>\n",
       "    </tr>\n",
       "    <tr>\n",
       "      <th>genextreme</th>\n",
       "      <td>0.001528</td>\n",
       "    </tr>\n",
       "    <tr>\n",
       "      <th>invweibull</th>\n",
       "      <td>0.001528</td>\n",
       "    </tr>\n",
       "  </tbody>\n",
       "</table>\n",
       "</div>"
      ],
      "text/plain": [
       "            sumsquare_error\n",
       "burr12             0.000691\n",
       "mielke             0.001488\n",
       "burr               0.001492\n",
       "genextreme         0.001528\n",
       "invweibull         0.001528"
      ]
     },
     "execution_count": 8,
     "metadata": {},
     "output_type": "execute_result"
    },
    {
     "data": {
      "image/png": "[encoded data removed]",
      "text/plain": [
       "<matplotlib.figure.Figure at 0x1a0c8aa780>"
      ]
     },
     "metadata": {},
     "output_type": "display_data"
    }
   ],
   "source": [
    "f.summary()"
   ]
  },
  {
   "cell_type": "code",
   "execution_count": 11,
   "metadata": {},
   "outputs": [],
   "source": [
    "g = fitter.Fitter(titanic.age.notnull())"
   ]
  },
  {
   "cell_type": "code",
   "execution_count": 12,
   "metadata": {},
   "outputs": [
    {
     "name": "stderr",
     "output_type": "stream",
     "text": [
      "/anaconda3/lib/python3.6/site-packages/scipy/stats/_distn_infrastructure.py:2306: RuntimeWarning: invalid value encountered in double_scalars\n",
      "  Lhat = muhat - Shat*mu\n"
     ]
    },
    {
     "name": "stdout",
     "output_type": "stream",
     "text": [
      "SKIPPED alpha distribution (taking more than 30 seconds)\n",
      "Fitted anglit distribution with error=6741.702381125502)\n",
      "SKIPPED arcsine distribution (taking more than 30 seconds)\n",
      "Fitted argus distribution with error=6357.396989200757)\n",
      "Fitted beta distribution with error=6816.197893638541)\n",
      "SKIPPED betaprime distribution (taking more than 30 seconds)\n",
      "SKIPPED bradford distribution (taking more than 30 seconds)\n",
      "SKIPPED burr distribution (taking more than 30 seconds)\n",
      "SKIPPED burr12 distribution (taking more than 30 seconds)\n",
      "Fitted cauchy distribution with error=6816.197893638962)\n",
      "SKIPPED chi distribution (taking more than 30 seconds)\n",
      "SKIPPED chi2 distribution (taking more than 30 seconds)\n",
      "Fitted cosine distribution with error=6736.603123299235)\n"
     ]
    },
    {
     "name": "stderr",
     "output_type": "stream",
     "text": [
      "/anaconda3/lib/python3.6/site-packages/scipy/stats/_continuous_distns.py:427: RuntimeWarning: invalid value encountered in sqrt\n",
      "  sk = 2*(b-a)*np.sqrt(a + b + 1) / (a + b + 2) / np.sqrt(a*b)\n",
      "/anaconda3/lib/python3.6/site-packages/scipy/optimize/minpack.py:161: RuntimeWarning: The number of calls to function has reached maxfev = 600.\n",
      "  warnings.warn(msg, RuntimeWarning)\n",
      "/anaconda3/lib/python3.6/site-packages/scipy/stats/_continuous_distns.py:580: RuntimeWarning: divide by zero encountered in true_divide\n",
      "  a/(b-1.0),\n",
      "/anaconda3/lib/python3.6/site-packages/scipy/stats/_continuous_distns.py:584: RuntimeWarning: divide by zero encountered in true_divide\n",
      "  a*(a+1.0)/((b-2.0)*(b-1.0)),\n",
      "/anaconda3/lib/python3.6/site-packages/scipy/stats/_distn_infrastructure.py:1037: RuntimeWarning: invalid value encountered in subtract\n",
      "  mu2 = mu2p - mu * mu\n"
     ]
    },
    {
     "name": "stdout",
     "output_type": "stream",
     "text": [
      "Fitted crystalball distribution with error=6721.8605091810205)\n",
      "Fitted dgamma distribution with error=5576.385897134205)\n",
      "Fitted dweibull distribution with error=5943.273168063445)\n",
      "SKIPPED erlang distribution (taking more than 30 seconds)\n",
      "SKIPPED expon distribution (taking more than 30 seconds)\n",
      "Fitted exponnorm distribution with error=inf)\n"
     ]
    },
    {
     "name": "stderr",
     "output_type": "stream",
     "text": [
      "/anaconda3/lib/python3.6/site-packages/scipy/stats/_continuous_distns.py:1249: RuntimeWarning: divide by zero encountered in log\n",
      "  return exparg + np.log(0.5 * invK * sc.erfc(-(x - invK) / np.sqrt(2)))\n",
      "/anaconda3/lib/python3.6/site-packages/scipy/stats/_continuous_distns.py:1244: RuntimeWarning: overflow encountered in multiply\n",
      "  return 0.5 * invK * expval * sc.erfc(-(x - invK) / np.sqrt(2))\n"
     ]
    },
    {
     "name": "stdout",
     "output_type": "stream",
     "text": [
      "SKIPPED exponpow distribution (taking more than 30 seconds)\n",
      "SKIPPED exponweib distribution (taking more than 30 seconds)\n",
      "SKIPPED f distribution (taking more than 30 seconds)\n",
      "SKIPPED fatiguelife distribution (taking more than 30 seconds)\n",
      "SKIPPED fisk distribution (taking more than 30 seconds)\n",
      "SKIPPED foldcauchy distribution (taking more than 30 seconds)\n",
      "SKIPPED foldnorm distribution (taking more than 30 seconds)\n",
      "Fitted frechet_l distribution with error=5695.701879572831)\n",
      "SKIPPED frechet_r distribution (taking more than 30 seconds)\n",
      "SKIPPED gamma distribution (taking more than 30 seconds)\n",
      "SKIPPED gausshyper distribution (taking more than 30 seconds)\n",
      "SKIPPED genexpon distribution (taking more than 30 seconds)\n",
      "Fitted genextreme distribution with error=4930.4263804460525)\n",
      "SKIPPED gengamma distribution (taking more than 30 seconds)\n"
     ]
    },
    {
     "name": "stderr",
     "output_type": "stream",
     "text": [
      "/anaconda3/lib/python3.6/site-packages/scipy/stats/_continuous_distns.py:2175: RuntimeWarning: invalid value encountered in subtract\n",
      "  -pex2+logpex2-logex2)\n",
      "/anaconda3/lib/python3.6/site-packages/scipy/stats/_continuous_distns.py:2580: RuntimeWarning: divide by zero encountered in power\n",
      "  tmp0 = tmp**(limit-1)\n",
      "/anaconda3/lib/python3.6/site-packages/scipy/stats/_continuous_distns.py:2581: RuntimeWarning: invalid value encountered in multiply\n",
      "  tmp2 = tmp0*tmp\n",
      "/anaconda3/lib/python3.6/site-packages/scipy/stats/_continuous_distns.py:1967: RuntimeWarning: overflow encountered in exp\n",
      "  return np.log(c) - x - (c+1.0)*sc.log1p(np.exp(-x))\n"
     ]
    },
    {
     "name": "stdout",
     "output_type": "stream",
     "text": [
      "Fitted genhalflogistic distribution with error=6443.948593890026)\n",
      "Fitted genlogistic distribution with error=6305.901458121647)\n",
      "Fitted gennorm distribution with error=5170.720503255193)\n",
      "SKIPPED genpareto distribution (taking more than 30 seconds)\n",
      "SKIPPED gilbrat distribution (taking more than 30 seconds)\n"
     ]
    },
    {
     "name": "stderr",
     "output_type": "stream",
     "text": [
      "/anaconda3/lib/python3.6/site-packages/scipy/stats/_continuous_distns.py:2062: RuntimeWarning: divide by zero encountered in true_divide\n",
      "  val = val + cnk * (-1) ** ki / (1.0 - c * ki)\n"
     ]
    },
    {
     "name": "stdout",
     "output_type": "stream",
     "text": [
      "SKIPPED gompertz distribution (taking more than 30 seconds)\n",
      "Fitted gumbel_l distribution with error=6611.587489983287)\n",
      "Fitted gumbel_r distribution with error=6755.61951591514)\n",
      "SKIPPED halfcauchy distribution (taking more than 30 seconds)\n",
      "SKIPPED halfgennorm distribution (taking more than 30 seconds)\n",
      "SKIPPED halflogistic distribution (taking more than 30 seconds)\n",
      "SKIPPED halfnorm distribution (taking more than 30 seconds)\n",
      "Fitted hypsecant distribution with error=6628.478804496484)\n",
      "SKIPPED invgamma distribution (taking more than 30 seconds)\n",
      "SKIPPED invgauss distribution (taking more than 30 seconds)\n",
      "SKIPPED invweibull distribution (taking more than 30 seconds)\n",
      "SKIPPED johnsonsb distribution (taking more than 30 seconds)\n"
     ]
    },
    {
     "name": "stderr",
     "output_type": "stream",
     "text": [
      "/anaconda3/lib/python3.6/site-packages/scipy/stats/_continuous_distns.py:3212: RuntimeWarning: divide by zero encountered in log\n",
      "  trm = _norm_pdf(a + b * np.log(x + np.sqrt(x2+1)))\n",
      "/anaconda3/lib/python3.6/site-packages/scipy/stats/_distn_infrastructure.py:1615: RuntimeWarning: divide by zero encountered in log\n",
      "  return log(self._pdf(x, *args))\n"
     ]
    },
    {
     "name": "stdout",
     "output_type": "stream",
     "text": [
      "Fitted johnsonsu distribution with error=6378.613674877306)\n",
      "SKIPPED kappa3 distribution (taking more than 30 seconds)\n",
      "SKIPPED kappa4 distribution (taking more than 30 seconds)\n"
     ]
    },
    {
     "name": "stderr",
     "output_type": "stream",
     "text": [
      "/anaconda3/lib/python3.6/site-packages/scipy/integrate/quadpack.py:364: IntegrationWarning: The maximum number of subdivisions (50) has been achieved.\n",
      "  If increasing the limit yields no improvement it is advised to analyze \n",
      "  the integrand in order to determine the difficulties.  If the position of a \n",
      "  local difficulty can be determined (singularity, discontinuity) one will \n",
      "  probably gain from splitting up the interval and calling the integrator \n",
      "  on the subranges.  Perhaps a special-purpose integrator should be used.\n",
      "  warnings.warn(msg, IntegrationWarning)\n"
     ]
    },
    {
     "name": "stdout",
     "output_type": "stream",
     "text": [
      "SKIPPED ksone distribution (taking more than 30 seconds)\n",
      "Fitted kstwobign distribution with error=6760.623734437724)\n",
      "Fitted laplace distribution with error=6485.071799406193)\n",
      "SKIPPED levy distribution (taking more than 30 seconds)\n",
      "SKIPPED levy_l distribution (taking more than 30 seconds)\n",
      "SKIPPED levy_stable distribution (taking more than 30 seconds)\n",
      "Fitted loggamma distribution with error=6279.808512261677)\n",
      "Fitted logistic distribution with error=6677.5886408563065)\n",
      "SKIPPED loglaplace distribution (taking more than 30 seconds)\n",
      "SKIPPED lognorm distribution (taking more than 30 seconds)\n",
      "SKIPPED lomax distribution (taking more than 30 seconds)\n",
      "Fitted maxwell distribution with error=6747.2171576582505)\n"
     ]
    },
    {
     "name": "stderr",
     "output_type": "stream",
     "text": [
      "/anaconda3/lib/python3.6/site-packages/scipy/stats/_continuous_distns.py:3563: RuntimeWarning: divide by zero encountered in true_divide\n",
      "  return c**2 / (c**2 - n**2)\n",
      "/anaconda3/lib/python3.6/site-packages/scipy/integrate/quadpack.py:364: IntegrationWarning: Extremely bad integrand behavior occurs at some points of the\n",
      "  integration interval.\n",
      "  warnings.warn(msg, IntegrationWarning)\n",
      "/anaconda3/lib/python3.6/site-packages/scipy/integrate/quadpack.py:364: IntegrationWarning: The integral is probably divergent, or slowly convergent.\n",
      "  warnings.warn(msg, IntegrationWarning)\n"
     ]
    },
    {
     "name": "stdout",
     "output_type": "stream",
     "text": [
      "SKIPPED mielke distribution (taking more than 30 seconds)\n",
      "SKIPPED nakagami distribution (taking more than 30 seconds)\n",
      "SKIPPED ncf distribution (taking more than 30 seconds)\n"
     ]
    },
    {
     "name": "stderr",
     "output_type": "stream",
     "text": [
      "/anaconda3/lib/python3.6/site-packages/scipy/stats/_continuous_distns.py:4367: RuntimeWarning: overflow encountered in exp\n",
      "  Px = np.exp(trm1)\n",
      "/anaconda3/lib/python3.6/site-packages/scipy/stats/_continuous_distns.py:4373: RuntimeWarning: invalid value encountered in multiply\n",
      "  Px *= trm1+trm2\n",
      "/anaconda3/lib/python3.6/site-packages/scipy/stats/_continuous_distns.py:4370: RuntimeWarning: overflow encountered in multiply\n",
      "  trm1 /= np.asarray(fac1*sc.gamma((n+1)/2))\n",
      "/anaconda3/lib/python3.6/site-packages/scipy/stats/_continuous_distns.py:4372: RuntimeWarning: overflow encountered in multiply\n",
      "  trm2 /= np.asarray(np.sqrt(fac1)*sc.gamma(n/2+1))\n"
     ]
    },
    {
     "name": "stdout",
     "output_type": "stream",
     "text": [
      "Fitted nct distribution with error=6725.732149008823)\n",
      "SKIPPED ncx2 distribution (taking more than 30 seconds)\n",
      "Fitted norm distribution with error=6721.860428326561)\n",
      "SKIPPED pareto distribution (taking more than 30 seconds)\n",
      "Fitted pearson3 distribution with error=5149.583973579126)\n",
      "SKIPPED powerlaw distribution (taking more than 30 seconds)\n",
      "SKIPPED powerlognorm distribution (taking more than 30 seconds)\n",
      "Fitted powernorm distribution with error=6639.201652702321)\n",
      "SKIPPED rayleigh distribution (taking more than 30 seconds)\n",
      "SKIPPED rdist distribution (taking more than 30 seconds)\n",
      "SKIPPED recipinvgauss distribution (taking more than 30 seconds)\n",
      "Fitted reciprocal distribution with error=6816.197893638962)\n",
      "SKIPPED rice distribution (taking more than 30 seconds)\n",
      "SKIPPED rv_continuous distribution (taking more than 30 seconds)\n",
      "SKIPPED rv_histogram distribution (taking more than 30 seconds)\n",
      "SKIPPED semicircular distribution (taking more than 30 seconds)\n",
      "Fitted skewnorm distribution with error=6649.570495123082)\n",
      "Fitted t distribution with error=6816.197893638962)\n",
      "Fitted trapz distribution with error=6695.523564017314)\n",
      "Fitted triang distribution with error=6667.309265638935)\n",
      "SKIPPED truncexpon distribution (taking more than 30 seconds)\n"
     ]
    },
    {
     "name": "stderr",
     "output_type": "stream",
     "text": [
      "/anaconda3/lib/python3.6/site-packages/scipy/stats/_continuous_distns.py:5194: RuntimeWarning: divide by zero encountered in true_divide\n",
      "  choicelist = [u * x / c, u, u * (1 - x) / (1 - d)]\n",
      "/anaconda3/lib/python3.6/site-packages/scipy/stats/_continuous_distns.py:5243: RuntimeWarning: divide by zero encountered in true_divide\n",
      "  return np.where(x < c, 2*x/c, 2*(1-x)/(1-c))\n",
      "/anaconda3/lib/python3.6/site-packages/scipy/stats/_continuous_distns.py:5350: RuntimeWarning: divide by zero encountered in log\n",
      "  self._logdelta = np.log(self._delta)\n",
      "/anaconda3/lib/python3.6/site-packages/scipy/stats/_continuous_distns.py:5350: RuntimeWarning: invalid value encountered in log\n",
      "  self._logdelta = np.log(self._delta)\n"
     ]
    },
    {
     "name": "stdout",
     "output_type": "stream",
     "text": [
      "Fitted truncnorm distribution with error=6816.197893638962)\n",
      "Fitted tukeylambda distribution with error=6816.197893638962)\n",
      "SKIPPED uniform distribution (taking more than 30 seconds)\n",
      "Fitted vonmises distribution with error=11863915434.623177)\n",
      "Fitted vonmises_line distribution with error=6671.273879304638)\n",
      "SKIPPED wald distribution (taking more than 30 seconds)\n",
      "Fitted weibull_max distribution with error=5695.701879572831)\n",
      "SKIPPED weibull_min distribution (taking more than 30 seconds)\n",
      "SKIPPED wrapcauchy distribution (taking more than 30 seconds)\n"
     ]
    }
   ],
   "source": [
    "g.fit()"
   ]
  },
  {
   "cell_type": "code",
   "execution_count": 13,
   "metadata": {},
   "outputs": [
    {
     "data": {
      "text/html": [
       "<div>\n",
       "<style scoped>\n",
       "    .dataframe tbody tr th:only-of-type {\n",
       "        vertical-align: middle;\n",
       "    }\n",
       "\n",
       "    .dataframe tbody tr th {\n",
       "        vertical-align: top;\n",
       "    }\n",
       "\n",
       "    .dataframe thead th {\n",
       "        text-align: right;\n",
       "    }\n",
       "</style>\n",
       "<table border=\"1\" class=\"dataframe\">\n",
       "  <thead>\n",
       "    <tr style=\"text-align: right;\">\n",
       "      <th></th>\n",
       "      <th>sumsquare_error</th>\n",
       "    </tr>\n",
       "  </thead>\n",
       "  <tbody>\n",
       "    <tr>\n",
       "      <th>genextreme</th>\n",
       "      <td>4930.426380</td>\n",
       "    </tr>\n",
       "    <tr>\n",
       "      <th>pearson3</th>\n",
       "      <td>5149.583974</td>\n",
       "    </tr>\n",
       "    <tr>\n",
       "      <th>gennorm</th>\n",
       "      <td>5170.720503</td>\n",
       "    </tr>\n",
       "    <tr>\n",
       "      <th>dgamma</th>\n",
       "      <td>5576.385897</td>\n",
       "    </tr>\n",
       "    <tr>\n",
       "      <th>weibull_max</th>\n",
       "      <td>5695.701880</td>\n",
       "    </tr>\n",
       "  </tbody>\n",
       "</table>\n",
       "</div>"
      ],
      "text/plain": [
       "             sumsquare_error\n",
       "genextreme       4930.426380\n",
       "pearson3         5149.583974\n",
       "gennorm          5170.720503\n",
       "dgamma           5576.385897\n",
       "weibull_max      5695.701880"
      ]
     },
     "execution_count": 13,
     "metadata": {},
     "output_type": "execute_result"
    },
    {
     "data": {
      "image/png": "[encoded data removed]",
      "text/plain": [
       "<matplotlib.figure.Figure at 0x1a0d13f828>"
      ]
     },
     "metadata": {},
     "output_type": "display_data"
    }
   ],
   "source": [
    "g.summary()"
   ]
  }
 ],
 "metadata": {
  "kernelspec": {
   "display_name": "Python 3",
   "language": "python",
   "name": "python3"
  },
  "language_info": {
   "codemirror_mode": {
    "name": "ipython",
    "version": 3
   },
   "file_extension": ".py",
   "mimetype": "text/x-python",
   "name": "python",
   "nbconvert_exporter": "python",
   "pygments_lexer": "ipython3",
   "version": "3.6.4"
  }
 },
 "nbformat": 4,
 "nbformat_minor": 2
}
