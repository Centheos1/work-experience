{
 "cells": [
  {
   "cell_type": "markdown",
   "metadata": {},
   "source": [
    "<img src=\"http://imgur.com/1ZcRyrc.png\" style=\"float: left; margin: 20px; height: 55px\">\n",
    "\n",
    "# Project 1: Python Coding Exercises\n",
    "\n",
    "_Authors: Joseph Nelson (DC) _\n",
    "\n",
    "---"
   ]
  },
  {
   "cell_type": "markdown",
   "metadata": {},
   "source": [
    "The following code challenges are drawn from common exercises used in technical interviews.\n",
    "\n",
    "Please note that there may be several ways to approach each challenge. If you get stuck, try mapping out your approach in pseudocode first. Finally, while solutions to problems like these may be found online, remember that if you copy/paste code that you can't explain, you'll be missing out on the point of the project. The only way to truly learn a new skill is through practice, trial, and error - we can only help you improve by understanding where you are having trouble."
   ]
  },
  {
   "cell_type": "markdown",
   "metadata": {},
   "source": [
    "### Challenge 1: Largest Palindrome\n",
    "A palindromic number reads the same both ways. For example, 1234321 is a palindrome. The largest palindrome made from the product of two two-digit numbers is 9009 = 91 × 99. Find the largest palindrome made from the product of two three-digit numbers. Afterward, write a brief explanation walking through your code's logic in markdown."
   ]
  },
  {
   "cell_type": "code",
   "execution_count": 1,
   "metadata": {
    "collapsed": true
   },
   "outputs": [
    {
     "data": {
      "text/plain": [
       "580085"
      ]
     },
     "execution_count": 1,
     "metadata": {},
     "output_type": "execute_result"
    }
   ],
   "source": [
    "# print('a')\n",
    "def largest_palindrom():\n",
    "    for k in range(999,100,-1):\n",
    "        for j in range(999,100,-1):\n",
    "            if is_palindromic(str(k*j)):\n",
    "                return k*j\n",
    "\n",
    "def is_palindromic(num):\n",
    "    length = len(num)\n",
    "    middle = (len(num) // 2)\n",
    "    left = num[0:middle]\n",
    "    if length % 2 == 0:\n",
    "        right = num[length:middle-1:-1]\n",
    "    else:\n",
    "        right = num[length:middle:-1]\n",
    "#     print(left, right) \n",
    "    if left == right:\n",
    "#         print('true')\n",
    "        return True\n",
    "    else:\n",
    "#         print('false')\n",
    "        return False\n",
    "    \n",
    "largest_palindrom()\n",
    "# is_palindromic('123321')"
   ]
  },
  {
   "cell_type": "markdown",
   "metadata": {},
   "source": [
    "I started at the largest 3 digit multipul 999 x 999 and iterated in decending order testing each if each multipul is a palindrom until I found one then vola."
   ]
  },
  {
   "cell_type": "markdown",
   "metadata": {},
   "source": [
    "\n",
    "### Challenge 2: Summation of Primes\n",
    "The sum of the primes below 10 is 2 + 3 + 5 + 7 = 17. Find the sum of all the primes below 2,000. Afterward, write a brief explanation walking through your code's logic in markdown."
   ]
  },
  {
   "cell_type": "code",
   "execution_count": 8,
   "metadata": {
    "collapsed": true
   },
   "outputs": [
    {
     "data": {
      "text/plain": [
       "277050"
      ]
     },
     "execution_count": 8,
     "metadata": {},
     "output_type": "execute_result"
    }
   ],
   "source": [
    "import math\n",
    "# def is_prime(num):\n",
    "#     sqr_root = math.sqrt(num)\n",
    "#     for i in range(2,int(sqr_root+1)):\n",
    "#         if num % i == 0:\n",
    "#             return False\n",
    "#     return True\n",
    "\n",
    "# Driver function to test\n",
    "# if is_prime(7):\n",
    "#     print('true')\n",
    "# else:\n",
    "#     print('false')\n",
    "\n",
    "sum_of_primes = 0\n",
    "for num in range (2,2000):\n",
    "    if is_prime(num):\n",
    "        sum_of_primes += num\n",
    "#         print(sum_of_primes)\n",
    "    \n",
    "def is_prime(n) :\n",
    "    # Corner cases\n",
    "    if (n <= 1) :\n",
    "        return False\n",
    "    if (n <= 3) :\n",
    "        return True\n",
    " \n",
    "    # This is checked so that we can skip \n",
    "    # middle five numbers in below loop\n",
    "    if (n % 2 == 0 or n % 3 == 0) :\n",
    "        return False\n",
    " \n",
    "    i = 5\n",
    "    while(i * i <= n) :\n",
    "        if (n % i == 0 or n % (i + 2) == 0) :\n",
    "            return False\n",
    "        i = i + 6\n",
    "    return True\n",
    "\n",
    "sum_of_primes"
   ]
  },
  {
   "cell_type": "markdown",
   "metadata": {},
   "source": [
    "refernce https://www.geeksforgeeks.org/primality-test-set-1-introduction-and-school-method/\n",
    "\n",
    "Optimized School Method \n",
    "We can do following optimizations:\n",
    "\n",
    "Instead of checking till n, we can check till √n because a larger factor of n must be a multiple of smaller factor that has been already checked.\n",
    "The algorithm can be improved further by observing that all primes are of the form 6k ± 1, with the exception of 2 and 3. This is because all integers can be expressed as (6k + i) for some integer k and for i = ?1, 0, 1, 2, 3, or 4; 2 divides (6k + 0), (6k + 2), (6k + 4); and 3 divides (6k + 3). So a more efficient method is to test if n is divisible by 2 or 3, then to check through all the numbers of form 6k ± 1. (Source: wikipedia)\n",
    "Below is the implementation of this solution.\n",
    "\n",
    "My original solution is commented out but after some research there is an optimised solution to reduce the 0(n) comlexity for testing is prime.\n"
   ]
  },
  {
   "cell_type": "markdown",
   "metadata": {},
   "source": [
    "### Challenge 3: Multiples of 3 and 5\n",
    "If we list all of the natural numbers below 10 that are multiples of 3 or 5, we get 3, 5, 6, and 9. The sum of these multiples is 23. Find the sum of all the multiples of 3 and 5 below 1,000. Afterward, write a brief explanation walking through your code's logic in markdown."
   ]
  },
  {
   "cell_type": "code",
   "execution_count": 11,
   "metadata": {
    "collapsed": true
   },
   "outputs": [
    {
     "data": {
      "text/plain": [
       "233168"
      ]
     },
     "execution_count": 11,
     "metadata": {},
     "output_type": "execute_result"
    }
   ],
   "source": [
    "sum_of_3_or_5_multipuls = 0\n",
    "for i in range(1,1000):\n",
    "    if i % 3 == 0 or i % 5 == 0:\n",
    "        sum_of_3_or_5_multipuls += i\n",
    "sum_of_3_or_5_multipuls"
   ]
  },
  {
   "cell_type": "markdown",
   "metadata": {},
   "source": [
    "looped through a range of 1 to 1999 and if the number was a multipul of 3 or 5 added to the sum"
   ]
  },
  {
   "cell_type": "markdown",
   "metadata": {},
   "source": [
    "### Challenge 4: String Compressor\n",
    "Implement a method to perform basic string compression using the counts of repeated characters. (This is called run-length encoding.) For example, the string \"aabcccccaaa\" would become a2b1c5a3. If the “compressed” string would not become smaller than the original string, your method should return the original string. You can assume the string has only uppercase and lowercase letters (a–z). Specify whether your solution is case sensitive or case insensitive and what you would need to change to make it the other. Afterward, write a brief explanation walking through your code's logic in markdown."
   ]
  },
  {
   "cell_type": "code",
   "execution_count": 48,
   "metadata": {
    "collapsed": true
   },
   "outputs": [
    {
     "name": "stdout",
     "output_type": "stream",
     "text": [
      "a5b6c5a4\n"
     ]
    }
   ],
   "source": [
    "test_string = \"aaaaabbbbbbcccccaaaa\"\n",
    "test_list = list(test_string)\n",
    "test_list\n",
    "compressed_string = ''\n",
    "index = 0\n",
    "probe = index+1\n",
    "count = 1\n",
    "while index < len(test_list):\n",
    "    while probe < len(test_list) and test_list[index] == test_list[probe]:\n",
    "        count += 1\n",
    "        if probe < len(test_list):\n",
    "            probe += 1\n",
    "#         print('count: '+str(count)+' probe: '+str(probe))\n",
    "    compressed_string += test_list[index]+str(count)\n",
    "    count = 0\n",
    "    index = probe\n",
    "\n",
    "print(compressed_string)"
   ]
  },
  {
   "cell_type": "markdown",
   "metadata": {},
   "source": [
    "### *BONUS* Challenge: FizzBuzz\n",
    "Write a program that prints all of the numbers from 1 to 100. For multiples of 3, instead of the number, print \"Fizz;\" for multiples of 5, print \"Buzz.\" For numbers that are multiples of both 3 and 5, print \"FizzBuzz.\" Afterward, write a brief explanation walking through your code's logic in markdown."
   ]
  },
  {
   "cell_type": "markdown",
   "metadata": {},
   "source": [
    "for i in range(0,100):\n",
    "    if (i+1)%5 ==0 and (i+1)%3 ==0:\n",
    "        print('fizzbuzz')\n",
    "    elif (i+1)%3 ==0:\n",
    "        print('fizz')\n",
    "    elif (i+1)%5 ==0:\n",
    "        print('buzz')\n",
    "    else:\n",
    "        print(i+1)"
   ]
  },
  {
   "cell_type": "markdown",
   "metadata": {},
   "source": [
    "iterate from 0 to 99 and use modulos to check if iterator plus 1 is a multipul of 5 and 3, then if not multipul of 3, then 5 else print the number"
   ]
  }
 ],
 "metadata": {
  "anaconda-cloud": {},
  "kernelspec": {
   "display_name": "Python 3",
   "language": "python",
   "name": "python3"
  },
  "language_info": {
   "codemirror_mode": {
    "name": "ipython",
    "version": 3
   },
   "file_extension": ".py",
   "mimetype": "text/x-python",
   "name": "python",
   "nbconvert_exporter": "python",
   "pygments_lexer": "ipython3",
   "version": "3.6.4"
  }
 },
 "nbformat": 4,
 "nbformat_minor": 2
}
